{
 "cells": [
  {
   "cell_type": "code",
   "execution_count": 1,
   "id": "ec88aed7",
   "metadata": {},
   "outputs": [
    {
     "data": {
      "text/plain": [
       "'Testing out Basket Performance using JPMaQS.'"
      ]
     },
     "execution_count": 1,
     "metadata": {},
     "output_type": "execute_result"
    }
   ],
   "source": [
    "\"\"\"Testing out Basket Performance using JPMaQS.\"\"\""
   ]
  },
  {
   "cell_type": "code",
   "execution_count": 2,
   "id": "5b03db60",
   "metadata": {},
   "outputs": [],
   "source": [
    "import yaml\n",
    "from macrosynergy.management.dq import DataQueryInterface\n",
    "from macrosynergy.panel.basket_performance import *\n",
    "import warnings\n",
    "\n",
    "warnings.filterwarnings(\"ignore\")"
   ]
  },
  {
   "cell_type": "code",
   "execution_count": 3,
   "id": "84f7f2c9",
   "metadata": {},
   "outputs": [],
   "source": [
    "def dq_output(tickers=None, xcats=None, cids=None, metrics=['value'],\n",
    "              start_date='2000-01-01'):\n",
    "\n",
    "    with open(\"config.yml\", 'r') as f:\n",
    "        cf = yaml.load(f, Loader=yaml.FullLoader)\n",
    "\n",
    "    dq = DataQueryInterface(username=cf[\"dq\"][\"username\"], password=cf[\"dq\"][\"password\"],\n",
    "                            crt=\"api_macrosynergy_com.crt\",\n",
    "                            key=\"api_macrosynergy_com.key\")\n",
    "\n",
    "    df_ts = dq.download(tickers=tickers, xcats=xcats, cids=cids, metrics=metrics,\n",
    "                        start_date=start_date)\n",
    "\n",
    "    return df_ts"
   ]
  },
  {
   "cell_type": "code",
   "execution_count": 4,
   "id": "abf447c8",
   "metadata": {},
   "outputs": [],
   "source": [
    "cids_dmca = ['AUD', 'CAD', 'CHF', 'EUR', 'GBP', 'JPY', 'NOK', 'NZD', 'SEK',\n",
    "                 'USD']  # DM currency areas\n",
    "cids_dmec = ['DEM', 'ESP', 'FRF', 'ITL', 'NLG']  # DM euro area countries\n",
    "cids_latm = ['ARS', 'BRL', 'COP', 'CLP', 'MXN', 'PEN']  # Latam countries\n",
    "cids_emea = ['HUF', 'ILS', 'PLN', 'RON', 'RUB', 'TRY', 'ZAR']  # EMEA countries\n",
    "cids_emas = ['CNY', 'HKD', 'IDR', 'INR', 'KRW', 'MYR', 'PHP', 'SGD', 'THB',\n",
    "                 'TWD']  # EM Asia countries\n",
    "\n",
    "cids_eufx = ['CHF', 'HUF', 'NOK', 'PLN', 'RON', 'SEK']  # EUR benchmark\n",
    "cids_g2fx = ['GBP', 'RUB', 'TRY']  # dual benchmark\n",
    "cids_usfx = ['AUD', 'BRL', 'CAD', 'CLP', 'CNY', 'COP', 'EUR', 'IDR', 'ILS', 'INR',\n",
    "             'JPY', 'KRW', 'MYR',\n",
    "             'MXN', 'NZD', 'PEN', 'PHP', 'SGD', 'THB', 'TWD', 'ZAR']"
   ]
  },
  {
   "cell_type": "code",
   "execution_count": 5,
   "id": "b28989a4",
   "metadata": {},
   "outputs": [
    {
     "name": "stdout",
     "output_type": "stream",
     "text": [
      "       cid       xcat  real_date  value\n",
      "0      AUD  EQCRY_NSA 2000-01-03    NaN\n",
      "1      AUD  EQCRY_NSA 2000-01-04    NaN\n",
      "2      AUD  EQCRY_NSA 2000-01-05    NaN\n",
      "3      AUD  EQCRY_NSA 2000-01-06    NaN\n",
      "4      AUD  EQCRY_NSA 2000-01-07    NaN\n",
      "...    ...        ...        ...    ...\n",
      "91355  GBP   FXXR_NSA 2021-11-15    NaN\n",
      "91356  GBP   FXXR_NSA 2021-11-16    NaN\n",
      "91357  GBP   FXXR_NSA 2021-11-17    NaN\n",
      "91358  GBP   FXXR_NSA 2021-11-18    NaN\n",
      "91359  GBP   FXXR_NSA 2021-11-19    NaN\n",
      "\n",
      "[91360 rows x 4 columns]\n"
     ]
    }
   ],
   "source": [
    "cids = ['AUD', 'GBP', 'CHF', 'CAD']\n",
    "metrics = ['value']\n",
    "\n",
    "rets = ['EQXR_NSA', 'FXXR_NSA']\n",
    "cry = ['FXCRY_NSA', 'EQCRY_NSA']\n",
    "\n",
    "xcats = rets + cry\n",
    "\n",
    "dfd = dq_output(cids=cids, xcats=xcats, metrics=metrics, start_date=\"2000-01-01\")\n",
    "print(dfd)\n",
    "\n",
    "# Todo: add value category with only positive values that can serve as weight\n",
    "black = {'AUD': ['2000-01-01', '2003-12-31'], 'GBP': ['2018-01-01', '2100-01-01']}\n",
    "contracts = ['AUD_FX', 'AUD_EQ', 'CHF_FX', 'GBP_EQ', 'CAD_EQ']"
   ]
  },
  {
   "cell_type": "code",
   "execution_count": 6,
   "id": "8f4c8013",
   "metadata": {},
   "outputs": [
    {
     "name": "stdout",
     "output_type": "stream",
     "text": [
      "              ticker  real_date     value\n",
      "0     GLB_ALL_XR_NSA 2000-01-03  0.113118\n",
      "1     GLB_ALL_XR_NSA 2000-01-04 -1.797716\n",
      "2     GLB_ALL_XR_NSA 2000-01-05 -1.026415\n",
      "3     GLB_ALL_XR_NSA 2000-01-06 -0.744445\n",
      "4     GLB_ALL_XR_NSA 2000-01-07  1.378595\n",
      "...              ...        ...       ...\n",
      "5705  GLB_ALL_XR_NSA 2021-11-15 -0.005907\n",
      "5706  GLB_ALL_XR_NSA 2021-11-16 -0.300870\n",
      "5707  GLB_ALL_XR_NSA 2021-11-17 -0.405056\n",
      "5708  GLB_ALL_XR_NSA 2021-11-18  0.004191\n",
      "5709  GLB_ALL_XR_NSA 2021-11-19  0.023986\n",
      "\n",
      "[5710 rows x 3 columns]\n",
      "                ticker  real_date     value\n",
      "0       GLB_ALL_XR_NSA 2000-01-03  0.113118\n",
      "1       GLB_ALL_XR_NSA 2000-01-04 -1.797716\n",
      "2       GLB_ALL_XR_NSA 2000-01-05 -1.026415\n",
      "3       GLB_ALL_XR_NSA 2000-01-06 -0.744445\n",
      "4       GLB_ALL_XR_NSA 2000-01-07  1.378595\n",
      "...                ...        ...       ...\n",
      "11415  GLB_ALL_CRY_NSA 2021-11-15  0.000000\n",
      "11416  GLB_ALL_CRY_NSA 2021-11-16  0.000000\n",
      "11417  GLB_ALL_CRY_NSA 2021-11-17  0.000000\n",
      "11418  GLB_ALL_CRY_NSA 2021-11-18  0.000000\n",
      "11419  GLB_ALL_CRY_NSA 2021-11-19  0.000000\n",
      "\n",
      "[11420 rows x 3 columns]\n",
      "                  ticker  real_date     value\n",
      "0         GLB_ALL_XR_NSA 2000-02-29  0.177556\n",
      "1         GLB_ALL_XR_NSA 2000-03-01 -0.117201\n",
      "2         GLB_ALL_XR_NSA 2000-03-02  0.254556\n",
      "3         GLB_ALL_XR_NSA 2000-03-03  0.147365\n",
      "4         GLB_ALL_XR_NSA 2000-03-06 -0.096103\n",
      "...                  ...        ...       ...\n",
      "33895  CAD_EQXR_NSA_WGTS 2021-11-18  0.338699\n",
      "33896  GBP_EQXR_NSA_WGTS 2021-11-18  0.373649\n",
      "33897  AUD_EQXR_NSA_WGTS 2021-11-19  0.284978\n",
      "33898  CAD_EQXR_NSA_WGTS 2021-11-19  0.338024\n",
      "33899  GBP_EQXR_NSA_WGTS 2021-11-19  0.376998\n",
      "\n",
      "[33900 rows x 3 columns]\n",
      "              ticker  real_date     value\n",
      "0     GLB_ALL_XR_NSA 2000-01-03  0.182731\n",
      "1     GLB_ALL_XR_NSA 2000-01-04 -1.389451\n",
      "2     GLB_ALL_XR_NSA 2000-01-05 -0.689330\n",
      "3     GLB_ALL_XR_NSA 2000-01-06 -0.740467\n",
      "4     GLB_ALL_XR_NSA 2000-01-07  1.249899\n",
      "...              ...        ...       ...\n",
      "5705  GLB_ALL_XR_NSA 2021-11-15 -0.019845\n",
      "5706  GLB_ALL_XR_NSA 2021-11-16 -0.246049\n",
      "5707  GLB_ALL_XR_NSA 2021-11-17 -0.461268\n",
      "5708  GLB_ALL_XR_NSA 2021-11-18 -0.143746\n",
      "5709  GLB_ALL_XR_NSA 2021-11-19 -0.117398\n",
      "\n",
      "[5710 rows x 3 columns]\n"
     ]
    }
   ],
   "source": [
    "gdp_figures = [17.0, 17.0, 41.0, 9.0, 250]\n",
    "dfd_2 = basket_performance(dfd, contracts, ret='XR_NSA', cry=None, blacklist=black,\n",
    "                           weight_meth='fixed', weights=gdp_figures,\n",
    "                           wgt=None, max_weight=0.35, return_weights=False, \n",
    "                           data_query=True)\n",
    "\n",
    "print(dfd_2)\n",
    "\n",
    "dfd_3 = basket_performance(dfd, contracts, ret='XR_NSA', cry='CRY_NSA', blacklist=black,\n",
    "                           weight_meth='fixed', weights=gdp_figures,\n",
    "                           wgt=None, max_weight=0.35, return_weights=False, \n",
    "                           data_query=True)\n",
    "\n",
    "print(dfd_3)\n",
    "\n",
    "dfd_4 = basket_performance(dfd, contracts, ret='XR_NSA', cry=None,\n",
    "                           weight_meth='invsd', weights=None,\n",
    "                           lback_meth=\"xma\", lback_periods=21,\n",
    "                           wgt=None, max_weight=0.4, return_weights=True, \n",
    "                           data_query=True)\n",
    "print(dfd_4)\n",
    "\n",
    "dfd_5 = basket_performance(dfd, contracts, ret='XR_NSA', cry=None,\n",
    "                           weight_meth='equal', wgt=None, max_weight=0.41,\n",
    "                           return_weights=False, data_query=True)\n",
    "print(dfd_5)\n",
    "\n",
    "# The only weighting method which has not been tested is weight_meth = \"values\".\n",
    "# Previously, the categories defined were: xcats = ['FX_XR', 'FX_CRY', 'EQ_XR', 'EQ_CRY', 'FX_WGT', 'EQ_WGT'] where\n",
    "# ['FX_WGT', 'EQ_WGT'] are contrived categories designed to act as weights on the other categories in the List: FX & EQ.\n",
    "# The code reflects the above input format. However, the current logic, I believe, is insufficient.\n",
    "\n",
    "# Firstly, in order to support mutiple contracts on a single cross-section, a corresponding number of external weight\n",
    "# categories are required but, in the current format, the parameter wgt receives a string which only works if the aforementioned\n",
    "# weight categories, in the dataframe dfd, have the same symbol. \n",
    "# For instance, \"WGT\". What would be the DataQuery equivalent ? The code being referenced is: \n",
    "# ticks_wgt = [c + \"_\" + wgt for c in contracts]\n",
    "# dfw_ticks_wgt = dfx[dfx[\"ticker\"].isin(ticks_wgt)]\n",
    "\n",
    "contracts = ['AUD_FX', 'AUD_EQ', 'CHF_FX', 'GBP_EQ', 'CAD_EQ']\n",
    "xcats = ['FX_XR', 'FX_CRY', 'EQ_XR', 'EQ_CRY', 'FX_WGT', 'EQ_WGT']\n",
    "# Secondly, the categories and contracts, defined above and used for testing in basket_performance.py file, present \n",
    "# a perfect balance. There are two unique categories represented in the List of contracts, and consequently \n",
    "# leaving two external categories, ['FX_WGT', 'EQ_WGT'], in the dataframe, dfd, that can be used as the weights.\n",
    "# It would seem unrealistic for all user engagements to also possess such a paradigm. What if the dataframe, dfd, is only\n",
    "# defined over three categories and two referenced in the contract List where one cross-section is defined over both\n",
    "# categories ? There would be an imbalance in the current setup.\n",
    "\n",
    "# Maybe I've misunderstood or I'm overthinking but thought I'd present my concerns."
   ]
  }
 ],
 "metadata": {
  "kernelspec": {
   "display_name": "Python 3",
   "language": "python",
   "name": "python3"
  },
  "language_info": {
   "codemirror_mode": {
    "name": "ipython",
    "version": 3
   },
   "file_extension": ".py",
   "mimetype": "text/x-python",
   "name": "python",
   "nbconvert_exporter": "python",
   "pygments_lexer": "ipython3",
   "version": "3.8.8"
  }
 },
 "nbformat": 4,
 "nbformat_minor": 5
}
