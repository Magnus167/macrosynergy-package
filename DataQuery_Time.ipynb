{
 "cells": [
  {
   "cell_type": "code",
   "execution_count": 1,
   "id": "deb42fe1",
   "metadata": {},
   "outputs": [
    {
     "name": "stdout",
     "output_type": "stream",
     "text": [
      "Current working directory: /Users/kurransteeds/repos/macrosynergy\n"
     ]
    }
   ],
   "source": [
    "import yaml\n",
    "import numpy as np\n",
    "import pandas as pd\n",
    "import time\n",
    "\n",
    "from macrosynergy.management.dq import DataQueryInterface\n",
    "\n",
    "import os\n",
    "print(f\"Current working directory: {os.getcwd()}\")\n",
    "path_to_config = '..//data//'"
   ]
  },
  {
   "cell_type": "code",
   "execution_count": 2,
   "id": "76502483",
   "metadata": {},
   "outputs": [],
   "source": [
    "cids_dmca = ['AUD', 'CAD', 'CHF', 'EUR', 'GBP', 'JPY', 'NOK', 'NZD', 'SEK', 'USD']  # DM currency areas\n",
    "cids_dmec = ['DEM', 'ESP', 'FRF', 'ITL', 'NLG']  # DM euro area countries\n",
    "cids_latm = ['ARS', 'BRL', 'COP', 'CLP', 'MXN', 'PEN']  # Latam countries\n",
    "cids_emea = ['HUF', 'ILS', 'PLN', 'RON', 'RUB', 'TRY', 'ZAR']  # EMEA countries\n",
    "cids_emas = ['CNY', 'HKD', 'IDR', 'INR', 'KRW', 'MYR', 'PHP', 'SGD', 'THB', 'TWD']  # EM Asia countries\n",
    "cids_dm = cids_dmca + cids_dmec\n",
    "cids_em = cids_latm + cids_emea + cids_emas\n",
    "cids = sorted(cids_dm + cids_em)\n",
    "\n",
    "cids_eufx = ['CHF', 'HUF', 'NOK', 'PLN', 'RON', 'SEK']  # EUR benchmark\n",
    "cids_g2fx = ['GBP', 'RUB', 'TRY']  # dual benchmark\n",
    "cids_usfx = ['AUD', 'BRL', 'CAD', 'CLP', 'CNY', 'COP', 'EUR', 'IDR', 'ILS', 'INR', 'JPY', 'KRW', 'MYR',\n",
    "             'MXN', 'NZD', 'PEN', 'PHP', 'SGD', 'THB', 'TWD', 'ZAR']  # USD benchmark\n",
    "cids_fx = cids_usfx + cids_eufx + cids_g2fx\n",
    "\n",
    "cids += cids_fx"
   ]
  },
  {
   "cell_type": "code",
   "execution_count": 3,
   "id": "f7eca2f9",
   "metadata": {},
   "outputs": [],
   "source": [
    "def dq_output(tickers=None, xcats=None, cids=None, metrics=['value'],\n",
    "              start_date='2000-01-01'):\n",
    "\n",
    "    with open(\"config.yml\", 'r') as f:\n",
    "        cf = yaml.load(f, Loader=yaml.FullLoader)\n",
    "\n",
    "    dq = DataQueryInterface(username=cf[\"dq\"][\"username\"], password=cf[\"dq\"][\"password\"],\n",
    "                            crt=\"api_macrosynergy_com.crt\",\n",
    "                            key=\"api_macrosynergy_com.key\")\n",
    "\n",
    "    df_ts = dq.download(tickers=tickers, xcats=xcats, cids=cids, metrics=metrics,\n",
    "                        start_date=start_date, suppress_warning=True)\n",
    "\n",
    "    return df_ts"
   ]
  },
  {
   "cell_type": "code",
   "execution_count": 4,
   "id": "0245c4f3",
   "metadata": {},
   "outputs": [
    {
     "name": "stdout",
     "output_type": "stream",
     "text": [
      "'popitem(): dictionary is empty'\n",
      "None of the tickers are available in the Database.\n",
      "Time taken for the above category, _MTBGDPRATIO_SA_3MMA: 41.81248497962952\n"
     ]
    }
   ],
   "source": [
    "\n",
    "tix_1 = [cid + '_MTBGDPRATIO_SA_3MMA' for cid in cids]\n",
    "start = time.time()\n",
    "df = dq_output(tix_1, start_date='2000-01-01')\n",
    "print(f\"Time taken for the above category, _MTBGDPRATIO_SA_3MMA: {time.time() - start}\")"
   ]
  },
  {
   "cell_type": "code",
   "execution_count": 5,
   "id": "13bbf89c",
   "metadata": {},
   "outputs": [
    {
     "name": "stdout",
     "output_type": "stream",
     "text": [
      "Time taken for the above category, _DPCREDITGDP_NSA: 90.52676510810852\n",
      "        cid             xcat  real_date       value\n",
      "0       AUD  DPCREDITGDP_NSA 2000-01-03  127.336450\n",
      "1       AUD  DPCREDITGDP_NSA 2000-01-04  127.336450\n",
      "2       AUD  DPCREDITGDP_NSA 2000-01-05  127.336450\n",
      "3       AUD  DPCREDITGDP_NSA 2000-01-06  127.336450\n",
      "4       AUD  DPCREDITGDP_NSA 2000-01-07  127.336450\n",
      "...     ...              ...        ...         ...\n",
      "177036  ZAR  DPCREDITGDP_NSA 2021-11-16   75.647123\n",
      "177037  ZAR  DPCREDITGDP_NSA 2021-11-17   75.647123\n",
      "177038  ZAR  DPCREDITGDP_NSA 2021-11-18   75.647123\n",
      "177039  ZAR  DPCREDITGDP_NSA 2021-11-19   75.647123\n",
      "177040  ZAR  DPCREDITGDP_NSA 2021-11-22         NaN\n",
      "\n",
      "[177041 rows x 4 columns]\n"
     ]
    }
   ],
   "source": [
    "start = time.time()\n",
    "tix_1 = [cid + '_DPCREDITGDP_NSA' for cid in cids]\n",
    "df = dq_output(tix_1, start_date='2000-01-01')\n",
    "print(f\"Time taken for the above category, _DPCREDITGDP_NSA: {time.time() - start}\")\n",
    "print(df)"
   ]
  },
  {
   "cell_type": "code",
   "execution_count": 6,
   "id": "51e3b95a",
   "metadata": {},
   "outputs": [
    {
     "name": "stdout",
     "output_type": "stream",
     "text": [
      "Time taken for the above category, _INTRGDP_NSA_P1M1ML12_3MMA: 94.28352904319763\n"
     ]
    }
   ],
   "source": [
    "start = time.time()\n",
    "tix_1 = [cid + '_INTRGDP_NSA_P1M1ML12_3MMA' for cid in cids]\n",
    "df = dq_output(tix_1, start_date='2000-01-01')\n",
    "print(f\"Time taken for the above category, _INTRGDP_NSA_P1M1ML12_3MMA: {time.time() - start}\")"
   ]
  },
  {
   "cell_type": "code",
   "execution_count": 7,
   "id": "9fef2644",
   "metadata": {},
   "outputs": [
    {
     "name": "stdout",
     "output_type": "stream",
     "text": [
      "Time taken for the above category, _CPIXFE_SA_P1M1ML12_D1M1ML3: 127.7160849571228\n"
     ]
    }
   ],
   "source": [
    "start = time.time()\n",
    "tix_1 = [cid + '_CPIXFE_SA_P1M1ML12_D1M1ML3' for cid in cids]\n",
    "df = dq_output(tix_1, start_date='2000-01-01')\n",
    "print(f\"Time taken for the above category, _CPIXFE_SA_P1M1ML12_D1M1ML3: {time.time() - start}\")"
   ]
  }
 ],
 "metadata": {
  "kernelspec": {
   "display_name": "Python 3",
   "language": "python",
   "name": "python3"
  },
  "language_info": {
   "codemirror_mode": {
    "name": "ipython",
    "version": 3
   },
   "file_extension": ".py",
   "mimetype": "text/x-python",
   "name": "python",
   "nbconvert_exporter": "python",
   "pygments_lexer": "ipython3",
   "version": "3.8.8"
  }
 },
 "nbformat": 4,
 "nbformat_minor": 5
}
