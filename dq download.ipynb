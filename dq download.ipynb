{
 "cells": [
  {
   "cell_type": "markdown",
   "metadata": {},
   "source": [
    "# Get packages and data"
   ]
  },
  {
   "cell_type": "code",
   "execution_count": 1,
   "metadata": {},
   "outputs": [],
   "source": [
    "import sqlalchemy\n",
    "import numpy as np\n",
    "import pandas as pd\n",
    "import matplotlib.pyplot as plt\n",
    "import seaborn as sns\n",
    "import math\n",
    "import yaml\n",
    "\n",
    "import macrosynergy.management as msm\n",
    "import macrosynergy.panel as msp\n",
    "import macrosynergy.signal as mss\n",
    "\n",
    "## import qstools.indicators as qsi\n",
    "\n",
    "import warnings\n",
    "warnings.simplefilter('ignore')"
   ]
  },
  {
   "cell_type": "markdown",
   "metadata": {},
   "source": [
    "import macrosynergy.management as msm\n",
    "with open(\"..//data//config.yml\", 'r') as f:\n",
    "    cf = yaml.load(f, Loader=yaml.FullLoader)\n",
    "\n",
    "with msm.DataQueryInterface(\n",
    "            username=cf[\"dq\"][\"username\"],\n",
    "            password=cf[\"dq\"][\"password\"],\n",
    "            crt=\"..//data//api_macrosynergy_com.crt\",\n",
    "            key=\"..//data//api_macrosynergy_com.key\") as dq:\n",
    "    print(\"Connected: \", dq.check_connection())\n",
    "    r = dq.get_ts_expression(expression=\"DB(JPMAQS,GBP_FXXR_NSA,value)\", start_date = \"2000-01-01\")"
   ]
  },
  {
   "cell_type": "code",
   "execution_count": 2,
   "metadata": {},
   "outputs": [],
   "source": [
    "def dq_single_ticker(tick, metric='value', path = '..//data//'):\n",
    "    \n",
    "    \"\"\"\n",
    "    Returns standardized dataframe of single ticker\n",
    "    \n",
    "    \n",
    "    :param <str> tick: JPMaQS ticker of form <cid>_<xcat>\n",
    "    :param <str> metric: metric that is requested, must be 'value', 'eop_lag', 'mop_lag', or 'grade'\n",
    "    :param <str> path: relative path from notebook to credential files\n",
    "    \n",
    "    :return <pd.Dataframe> standardized dataframe with columns 'cid', 'xcats', 'real_date' and 'value.\n",
    "    \"\"\"\n",
    "    \n",
    "    with open(f\"{path}config.yml\", 'r') as f:\n",
    "        cf = yaml.load(f, Loader=yaml.FullLoader)\n",
    "\n",
    "    with msm.DataQueryInterface(\n",
    "                username=cf[\"dq\"][\"username\"],\n",
    "                password=cf[\"dq\"][\"password\"],\n",
    "                crt=f\"{path}api_macrosynergy_com.crt\",\n",
    "                key=f\"{path}api_macrosynergy_com.key\") as dq:\n",
    "        print(\"Connected: \", dq.check_connection())\n",
    "        r = dq.get_ts_expression(expression=f\"DB(JPMAQS,{tick},{metric})\", start_date = \"2000-01-01\")\n",
    "        \n",
    "    attributes = r[0]['attributes'][0]\n",
    "    ar_ts = np.array(attributes['time-series'])\n",
    "\n",
    "    ticker = attributes['expression'].split(',')[1]\n",
    "    cid, xcat = ticker.split('_', maxsplit=1)  # split string only at first underscore\n",
    "\n",
    "    ar_cid = np.repeat(cid, repeats = time_series.shape[0])\n",
    "    ar_xcat = np.repeat(xcat, repeats = time_series.shape[0])\n",
    "\n",
    "    ar_all = np.column_stack((ar_cid, ar_xcat, ar_ts))\n",
    "    columns = ['cid', 'xcat', 'real_date', 'value']\n",
    "    df = pd.DataFrame(data = ar_all, columns = columns)\n",
    "\n",
    "    df['real_date'] = pd.to_datetime(df['real_date'], yearfirst = True)\n",
    "    df = df[df['real_date'].dt.dayofweek < 5]  # remove Sats and Suns\n",
    "    df = df.fillna(value=np.nan)  # replace Nones\n",
    "    \n",
    "    return df"
   ]
  },
  {
   "cell_type": "code",
   "execution_count": 3,
   "metadata": {},
   "outputs": [
    {
     "ename": "FileNotFoundError",
     "evalue": "[Errno 2] No such file or directory: '..//data//config.yml'",
     "output_type": "error",
     "traceback": [
      "\u001b[0;31m---------------------------------------------------------------------------\u001b[0m",
      "\u001b[0;31mFileNotFoundError\u001b[0m                         Traceback (most recent call last)",
      "\u001b[0;32m<ipython-input-3-6abcc7273987>\u001b[0m in \u001b[0;36m<module>\u001b[0;34m\u001b[0m\n\u001b[0;32m----> 1\u001b[0;31m \u001b[0mdf_i\u001b[0m \u001b[0;34m=\u001b[0m \u001b[0mdq_single_ticker\u001b[0m\u001b[0;34m(\u001b[0m\u001b[0;34m'GBP_FXXR_NSA'\u001b[0m\u001b[0;34m,\u001b[0m \u001b[0mmetric\u001b[0m\u001b[0;34m=\u001b[0m\u001b[0;34m'value'\u001b[0m\u001b[0;34m,\u001b[0m \u001b[0mpath\u001b[0m \u001b[0;34m=\u001b[0m \u001b[0;34m'..//data//'\u001b[0m\u001b[0;34m)\u001b[0m\u001b[0;34m\u001b[0m\u001b[0;34m\u001b[0m\u001b[0m\n\u001b[0m",
      "\u001b[0;32m<ipython-input-2-1e822fd99c47>\u001b[0m in \u001b[0;36mdq_single_ticker\u001b[0;34m(tick, metric, path)\u001b[0m\n\u001b[1;32m     12\u001b[0m     \"\"\"\n\u001b[1;32m     13\u001b[0m \u001b[0;34m\u001b[0m\u001b[0m\n\u001b[0;32m---> 14\u001b[0;31m     \u001b[0;32mwith\u001b[0m \u001b[0mopen\u001b[0m\u001b[0;34m(\u001b[0m\u001b[0;34mf\"{path}config.yml\"\u001b[0m\u001b[0;34m,\u001b[0m \u001b[0;34m'r'\u001b[0m\u001b[0;34m)\u001b[0m \u001b[0;32mas\u001b[0m \u001b[0mf\u001b[0m\u001b[0;34m:\u001b[0m\u001b[0;34m\u001b[0m\u001b[0;34m\u001b[0m\u001b[0m\n\u001b[0m\u001b[1;32m     15\u001b[0m         \u001b[0mcf\u001b[0m \u001b[0;34m=\u001b[0m \u001b[0myaml\u001b[0m\u001b[0;34m.\u001b[0m\u001b[0mload\u001b[0m\u001b[0;34m(\u001b[0m\u001b[0mf\u001b[0m\u001b[0;34m,\u001b[0m \u001b[0mLoader\u001b[0m\u001b[0;34m=\u001b[0m\u001b[0myaml\u001b[0m\u001b[0;34m.\u001b[0m\u001b[0mFullLoader\u001b[0m\u001b[0;34m)\u001b[0m\u001b[0;34m\u001b[0m\u001b[0;34m\u001b[0m\u001b[0m\n\u001b[1;32m     16\u001b[0m \u001b[0;34m\u001b[0m\u001b[0m\n",
      "\u001b[0;31mFileNotFoundError\u001b[0m: [Errno 2] No such file or directory: '..//data//config.yml'"
     ]
    }
   ],
   "source": [
    "df_i = dq_single_ticker('GBP_FXXR_NSA', metric='value', path = '..//data//')"
   ]
  },
  {
   "cell_type": "code",
   "execution_count": 77,
   "metadata": {},
   "outputs": [
    {
     "data": {
      "text/html": [
       "<div>\n",
       "<style scoped>\n",
       "    .dataframe tbody tr th:only-of-type {\n",
       "        vertical-align: middle;\n",
       "    }\n",
       "\n",
       "    .dataframe tbody tr th {\n",
       "        vertical-align: top;\n",
       "    }\n",
       "\n",
       "    .dataframe thead th {\n",
       "        text-align: right;\n",
       "    }\n",
       "</style>\n",
       "<table border=\"1\" class=\"dataframe\">\n",
       "  <thead>\n",
       "    <tr style=\"text-align: right;\">\n",
       "      <th></th>\n",
       "      <th>cid</th>\n",
       "      <th>xcat</th>\n",
       "      <th>real_date</th>\n",
       "      <th>value</th>\n",
       "    </tr>\n",
       "  </thead>\n",
       "  <tbody>\n",
       "    <tr>\n",
       "      <th>2</th>\n",
       "      <td>GBP</td>\n",
       "      <td>FXXR_NSA</td>\n",
       "      <td>2000-01-03</td>\n",
       "      <td>0.982100</td>\n",
       "    </tr>\n",
       "    <tr>\n",
       "      <th>3</th>\n",
       "      <td>GBP</td>\n",
       "      <td>FXXR_NSA</td>\n",
       "      <td>2000-01-04</td>\n",
       "      <td>-0.639361</td>\n",
       "    </tr>\n",
       "    <tr>\n",
       "      <th>4</th>\n",
       "      <td>GBP</td>\n",
       "      <td>FXXR_NSA</td>\n",
       "      <td>2000-01-05</td>\n",
       "      <td>0.281824</td>\n",
       "    </tr>\n",
       "    <tr>\n",
       "      <th>5</th>\n",
       "      <td>GBP</td>\n",
       "      <td>FXXR_NSA</td>\n",
       "      <td>2000-01-06</td>\n",
       "      <td>0.284847</td>\n",
       "    </tr>\n",
       "    <tr>\n",
       "      <th>6</th>\n",
       "      <td>GBP</td>\n",
       "      <td>FXXR_NSA</td>\n",
       "      <td>2000-01-07</td>\n",
       "      <td>-0.318615</td>\n",
       "    </tr>\n",
       "    <tr>\n",
       "      <th>...</th>\n",
       "      <td>...</td>\n",
       "      <td>...</td>\n",
       "      <td>...</td>\n",
       "      <td>...</td>\n",
       "    </tr>\n",
       "    <tr>\n",
       "      <th>7950</th>\n",
       "      <td>GBP</td>\n",
       "      <td>FXXR_NSA</td>\n",
       "      <td>2021-10-07</td>\n",
       "      <td>0.321967</td>\n",
       "    </tr>\n",
       "    <tr>\n",
       "      <th>7951</th>\n",
       "      <td>GBP</td>\n",
       "      <td>FXXR_NSA</td>\n",
       "      <td>2021-10-08</td>\n",
       "      <td>0.053512</td>\n",
       "    </tr>\n",
       "    <tr>\n",
       "      <th>7954</th>\n",
       "      <td>GBP</td>\n",
       "      <td>FXXR_NSA</td>\n",
       "      <td>2021-10-11</td>\n",
       "      <td>-0.079867</td>\n",
       "    </tr>\n",
       "    <tr>\n",
       "      <th>7955</th>\n",
       "      <td>GBP</td>\n",
       "      <td>FXXR_NSA</td>\n",
       "      <td>2021-10-12</td>\n",
       "      <td>-0.085202</td>\n",
       "    </tr>\n",
       "    <tr>\n",
       "      <th>7956</th>\n",
       "      <td>GBP</td>\n",
       "      <td>FXXR_NSA</td>\n",
       "      <td>2021-10-13</td>\n",
       "      <td>NaN</td>\n",
       "    </tr>\n",
       "  </tbody>\n",
       "</table>\n",
       "<p>5683 rows × 4 columns</p>\n",
       "</div>"
      ],
      "text/plain": [
       "      cid      xcat  real_date     value\n",
       "2     GBP  FXXR_NSA 2000-01-03  0.982100\n",
       "3     GBP  FXXR_NSA 2000-01-04 -0.639361\n",
       "4     GBP  FXXR_NSA 2000-01-05  0.281824\n",
       "5     GBP  FXXR_NSA 2000-01-06  0.284847\n",
       "6     GBP  FXXR_NSA 2000-01-07 -0.318615\n",
       "...   ...       ...        ...       ...\n",
       "7950  GBP  FXXR_NSA 2021-10-07  0.321967\n",
       "7951  GBP  FXXR_NSA 2021-10-08  0.053512\n",
       "7954  GBP  FXXR_NSA 2021-10-11 -0.079867\n",
       "7955  GBP  FXXR_NSA 2021-10-12 -0.085202\n",
       "7956  GBP  FXXR_NSA 2021-10-13       NaN\n",
       "\n",
       "[5683 rows x 4 columns]"
      ]
     },
     "execution_count": 77,
     "metadata": {},
     "output_type": "execute_result"
    }
   ],
   "source": [
    "df_i"
   ]
  }
 ],
 "metadata": {
  "kernelspec": {
   "display_name": "Python 3",
   "language": "python",
   "name": "python3"
  },
  "language_info": {
   "codemirror_mode": {
    "name": "ipython",
    "version": 3
   },
   "file_extension": ".py",
   "mimetype": "text/x-python",
   "name": "python",
   "nbconvert_exporter": "python",
   "pygments_lexer": "ipython3",
   "version": "3.8.8"
  },
  "varInspector": {
   "cols": {
    "lenName": 16,
    "lenType": 16,
    "lenVar": 40
   },
   "kernels_config": {
    "python": {
     "delete_cmd_postfix": "",
     "delete_cmd_prefix": "del ",
     "library": "var_list.py",
     "varRefreshCmd": "print(var_dic_list())"
    },
    "r": {
     "delete_cmd_postfix": ") ",
     "delete_cmd_prefix": "rm(",
     "library": "var_list.r",
     "varRefreshCmd": "cat(var_dic_list()) "
    }
   },
   "types_to_exclude": [
    "module",
    "function",
    "builtin_function_or_method",
    "instance",
    "_Feature"
   ],
   "window_display": false
  }
 },
 "nbformat": 4,
 "nbformat_minor": 4
}
