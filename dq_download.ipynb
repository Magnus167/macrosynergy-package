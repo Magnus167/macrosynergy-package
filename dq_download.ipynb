{
 "cells": [
  {
   "cell_type": "code",
   "execution_count": 1,
   "id": "deb42fe1",
   "metadata": {},
   "outputs": [
    {
     "name": "stdout",
     "output_type": "stream",
     "text": [
      "Current working directory: /Users/kurransteeds/repos/macrosynergy\n"
     ]
    }
   ],
   "source": [
    "import yaml\n",
    "import numpy as np\n",
    "import pandas as pd\n",
    "import time\n",
    "\n",
    "from macrosynergy.management.dq import DataQueryInterface\n",
    "\n",
    "import os\n",
    "print(f\"Current working directory: {os.getcwd()}\")\n",
    "path_to_config = '..//data//'"
   ]
  },
  {
   "cell_type": "code",
   "execution_count": 2,
   "id": "76502483",
   "metadata": {},
   "outputs": [],
   "source": [
    "cids_dmca = ['AUD', 'CAD', 'CHF', 'EUR', 'GBP', 'JPY', 'NOK', 'NZD', 'SEK', 'USD']  # DM currency areas\n",
    "cids_dmec = ['DEM', 'ESP', 'FRF', 'ITL', 'NLG']  # DM euro area countries\n",
    "cids_latm = ['ARS', 'BRL', 'COP', 'CLP', 'MXN', 'PEN']  # Latam countries\n",
    "cids_emea = ['HUF', 'ILS', 'PLN', 'RON', 'RUB', 'TRY', 'ZAR']  # EMEA countries\n",
    "cids_emas = ['CNY', 'HKD', 'IDR', 'INR', 'KRW', 'MYR', 'PHP', 'SGD', 'THB', 'TWD']  # EM Asia countries\n",
    "cids_dm = cids_dmca + cids_dmec\n",
    "cids_em = cids_latm + cids_emea + cids_emas\n",
    "cids = sorted(cids_dm + cids_em)\n",
    "\n",
    "cids_eufx = ['CHF', 'HUF', 'NOK', 'PLN', 'RON', 'SEK']  # EUR benchmark\n",
    "cids_g2fx = ['GBP', 'RUB', 'TRY']  # dual benchmark\n",
    "cids_usfx = ['AUD', 'BRL', 'CAD', 'CLP', 'CNY', 'COP', 'EUR', 'IDR', 'ILS', 'INR', 'JPY', 'KRW', 'MYR',\n",
    "             'MXN', 'NZD', 'PEN', 'PHP', 'SGD', 'THB', 'TWD', 'ZAR']  # USD benchmark\n",
    "cids_fx = cids_usfx + cids_eufx + cids_g2fx"
   ]
  },
  {
   "cell_type": "code",
   "execution_count": 3,
   "id": "f7eca2f9",
   "metadata": {},
   "outputs": [],
   "source": [
    "def dq_tickers(tickers, metrics=['value'], start_date = '2000-01-01', path = '..//data//'):\n",
    "    \n",
    "    \"\"\"\n",
    "    Returns standardized dataframe of specified base tickers and metrics\n",
    "    \n",
    "    \n",
    "    :param <str> tickers: JPMaQS ticker of form <cid>_<xcat>.\n",
    "    :param <str> metrics: must choose one or more from 'value', 'eop_lag', 'mop_lag', or 'grade'. Default is ['value'].\n",
    "    :param <str> start_date: first date in ISO 8601 string format. \n",
    "    :param <str> path: relative path from notebook to credential files.\n",
    "    \n",
    "    :return <pd.Dataframe> standardized dataframe with columns 'cid', 'xcats', 'real_date' and chosen metrics.\n",
    "    \"\"\"\n",
    "\n",
    "\n",
    "    unique_tickers = list(set(tickers))\n",
    "    unique_tickers.sort()\n",
    "    dq_tickers = []\n",
    "    for metric in metrics:\n",
    "        dq_tickers = dq_tickers + [\"DB(JPMAQS,\" + tick + f\",{metric})\" for tick in unique_tickers]\n",
    "        \n",
    "    with open(\"config.yml\", 'r') as f:\n",
    "        cf = yaml.load(f, Loader=yaml.FullLoader)\n",
    "\n",
    "    with DataQueryInterface(\n",
    "            username=cf[\"dq\"][\"username\"],\n",
    "            password=cf[\"dq\"][\"password\"],\n",
    "            crt=\"api_macrosynergy_com.crt\",\n",
    "            key=\"api_macrosynergy_com.key\",\n",
    "            debug=False) as dq:\n",
    "        \n",
    "        print(\"Connected: \", dq.check_connection())\n",
    "        df = dq.get_ts_expression(expression=dq_tickers, original_metrics=metrics, start_date=start_date)\n",
    "        \n",
    "        if isinstance(df, pd.DataFrame):\n",
    "            df = df.sort_values(['cid', 'xcat', 'real_date']).reset_index(drop=True)\n",
    "\n",
    "            return df"
   ]
  },
  {
   "cell_type": "code",
   "execution_count": 4,
   "id": "0245c4f3",
   "metadata": {},
   "outputs": [
    {
     "name": "stdout",
     "output_type": "stream",
     "text": [
      "Connected:  True\n"
     ]
    },
    {
     "name": "stderr",
     "output_type": "stream",
     "text": [
      "IOPub data rate exceeded.\n",
      "The notebook server will temporarily stop sending output\n",
      "to the client in order to avoid crashing it.\n",
      "To change this limit, set the config variable\n",
      "`--NotebookApp.iopub_data_rate_limit`.\n",
      "\n",
      "Current values:\n",
      "NotebookApp.iopub_data_rate_limit=1000000.0 (bytes/sec)\n",
      "NotebookApp.rate_limit_window=3.0 (secs)\n",
      "\n"
     ]
    },
    {
     "name": "stdout",
     "output_type": "stream",
     "text": [
      "The ticker, DB(JPMAQS,NLG_MTBGDPRATIO_SA_3MMA, does not exist in the Database.\n",
      "The ticker, DB(JPMAQS,ZAR_MTBGDPRATIO_SA_3MMA, does not exist in the Database.\n",
      "The ticker, DB(JPMAQS,PHP_MTBGDPRATIO_SA_3MMA, does not exist in the Database.\n",
      "The ticker, DB(JPMAQS,SEK_MTBGDPRATIO_SA_3MMA, does not exist in the Database.\n",
      "The ticker, DB(JPMAQS,KRW_MTBGDPRATIO_SA_3MMA, does not exist in the Database.\n",
      "The ticker, DB(JPMAQS,USD_MTBGDPRATIO_SA_3MMA, does not exist in the Database.\n",
      "The ticker, DB(JPMAQS,TWD_MTBGDPRATIO_SA_3MMA, does not exist in the Database.\n",
      "The ticker, DB(JPMAQS,MXN_MTBGDPRATIO_SA_3MMA, does not exist in the Database.\n",
      "The ticker, DB(JPMAQS,TRY_MTBGDPRATIO_SA_3MMA, does not exist in the Database.\n",
      "The ticker, DB(JPMAQS,NOK_MTBGDPRATIO_SA_3MMA, does not exist in the Database.\n",
      "The ticker, DB(JPMAQS,SGD_MTBGDPRATIO_SA_3MMA, does not exist in the Database.\n",
      "The ticker, DB(JPMAQS,RON_MTBGDPRATIO_SA_3MMA, does not exist in the Database.\n",
      "The ticker, DB(JPMAQS,PEN_MTBGDPRATIO_SA_3MMA, does not exist in the Database.\n",
      "The ticker, DB(JPMAQS,RUB_MTBGDPRATIO_SA_3MMA, does not exist in the Database.\n",
      "The ticker, DB(JPMAQS,PLN_MTBGDPRATIO_SA_3MMA, does not exist in the Database.\n",
      "The ticker, DB(JPMAQS,THB_MTBGDPRATIO_SA_3MMA, does not exist in the Database.\n",
      "The ticker, DB(JPMAQS,NZD_MTBGDPRATIO_SA_3MMA, does not exist in the Database.\n",
      "The ticker, DB(JPMAQS,MYR_MTBGDPRATIO_SA_3MMA, does not exist in the Database.\n",
      "The ticker, DB(JPMAQS,EUR_MTBGDPRATIO_SA_3MMA, does not exist in the Database.\n",
      "The ticker, DB(JPMAQS,ESP_MTBGDPRATIO_SA_3MMA, does not exist in the Database.\n",
      "The ticker, DB(JPMAQS,ILS_MTBGDPRATIO_SA_3MMA, does not exist in the Database.\n",
      "The ticker, DB(JPMAQS,HUF_MTBGDPRATIO_SA_3MMA, does not exist in the Database.\n",
      "The ticker, DB(JPMAQS,HKD_MTBGDPRATIO_SA_3MMA, does not exist in the Database.\n",
      "The ticker, DB(JPMAQS,GBP_MTBGDPRATIO_SA_3MMA, does not exist in the Database.\n",
      "The ticker, DB(JPMAQS,CAD_MTBGDPRATIO_SA_3MMA, does not exist in the Database.\n",
      "The ticker, DB(JPMAQS,BRL_MTBGDPRATIO_SA_3MMA, does not exist in the Database.\n",
      "The ticker, DB(JPMAQS,ITL_MTBGDPRATIO_SA_3MMA, does not exist in the Database.\n",
      "The ticker, DB(JPMAQS,JPY_MTBGDPRATIO_SA_3MMA, does not exist in the Database.\n",
      "The ticker, DB(JPMAQS,CNY_MTBGDPRATIO_SA_3MMA, does not exist in the Database.\n",
      "The ticker, DB(JPMAQS,IDR_MTBGDPRATIO_SA_3MMA, does not exist in the Database.\n",
      "The ticker, DB(JPMAQS,CLP_MTBGDPRATIO_SA_3MMA, does not exist in the Database.\n",
      "The ticker, DB(JPMAQS,ARS_MTBGDPRATIO_SA_3MMA, does not exist in the Database.\n",
      "The ticker, DB(JPMAQS,AUD_MTBGDPRATIO_SA_3MMA, does not exist in the Database.\n",
      "The ticker, DB(JPMAQS,INR_MTBGDPRATIO_SA_3MMA, does not exist in the Database.\n",
      "The ticker, DB(JPMAQS,FRF_MTBGDPRATIO_SA_3MMA, does not exist in the Database.\n",
      "The ticker, DB(JPMAQS,CHF_MTBGDPRATIO_SA_3MMA, does not exist in the Database.\n",
      "The ticker, DB(JPMAQS,COP_MTBGDPRATIO_SA_3MMA, does not exist in the Database.\n",
      "The ticker, DB(JPMAQS,DEM_MTBGDPRATIO_SA_3MMA, does not exist in the Database.\n",
      "'popitem(): dictionary is empty'\n",
      "None of the tickers are available in the Database.\n",
      "Time taken for the above category, _MTBGDPRATIO_SA_3MMA: 41.02897095680237\n"
     ]
    }
   ],
   "source": [
    "\n",
    "tix_1 = [cid + '_MTBGDPRATIO_SA_3MMA' for cid in cids]\n",
    "start = time.time()\n",
    "df = dq_tickers(tix_1, start_date='2000-01-01')\n",
    "print(f\"Time taken for the above category, _MTBGDPRATIO_SA_3MMA: {time.time() - start}\")"
   ]
  },
  {
   "cell_type": "code",
   "execution_count": 5,
   "id": "13bbf89c",
   "metadata": {},
   "outputs": [
    {
     "name": "stdout",
     "output_type": "stream",
     "text": [
      "Connected:  True\n"
     ]
    },
    {
     "name": "stderr",
     "output_type": "stream",
     "text": [
      "IOPub data rate exceeded.\n",
      "The notebook server will temporarily stop sending output\n",
      "to the client in order to avoid crashing it.\n",
      "To change this limit, set the config variable\n",
      "`--NotebookApp.iopub_data_rate_limit`.\n",
      "\n",
      "Current values:\n",
      "NotebookApp.iopub_data_rate_limit=1000000.0 (bytes/sec)\n",
      "NotebookApp.rate_limit_window=3.0 (secs)\n",
      "\n"
     ]
    },
    {
     "name": "stdout",
     "output_type": "stream",
     "text": [
      "        cid             xcat  real_date       value\n",
      "0       AUD  DPCREDITGDP_NSA 2000-01-03  127.336860\n",
      "1       AUD  DPCREDITGDP_NSA 2000-01-04  127.336860\n",
      "2       AUD  DPCREDITGDP_NSA 2000-01-05  127.336860\n",
      "3       AUD  DPCREDITGDP_NSA 2000-01-06  127.336860\n",
      "4       AUD  DPCREDITGDP_NSA 2000-01-07  127.336860\n",
      "...     ...              ...        ...         ...\n",
      "176540  ZAR  DPCREDITGDP_NSA 2021-10-25   75.647123\n",
      "176541  ZAR  DPCREDITGDP_NSA 2021-10-26   75.647123\n",
      "176542  ZAR  DPCREDITGDP_NSA 2021-10-27   75.647123\n",
      "176543  ZAR  DPCREDITGDP_NSA 2021-10-28   75.647123\n",
      "176544  ZAR  DPCREDITGDP_NSA 2021-10-29   75.647123\n",
      "\n",
      "[176545 rows x 4 columns]\n",
      "Time taken for the above category, _DPCREDITGDP_NSA: 70.8180160522461\n"
     ]
    }
   ],
   "source": [
    "start = time.time()\n",
    "tix_1 = [cid + '_DPCREDITGDP_NSA' for cid in cids]\n",
    "df = dq_tickers(tix_1, start_date='2000-01-01')\n",
    "print(df)\n",
    "print(f\"Time taken for the above category, _DPCREDITGDP_NSA: {time.time() - start}\")"
   ]
  },
  {
   "cell_type": "code",
   "execution_count": 6,
   "id": "51e3b95a",
   "metadata": {},
   "outputs": [
    {
     "name": "stdout",
     "output_type": "stream",
     "text": [
      "Connected:  True\n"
     ]
    },
    {
     "name": "stderr",
     "output_type": "stream",
     "text": [
      "IOPub data rate exceeded.\n",
      "The notebook server will temporarily stop sending output\n",
      "to the client in order to avoid crashing it.\n",
      "To change this limit, set the config variable\n",
      "`--NotebookApp.iopub_data_rate_limit`.\n",
      "\n",
      "Current values:\n",
      "NotebookApp.iopub_data_rate_limit=1000000.0 (bytes/sec)\n",
      "NotebookApp.rate_limit_window=3.0 (secs)\n",
      "\n"
     ]
    },
    {
     "name": "stdout",
     "output_type": "stream",
     "text": [
      "Time taken for the above category, _INTRGDP_NSA_P1M1ML12_3MMA: 68.43066024780273\n"
     ]
    }
   ],
   "source": [
    "start = time.time()\n",
    "tix_1 = [cid + '_INTRGDP_NSA_P1M1ML12_3MMA' for cid in cids]\n",
    "df = dq_tickers(tix_1, start_date='2000-01-01')\n",
    "print(f\"Time taken for the above category, _INTRGDP_NSA_P1M1ML12_3MMA: {time.time() - start}\")"
   ]
  },
  {
   "cell_type": "code",
   "execution_count": 7,
   "id": "9fef2644",
   "metadata": {},
   "outputs": [
    {
     "name": "stdout",
     "output_type": "stream",
     "text": [
      "Connected:  True\n"
     ]
    },
    {
     "name": "stderr",
     "output_type": "stream",
     "text": [
      "IOPub data rate exceeded.\n",
      "The notebook server will temporarily stop sending output\n",
      "to the client in order to avoid crashing it.\n",
      "To change this limit, set the config variable\n",
      "`--NotebookApp.iopub_data_rate_limit`.\n",
      "\n",
      "Current values:\n",
      "NotebookApp.iopub_data_rate_limit=1000000.0 (bytes/sec)\n",
      "NotebookApp.rate_limit_window=3.0 (secs)\n",
      "\n"
     ]
    },
    {
     "name": "stdout",
     "output_type": "stream",
     "text": [
      "The ticker, DB(JPMAQS,NLG_CPIXFE_SA_P1M1ML12_D1M1ML3, does not exist in the Database.\n",
      "The ticker, DB(JPMAQS,HKD_CPIXFE_SA_P1M1ML12_D1M1ML3, does not exist in the Database.\n",
      "The ticker, DB(JPMAQS,ESP_CPIXFE_SA_P1M1ML12_D1M1ML3, does not exist in the Database.\n",
      "The ticker, DB(JPMAQS,ITL_CPIXFE_SA_P1M1ML12_D1M1ML3, does not exist in the Database.\n",
      "The ticker, DB(JPMAQS,FRF_CPIXFE_SA_P1M1ML12_D1M1ML3, does not exist in the Database.\n",
      "The ticker, DB(JPMAQS,ARS_CPIXFE_SA_P1M1ML12_D1M1ML3, does not exist in the Database.\n",
      "The ticker, DB(JPMAQS,CLP_CPIXFE_SA_P1M1ML12_D1M1ML3, does not exist in the Database.\n",
      "The ticker, DB(JPMAQS,DEM_CPIXFE_SA_P1M1ML12_D1M1ML3, does not exist in the Database.\n",
      "Time taken for the above category, _CPIXFE_SA_P1M1ML12_D1M1ML3: 83.32797622680664\n"
     ]
    }
   ],
   "source": [
    "start = time.time()\n",
    "tix_1 = [cid + '_CPIXFE_SA_P1M1ML12_D1M1ML3' for cid in cids]\n",
    "df = dq_tickers(tix_1, start_date='2000-01-01')\n",
    "print(f\"Time taken for the above category, _CPIXFE_SA_P1M1ML12_D1M1ML3: {time.time() - start}\")"
   ]
  }
 ],
 "metadata": {
  "kernelspec": {
   "display_name": "Python 3",
   "language": "python",
   "name": "python3"
  },
  "language_info": {
   "codemirror_mode": {
    "name": "ipython",
    "version": 3
   },
   "file_extension": ".py",
   "mimetype": "text/x-python",
   "name": "python",
   "nbconvert_exporter": "python",
   "pygments_lexer": "ipython3",
   "version": "3.8.8"
  }
 },
 "nbformat": 4,
 "nbformat_minor": 5
}
