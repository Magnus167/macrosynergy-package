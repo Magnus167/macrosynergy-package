{
 "cells": [
  {
   "cell_type": "markdown",
   "metadata": {
    "heading_collapsed": true
   },
   "source": [
    "## Set up notebook"
   ]
  },
  {
   "cell_type": "markdown",
   "metadata": {
    "hidden": true
   },
   "source": [
    "The first step is to import standard python packages and the class `DataQueryInterface` from the `macrosynergy.management` module."
   ]
  },
  {
   "cell_type": "code",
   "execution_count": 1,
   "metadata": {
    "hidden": true
   },
   "outputs": [],
   "source": [
    "import numpy as np\n",
    "import pandas as pd\n",
    "import matplotlib as mpl\n",
    "import matplotlib.pyplot as plt\n",
    "import seaborn as sns\n",
    "import yaml\n",
    "\n",
    "from timeit import default_timer as timer\n",
    "from datetime import timedelta, date\n",
    "\n",
    "from macrosynergy.management.dq import DataQueryInterface\n",
    "\n",
    "import warnings\n",
    "warnings.simplefilter('ignore')"
   ]
  },
  {
   "cell_type": "markdown",
   "metadata": {
    "hidden": true
   },
   "source": [
    "Next we define cross-sectional identifiers for potentially relevant countries or currency areas. These are the basis for forming data panels (sets of comparable time series) across markets.\n",
    "\n",
    "Most cross section identifiers refer to currencies, currency areas or - in the case of euro area countries - economic areas. The currency names are in alphabetical order: AUD (Australian dollar), BRL (Brazilean real), CAD (Canadian dollar), CHF (Swiss franc), CLP (Chilean peso), CNY (Chinese yuan renminbi), COP (Colombian peso), CZK (Czech Republic koruna), DEM (German mark), ESP (Spanish peseta), EUR (euro), FRF (French franc), GBP (British pound), HKD (Hong Kong dollar), HUF (Hungarian forint), IDR (Indonesian rupiah), ILS (Israeli shekel), INR (Indian rupee), ITL (Italian lira), JPY (Japanese yen), KRW (Korean won), MXN (Mexican peso), MYR (Malaysian ringgit), NLG (Dutch guilder), NOK (Norwegian krone), NZD (New Zealand dollar), PEN (Peruvian sol), PHP (Philippine peso), PLN (Polish zloty), RON (Romanian leu), RUB (Russian ruble), SEK (Swedish krona), SGD (Singaporean dollar), THB (Thai baht), TRY (Turkish lira), TWD (Taiwanese dollar), USD (U.S. dollar), ZAR (South African rand)."
   ]
  },
  {
   "cell_type": "code",
   "execution_count": 2,
   "metadata": {
    "hidden": true
   },
   "outputs": [],
   "source": [
    "cids_dmca = ['AUD', 'CAD', 'CHF', 'EUR', 'GBP', 'JPY', 'NOK', 'NZD', 'SEK', 'USD']  # DM currency areas\n",
    "cids_dmec = ['DEM', 'ESP', 'FRF', 'ITL', 'NLG']  # DM euro area countries\n",
    "cids_latm = ['BRL', 'COP', 'CLP', 'MXN', 'PEN']  # Latam countries\n",
    "cids_emea = ['HUF', 'ILS', 'PLN', 'RON', 'RUB', 'TRY', 'ZAR']  # EMEA countries\n",
    "cids_emas = ['CNY', 'HKD', 'IDR', 'INR', 'KRW', 'MYR', 'PHP', 'SGD', 'THB', 'TWD']  # EM Asia countries\n",
    "cids_dm = cids_dmca + cids_dmec\n",
    "cids_em = cids_latm + cids_emea + cids_emas\n",
    "cids = sorted(cids_dm + cids_em)"
   ]
  },
  {
   "cell_type": "code",
   "execution_count": 3,
   "metadata": {
    "hidden": true
   },
   "outputs": [],
   "source": [
    "path = ''\n",
    "with open(f\"{path}config.yml\", 'r') as f:\n",
    "    cf = yaml.load(f, Loader=yaml.FullLoader)\n",
    "\n",
    "dq_username = cf[\"dq\"][\"username\"]  # replace by your username\n",
    "dq_password = cf[\"dq\"][\"password\"]  # replace by your password\n",
    "pki_crt = f\"{path}api_macrosynergy_com.crt\"  # replace by your public key certificate \n",
    "pki_key = f\"{path}api_macrosynergy_com.key\"   # replace by your PKI key "
   ]
  },
  {
   "cell_type": "code",
   "execution_count": 4,
   "metadata": {
    "hidden": true,
    "scrolled": true
   },
   "outputs": [
    {
     "name": "stdout",
     "output_type": "stream",
     "text": [
      "Download time from DQ: 0:12:20.652751\n",
      "Last updated: 2021-11-17\n"
     ]
    }
   ],
   "source": [
    "ecos = ['CPIXFE_SJA_P6M6ML6AR', 'IP_SA_P6M6ML6AR']  # example economic data\n",
    "mkts = ['RIR_NSA', 'EQCRR_NSA', 'FXCRR_NSA']  # example market data\n",
    "rets = ['EQXR_NSA', 'FXXR_NSA', 'DU05YXR_NSA', 'DU05YXR_VT10']  # example returns data\n",
    "xcats = ecos + mkts + rets  # list of categories to be downloaded\n",
    "\n",
    "dq = DataQueryInterface(username=dq_username, password=dq_password, crt=pki_crt, key=pki_key)  #  instantiate DQ interface\n",
    "\n",
    "start = timer()\n",
    "dfd = dq.download(xcats = xcats, metrics=['value'], start_date='2000-01-01', suppress_warning=True)  # import via API\n",
    "end = timer()\n",
    "\n",
    "print(\"Download time from DQ: \"+ str(timedelta(seconds=end - start)))\n",
    "print(\"Last updated:\", date.today())\n",
    "\n",
    "dfd['ticker'] = dfd['cid'] + '_' + dfd['xcat']  # add ticker composite column for convenience"
   ]
  },
  {
   "cell_type": "markdown",
   "metadata": {
    "hidden": true
   },
   "source": [
    "A quick check of size and shape of the downloaded dataframe:"
   ]
  },
  {
   "cell_type": "code",
   "execution_count": 5,
   "metadata": {
    "hidden": true
   },
   "outputs": [
    {
     "name": "stdout",
     "output_type": "stream",
     "text": [
      "<class 'pandas.core.frame.DataFrame'>\n",
      "RangeIndex: 1421043 entries, 0 to 1421042\n",
      "Data columns (total 5 columns):\n",
      " #   Column     Non-Null Count    Dtype         \n",
      "---  ------     --------------    -----         \n",
      " 0   cid        1421043 non-null  object        \n",
      " 1   xcat       1421043 non-null  object        \n",
      " 2   real_date  1421043 non-null  datetime64[ns]\n",
      " 3   value      1229951 non-null  float64       \n",
      " 4   ticker     1421043 non-null  object        \n",
      "dtypes: datetime64[ns](1), float64(1), object(3)\n",
      "memory usage: 54.2+ MB\n",
      "None\n"
     ]
    },
    {
     "data": {
      "text/html": [
       "<div>\n",
       "<style scoped>\n",
       "    .dataframe tbody tr th:only-of-type {\n",
       "        vertical-align: middle;\n",
       "    }\n",
       "\n",
       "    .dataframe tbody tr th {\n",
       "        vertical-align: top;\n",
       "    }\n",
       "\n",
       "    .dataframe thead th {\n",
       "        text-align: right;\n",
       "    }\n",
       "</style>\n",
       "<table border=\"1\" class=\"dataframe\">\n",
       "  <thead>\n",
       "    <tr style=\"text-align: right;\">\n",
       "      <th></th>\n",
       "      <th>cid</th>\n",
       "      <th>xcat</th>\n",
       "      <th>real_date</th>\n",
       "      <th>value</th>\n",
       "      <th>ticker</th>\n",
       "    </tr>\n",
       "  </thead>\n",
       "  <tbody>\n",
       "    <tr>\n",
       "      <th>0</th>\n",
       "      <td>AUD</td>\n",
       "      <td>CPIXFE_SJA_P6M6ML6AR</td>\n",
       "      <td>2000-01-03</td>\n",
       "      <td>0.61972</td>\n",
       "      <td>AUD_CPIXFE_SJA_P6M6ML6AR</td>\n",
       "    </tr>\n",
       "    <tr>\n",
       "      <th>1</th>\n",
       "      <td>AUD</td>\n",
       "      <td>CPIXFE_SJA_P6M6ML6AR</td>\n",
       "      <td>2000-01-04</td>\n",
       "      <td>0.61972</td>\n",
       "      <td>AUD_CPIXFE_SJA_P6M6ML6AR</td>\n",
       "    </tr>\n",
       "    <tr>\n",
       "      <th>2</th>\n",
       "      <td>AUD</td>\n",
       "      <td>CPIXFE_SJA_P6M6ML6AR</td>\n",
       "      <td>2000-01-05</td>\n",
       "      <td>0.61972</td>\n",
       "      <td>AUD_CPIXFE_SJA_P6M6ML6AR</td>\n",
       "    </tr>\n",
       "    <tr>\n",
       "      <th>3</th>\n",
       "      <td>AUD</td>\n",
       "      <td>CPIXFE_SJA_P6M6ML6AR</td>\n",
       "      <td>2000-01-06</td>\n",
       "      <td>0.61972</td>\n",
       "      <td>AUD_CPIXFE_SJA_P6M6ML6AR</td>\n",
       "    </tr>\n",
       "    <tr>\n",
       "      <th>4</th>\n",
       "      <td>AUD</td>\n",
       "      <td>CPIXFE_SJA_P6M6ML6AR</td>\n",
       "      <td>2000-01-07</td>\n",
       "      <td>0.61972</td>\n",
       "      <td>AUD_CPIXFE_SJA_P6M6ML6AR</td>\n",
       "    </tr>\n",
       "  </tbody>\n",
       "</table>\n",
       "</div>"
      ],
      "text/plain": [
       "   cid                  xcat  real_date    value                    ticker\n",
       "0  AUD  CPIXFE_SJA_P6M6ML6AR 2000-01-03  0.61972  AUD_CPIXFE_SJA_P6M6ML6AR\n",
       "1  AUD  CPIXFE_SJA_P6M6ML6AR 2000-01-04  0.61972  AUD_CPIXFE_SJA_P6M6ML6AR\n",
       "2  AUD  CPIXFE_SJA_P6M6ML6AR 2000-01-05  0.61972  AUD_CPIXFE_SJA_P6M6ML6AR\n",
       "3  AUD  CPIXFE_SJA_P6M6ML6AR 2000-01-06  0.61972  AUD_CPIXFE_SJA_P6M6ML6AR\n",
       "4  AUD  CPIXFE_SJA_P6M6ML6AR 2000-01-07  0.61972  AUD_CPIXFE_SJA_P6M6ML6AR"
      ]
     },
     "execution_count": 5,
     "metadata": {},
     "output_type": "execute_result"
    }
   ],
   "source": [
    "print(dfd.info())  # summarize available categories\n",
    "dfd.head()"
   ]
  },
  {
   "cell_type": "markdown",
   "metadata": {},
   "source": [
    "## Historical distributions of indicators"
   ]
  },
  {
   "cell_type": "markdown",
   "metadata": {},
   "source": [
    "### Histograms for single indicators"
   ]
  },
  {
   "cell_type": "markdown",
   "metadata": {},
   "source": [
    "A histogram provides a simplified visualization of the past empirical distribution. It shows the size of bins that fall into certain value ranges rather than actual values. In Seaborn the `sns.histplot()` has replaced the older `sns.distplot` method.\n",
    "Conveniently, it comes with a kernel density estimate overlay option, which can be exercised by setting the `kde` argument to True."
   ]
  },
  {
   "cell_type": "code",
   "execution_count": null,
   "metadata": {},
   "outputs": [],
   "source": [
    "dfx = dfd[dfd['real_date'] >= pd.to_datetime('2000-01-01')]  # set start date\n",
    "dfw = dfx.pivot(index='real_date', columns='ticker', values='value').replace(0, np.nan)  # bring df to wide format\n",
    "var = 'TRY_RIR_NSA'  # specified indicator to analyze\n",
    "\n",
    "col='teal'\n",
    "sns.set_theme(style='whitegrid', rc={'figure.figsize':(6, 4)})  #  choose appearance\n",
    "sns.histplot(x = var, data=dfw, bins=25, kde=True, color=col)  # histogram with custom bin number and kde overlay\n",
    "plt.axvline(x= np.mean(dfw[var]), color=col, linestyle='--')  # add vertical line for mean\n",
    "\n",
    "plt.title('Turkey real interest rate: mean and distribution', fontsize=13)  # add chart title\n",
    "plt.xlabel('% annualized', fontsize=11)  # overwrite standard x-axis label\n",
    "plt.ylabel('days observed', fontsize=11)  # overwrite standrad y-axis label\n",
    "plt.show()"
   ]
  },
  {
   "cell_type": "markdown",
   "metadata": {},
   "source": [
    "The `sns.histplot()` method can customize the width of the bins with the `binwidth` argument. One can also, change the units of the y axis with the `stat` argument from 'count' to 'frequency' (number of observations divided by the bin width),  'density' (normalizes counts so that the area of the histogram is 1) or 'probability' (normalizes counts so that the sum of the bar heights is 1)."
   ]
  },
  {
   "cell_type": "code",
   "execution_count": null,
   "metadata": {},
   "outputs": [],
   "source": [
    "dfx = dfd[dfd['real_date'] >= pd.to_datetime('2000-01-01')]  # set start date\n",
    "dfw = dfx.pivot(index='real_date', columns='ticker', values='value').replace(0, np.nan)  # bring df to wide format\n",
    "var = 'USD_CPIXFE_SJA_P6M6ML6AR'  # specified indicator to analyze\n",
    "\n",
    "col='royalblue'\n",
    "sns.set_theme(style='darkgrid', rc={'figure.figsize':(6, 4)})  #  choose appearance\n",
    "sns.histplot(x = var, data=dfw, binwidth=0.2, stat = 'probability')  # histogram pre-set bin-width and probability bars\n",
    "plt.axvline(x= np.mean(dfw[var]), color=col, linestyle='--')  # add vertical line for mean\n",
    "plt.axvline(x= dfw[var].dropna().iloc[-1], color='red', linestyle='--')  # add line for latest\n",
    "\n",
    "plt.title('U.S. core CPI trend, daily observed (red=latest)', fontsize=13)  # add chart title\n",
    "plt.xlabel('% annualized', fontsize=11)  # overwrite standard x-axis label\n",
    "plt.ylabel('historic probability (since 2000)', fontsize=11)  # overwrite standrad y-axis label\n",
    "plt.show()"
   ]
  },
  {
   "cell_type": "markdown",
   "metadata": {},
   "source": [
    "### Histograms for multiple indicators"
   ]
  },
  {
   "cell_type": "markdown",
   "metadata": {},
   "source": [
    "The `hue` argument allows displaying multiple counts or probabilities in one plot. This can serve two principal purposes. \n",
    "1. We can compare the distribution of the values of cross sections. For this purpose we choose the setting `multiple='layer`, which plots overlapping histograms. \n",
    "2. We can visual the contribution of various series or cross sections to a joint histogram, by setting `multiple='stacked'`."
   ]
  },
  {
   "cell_type": "code",
   "execution_count": null,
   "metadata": {},
   "outputs": [],
   "source": [
    "cids_sel = ['TWD', 'MXN', 'TRY']  # select small group of cross sections\n",
    "filt1 = dfd['xcat'] == 'FXCRR_NSA'  # choose (filter out) category\n",
    "filt2 = dfd['cid'].isin(cids_sel)  # choose cross sections\n",
    "filt3 = dfd['real_date'] >= pd.to_datetime('2010-01-01')  # set start date\n",
    "dfx = dfd[filt1 & filt2 & filt3][['value', 'cid']].replace(0, np.nan)  # dataframe in appropriate format\n",
    "\n",
    "colors = 'pastel'  # choose color palette\n",
    "sns.set_theme(style='whitegrid', rc={'figure.figsize':(8, 4)})  #  choose appearance\n",
    "ax = sns.histplot(x='value', data=dfx,  \n",
    "             hue='cid', element='poly', multiple='layer',  # use hue and polygons for overlapping cross sections\n",
    "             binrange=(-10, 20), binwidth = 1, stat='density', palette=colors)\n",
    "plt.title('Real FX forward carry distributions in comparison', fontsize=13)  # set title\n",
    "plt.xlabel('% annualized', fontsize=11)  # set x-axis label\n",
    "plt.ylabel('historic density', fontsize=11)  # set y-axis label\n",
    "leg = ax.axes.get_legend()  # add legend box to plot to identify cross sections\n",
    "leg.set_title('Currencies')  # give title to legend box\n",
    "plt.show()"
   ]
  },
  {
   "cell_type": "code",
   "execution_count": null,
   "metadata": {},
   "outputs": [],
   "source": [
    "cids_sel = ['MXN', 'TRY', 'TWD']  # select small group of cross sections\n",
    "filt1 = dfd['cid'].isin(cids_sel)  # filter out cross sections\n",
    "filt2 = dfd['xcat'] == 'FXCRR_NSA'  # filter out category\n",
    "filt3 = dfd['real_date'] >= pd.to_datetime('2010-01-01')  # set start date\n",
    "dfx = dfd[filt1 & filt2 & filt3][['value', 'cid']].sort_values('cid')  # dataframe in appropriate format\n",
    "\n",
    "colors = 'bone'  # choose color palette\n",
    "sns.set_theme(style='whitegrid', rc={'figure.figsize':(8, 4)})  #  choose appearance\n",
    "ax = sns.histplot(x='value', data=dfx,  \n",
    "             hue='cid', element='bars', multiple='stack',  # use hue and bars/stack for overlapping visualization\n",
    "             binrange=(-10, 20), binwidth = 0.5, stat='count', palette=colors)\n",
    "\n",
    "plt.title('Real FX forward carry distribution and latest values', fontsize=13)  # set title\n",
    "plt.xlabel('% annualized', fontsize=11)  # set x-axis label\n",
    "plt.ylabel('days observed', fontsize=11)  # set y-axis label\n",
    "leg = ax.axes.get_legend()  # add legend box to plot to identify cross sections\n",
    "leg.set_title('Currencies')  # give title to legend box\n",
    "plt.show()"
   ]
  },
  {
   "cell_type": "markdown",
   "metadata": {},
   "source": [
    "### Multi-indicator distribution graphs"
   ]
  },
  {
   "cell_type": "markdown",
   "metadata": {},
   "source": [
    "The boxplot is a **condensed categorical distribution plot**, which means it is particularly suitable for visualizing a few selected key distribution features across categories. In Seaborn this type of plot is managed by the `sns.boxplot()` method. The distributional features can be applied for one or multiple categories across a full range of cross sections.\n",
    "\n",
    "The **boxes** in these plots mark the <u>thresholds of the 25% and 75% percentiles</u> (inner quartile range) on the outer edges and the median in the centre. The **whiskers** are the ranges obtained by picking the largest or smallest data points respectively within range defined by <u>stretching the inner quartile range 1.5 times above or below the median</u>. Points outside this range are considered outliers."
   ]
  },
  {
   "cell_type": "code",
   "execution_count": null,
   "metadata": {},
   "outputs": [],
   "source": [
    "cids_sel = ['AUD', 'CAD', 'CHF', 'EUR', 'GBP', 'JPY', 'NOK', 'NZD', 'SEK', 'USD']  # select cross sections\n",
    "filt1 = dfd['cid'].isin(cids_sel)  #  filter out cross sections\n",
    "filt2 = dfd['xcat'] == 'CPIXFE_SJA_P6M6ML6AR'  #  filter out category\n",
    "\n",
    "dfx = dfd[filt1 & filt2][['value', 'cid', 'xcat']].sort_values('cid')  # dataframe in appropriate format \n",
    "\n",
    "color='darkgoldenrod'\n",
    "sns.set_theme(style='dark', rc={'figure.figsize':(7, 4)})  #  choose appearance\n",
    "ax = sns.boxplot(data=dfx, x='cid', y='value', color=color, width=0.75, fliersize=2)  # single category box-whiskers\n",
    "\n",
    "plt.axhline(y=0, color='black', linestyle='--', lw=1)  # horizontal line at zero\n",
    "plt.title('Core inflation trends', fontsize=13)  # set title\n",
    "plt.xlabel('')  # set x-axis label\n",
    "plt.ylabel('% annualized, days observed', fontsize=11)  # set y-axis label\n",
    "plt.show()"
   ]
  },
  {
   "cell_type": "markdown",
   "metadata": {},
   "source": [
    "Multiple categories for each cross section can be plotted by using the `hue` argument and setting it to the column name that is used for categorization."
   ]
  },
  {
   "cell_type": "code",
   "execution_count": null,
   "metadata": {},
   "outputs": [],
   "source": [
    "cids_sel = ['AUD', 'CAD', 'CHF', 'EUR', 'GBP', 'JPY', 'NOK', 'NZD', 'SEK']  # select cross sections\n",
    "xcats_sel = ['RIR_NSA', 'FXCRR_NSA']  # select categories\n",
    "filt1 = dfd['cid'].isin(cids_sel)  # filter out cross sections\n",
    "filt2 = dfd['xcat'].isin(xcats_sel)  # select category\n",
    "dfx = dfd[filt1 & filt2][['value', 'cid', 'xcat']].sort_values('cid')  # dataframe in appropriate format \n",
    "\n",
    "colors='hls'  # choose color palette\n",
    "sns.set_theme(style='whitegrid', rc={'figure.figsize':(8, 4)})  #  choose appearance\n",
    "ax = sns.boxplot(data=dfx, x='cid', y='value', hue='xcat',  # hue allows subcategories\n",
    "                 palette=colors, width=0.6, fliersize=2)\n",
    "\n",
    "plt.title('Real interest rates and real FX forward carry (vs dominant cross)', fontsize=13)  # set title\n",
    "plt.axhline(y=0, color='black', linestyle='-', lw=1.5)  # horizontal line at zero\n",
    "plt.xlabel('')  # set x-axis label\n",
    "plt.ylabel('% annualized, days observed', fontsize=11)  # set y-axis label\n",
    "leg = ax.axes.get_legend()  # add legend box explicitly for control\n",
    "leg.set_title('Categories')  # set title of legend box\n",
    "plt.show()"
   ]
  },
  {
   "cell_type": "markdown",
   "metadata": {},
   "source": [
    "A **violin plot** is a categorical distribution plot that is a combination of boxplot and (mostly) symmetric KDE plot. Like the boxplot it displays medians and inner quartile ranges.However, unlike a boxplot, it does not focus on outliers but rather on shape of the probability distribution function. The outer shape represents all possible results. The next layer inside might represent the values that occur 95% of the time\n",
    "\n",
    "In Seaborn violin plots are managed through the `sns.violinplot()` method."
   ]
  },
  {
   "cell_type": "code",
   "execution_count": null,
   "metadata": {},
   "outputs": [],
   "source": [
    "cids_sel = ['AUD', 'CAD', 'CHF', 'EUR', 'GBP', 'JPY', 'NZD', 'SEK']  # select cross sections\n",
    "xcats_sel = ['EQXR_NSA', 'FXXR_NSA']  # select categories\n",
    "filt1 = dfd['cid'].isin(cids_sel)  # filter out cross sections\n",
    "filt2 = dfd['xcat'].isin(xcats_sel)  # select category\n",
    "dfx = dfd[filt1 & filt2][['value', 'cid', 'xcat']].sort_values('cid')  # dataframe in appropriate format \n",
    "\n",
    "colors='hls'  # choose color palette\n",
    "sns.set_theme(style='darkgrid', rc={'figure.figsize':(6, 6)})  #  choose appearance\n",
    "ax = sns.violinplot(data=dfx, y='cid', x='value', hue='xcat')  # hue visualizes multiple categories\n",
    "\n",
    "plt.title('Distribution of daily equity and FX forward returns', fontsize=13)  # set title\n",
    "plt.ylabel('')  # set x-axis label\n",
    "plt.xlabel('% annualized, days observed', fontsize=11)  # set y-axis label\n",
    "leg = ax.axes.get_legend()  # add legend box explicitly for control\n",
    "leg.set_title('Categories')  # set title of legend box\n",
    "plt.show()"
   ]
  },
  {
   "cell_type": "markdown",
   "metadata": {
    "heading_collapsed": true
   },
   "source": [
    "## Timelines of indicators"
   ]
  },
  {
   "cell_type": "markdown",
   "metadata": {
    "heading_collapsed": true,
    "hidden": true
   },
   "source": [
    "### Lineplots"
   ]
  },
  {
   "cell_type": "markdown",
   "metadata": {
    "hidden": true
   },
   "source": [
    "The purpose of a lineplot is two illustrate a continuous relationship between two variables, where time is typically one of these variables. In Seaborn the method to manage lineplots is `sns.lineplot()`. Its most simple application is to pass to it a wide dataframe with a time axis as rows and individual series as columns."
   ]
  },
  {
   "cell_type": "code",
   "execution_count": null,
   "metadata": {
    "hidden": true
   },
   "outputs": [],
   "source": [
    "cids_sel = ['GBP', 'SEK']  # select cross sections\n",
    "filt1 = dfd['cid'].isin(cids_sel)  # filter out cross sections\n",
    "filt2 = dfd['xcat'] == 'IP_SA_P6M6ML6AR'  # filter out category\n",
    "filt3 = dfd['real_date'] >= pd.to_datetime('2000-01-01')  # set start date\n",
    "dfx = dfd[filt1 & filt2 & filt3]\n",
    "dfw = dfx.pivot(index=['real_date'], columns='cid', values='value')  # pivot data frame to common time scale\n",
    "\n",
    "colors='Paired'  # choose color palette\n",
    "sns.set_theme(style='whitegrid', rc={'figure.figsize':(6, 4)})  #  choose appearance\n",
    "ax = sns.lineplot(data=dfw, estimator=None, palette=colors)  # simply pass data frame with time scale to method\n",
    "\n",
    "plt.axhline(y=0, color='black', linestyle='--', lw=1)  # horizontal line at zero\n",
    "plt.title('Industrial production trends (observed daily values)', fontsize=13)  # set title\n",
    "plt.xlabel('')  # set x-axis label\n",
    "plt.ylabel('% 6 months over 6 months, annualized', fontsize=11)  # set y-axis label\n",
    "\n",
    "leg = ax.axes.get_legend()  # add legend box explicitly for control\n",
    "leg.set_title('Currency areas')  # set title of legend box\n",
    "\n",
    "plt.show()"
   ]
  },
  {
   "cell_type": "markdown",
   "metadata": {
    "hidden": true
   },
   "source": [
    "Importantly, the Seaborn lineplot method does not simply plot a line, but can also estimate a confidence interval. Seaborn uses **bootstrapping** to estimate confidence intervals. The method creates many samples by selecting uniformly and with replacement from the observed values that were actually reported at a given point in time. The default is to create 1000 samples and to create aggregates - typically the mean - from each of these samples. The 95% confidence interval denotes the lower and upper boundary of the inner 95% aggregate values that were such created."
   ]
  },
  {
   "cell_type": "code",
   "execution_count": null,
   "metadata": {
    "hidden": true
   },
   "outputs": [],
   "source": [
    "cids_sel = cids_em  # select cross sections\n",
    "xcat_sel = 'FXCRR_NSA'  # select category\n",
    "filt1 = dfd['cid'].isin(cids_sel)  # filter for cross sections\n",
    "filt2 = dfd['xcat'] == xcat_sel  #  filter for category\n",
    "filt3 = dfd['real_date'] >= pd.to_datetime('2000-01-01')  # filter for start date\n",
    "dfx = dfd[filt1 & filt2 & filt3]  # filter out relevant data frame\n",
    "dfm = dfx.groupby(['cid', 'xcat']).resample('M', on='real_date').mean()['value'].reset_index()  # convert to monthly averages\n",
    "dfw = dfm.pivot(index=['cid', 'real_date'], columns='xcat', values='value').reset_index()  # pivot to appropriate index\n",
    "\n",
    "colors='Paired'  # choose color palette\n",
    "sns.set_theme(style='whitegrid', rc={'figure.figsize':(6, 4)})  #  choose appearance\n",
    "sns.lineplot(data=dfw, x='real_date', y=xcat_sel, estimator='mean', ci=95)  # plot mean and its 95% confidence interval\n",
    "\n",
    "plt.axhline(y=0, color='black', linestyle='--', lw=1)  # horizontal line at zero\n",
    "plt.title('Real FX carry across EM: monthly mean and 95% confidence', fontsize=13)  # set title\n",
    "plt.xlabel('')  # set x-axis label\n",
    "plt.ylabel('% annualized', fontsize=11)  # set y-axis label\n",
    "\n",
    "plt.show()"
   ]
  },
  {
   "cell_type": "markdown",
   "metadata": {
    "hidden": true
   },
   "source": [
    "The seaborn lineplot can not only display values chronologically, but also aggregate information over time units, such as months. This may reveal seasonal patterns. The confidence interval can be set with the `ci` argument. If high confidence intervals for many underlying observations do not overlap and reveal a clear patter, seasonality is likely.\n",
    "\n",
    "With the 'hue' argument one can also compare confidence intervals across categories."
   ]
  },
  {
   "cell_type": "code",
   "execution_count": null,
   "metadata": {
    "hidden": true
   },
   "outputs": [],
   "source": [
    "cids_sel = cids_em  # select cross sections\n",
    "xcat_sel = 'FXXR_NSA'  # select category\n",
    "filt1 = dfd['cid'].isin(cids_sel)  # filter for cross sections\n",
    "filt2 = dfd['xcat'] == xcat_sel  #  filter for category\n",
    "filt3 = dfd['real_date'] >= pd.to_datetime('2000-01-01')  # filter for start date\n",
    "dfx = dfd[filt1 & filt2 & filt3]  # filter out relevant data frame\n",
    "\n",
    "dfm = dfx.groupby(['cid', 'xcat']).resample('M', on='real_date').sum()['value'].reset_index()  # monthly means\n",
    "dfw = dfm.pivot(index=['cid', 'real_date'], columns='xcat', values='value').reset_index()\n",
    "dfw['month'] = dfw['real_date'].dt.month\n",
    "dfw['period'] = 'before 2010'\n",
    "dfw.loc[dfw['real_date'].dt.year > 2010, 'period'] = 'from 2010'\n",
    "\n",
    "colors='Set2'  # choose color palette\n",
    "sns.set_theme(style='whitegrid', rc={'figure.figsize':(6, 4)})  #  choose appearance\n",
    "ax = sns.lineplot(data=dfw, x='month', y=xcat_sel, hue='period',  # draw different lines for classes of period category\n",
    "                  estimator='mean', ci=95, palette=colors)  # plot tighter confidence interval\n",
    "\n",
    "plt.axhline(y=0, color='black', linestyle='--', lw=1)  # horizontal line at zero\n",
    "plt.title('EM FX returns across months: mean and 95% confidence', fontsize=13)  # set title\n",
    "plt.xlabel('')  # set x-axis label\n",
    "plt.ylabel('%', fontsize=11)  # set y-axis label\n",
    "leg = ax.axes.get_legend()  # add legend box explicitly for control\n",
    "leg.set_title('Periods')  # set title of legend box\n",
    "\n",
    "plt.show()"
   ]
  },
  {
   "cell_type": "markdown",
   "metadata": {
    "heading_collapsed": true,
    "hidden": true
   },
   "source": [
    "### Line facets"
   ]
  },
  {
   "cell_type": "markdown",
   "metadata": {
    "hidden": true
   },
   "source": [
    "The purpose of facet grids is the creation of small multiples. The class `sns.FacetGrid()` maps a dataset onto multiple axes arrayed in a grid of rows and columns that correspond to levels of variables in the dataset.\n",
    "\n",
    "The `map()` method of the `FacetGrid` object applies a plotting function to each facet’s subset of the data. The `map_dataframe()` method of the `FacetGrid` is similar to map, but gives more flexibility because it passes arguments inserts data in `kwargs`."
   ]
  },
  {
   "cell_type": "code",
   "execution_count": null,
   "metadata": {
    "hidden": true
   },
   "outputs": [],
   "source": [
    "cids_sel = ['AUD', 'CAD', 'CHF', 'GBP', 'NZD', 'SEK']  # select cross sections\n",
    "xcat_sel = 'CPIXFE_SJA_P6M6ML6AR'  # select categories\n",
    "filt1 = dfd['cid'].isin(cids_sel)  # filter for cross sections\n",
    "filt2 = dfd['xcat'] == xcat_sel  #  filter for category\n",
    "filt3 = dfd['real_date'] >= pd.to_datetime('2005-01-01')  # filter for start date\n",
    "dfx = dfd[filt1 & filt2 & filt3]  # filter out relevant data frame\n",
    "\n",
    "color='r'  # choose color palette\n",
    "sns.set_theme(style='darkgrid')  #  choose appearance\n",
    "fg = sns.FacetGrid(dfx, col='cid', col_wrap=3,  # set number of columns of the grid\n",
    "                   height=3, aspect=1.5,  # set height and aspect ratio of cheach chart\n",
    "                   sharey=True)  # gives same y axis to all grid plots\n",
    "fg.map_dataframe(sns.lineplot, x='real_date', y='value', ci=None, lw=1, color=color)  # map lineplot to the grid\n",
    "fg.map(plt.axhline, y=0, c=\".5\", lw=1, linestyle='--')  # map horizontal zero line to each chart in grid\n",
    "\n",
    "fg.set_axis_labels('', '% 6m/6m, ar')  # set axes labels of individual charts\n",
    "fg.set_titles(col_template='{col_name}')  # set individual charts' title\n",
    "fg.fig.suptitle('Consistent core inflation trend', y=1.02)  # set facet grid title \n",
    "plt.show()"
   ]
  },
  {
   "cell_type": "markdown",
   "metadata": {
    "hidden": true
   },
   "source": [
    "To display multiple categories in a facet grid of lineplots one manages the categories to be used by setting the `hue` argument in the lineplot method to the column that contains the categories."
   ]
  },
  {
   "cell_type": "code",
   "execution_count": null,
   "metadata": {
    "hidden": true
   },
   "outputs": [],
   "source": [
    "cids_sel = ['AUD', 'CAD', 'CHF', 'GBP', 'NZD', 'SEK']  # select cross sections\n",
    "xcats_sel = ['RIR_NSA', 'FXCRR_NSA']  # select categories\n",
    "filt1 = dfd['cid'].isin(cids_sel)  # filter for cross sections\n",
    "filt2 = dfd['xcat'].isin(xcats_sel)  #  filter for category\n",
    "filt3 = dfd['real_date'] >= pd.to_datetime('2000-01-01')  # filter for start date\n",
    "dfx = dfd[filt1 & filt2 & filt3]  # filter out relevant data frame\n",
    "\n",
    "colors='bone'  # choose color palette\n",
    "sns.set_theme(style='whitegrid', palette=colors)  #  choose appearance\n",
    "fg = sns.FacetGrid(dfx, col='cid', col_wrap=3,  # set number of columns of the grid\n",
    "                   palette=colors, hue='xcat',  # hue is typically defined at the level of the facet grird\n",
    "                   height=3, aspect=1.5,  # set height and aspect ratio of cheach chart\n",
    "                   sharey=False)  # gives individual y axes to grid plots\n",
    "fg.map_dataframe(sns.lineplot, x='real_date', y='value', ci=None, lw=1)  # map lineplot to the grid\n",
    "fg.map(plt.axhline, y=0, c=\".5\", lw=0.75)  # map horizontal zero line to each chart in grid\n",
    "\n",
    "fg.set_axis_labels('', '% ar')  # set axes labels of individual charts\n",
    "fg.set_titles(col_template='{col_name}')  # set individual charts' title\n",
    "fg.fig.suptitle('Real interest rates and FX forward carry', y=1.02)  # set facet grid title \n",
    "handles = fg._legend_data.values()  # get hamdes or legend box\n",
    "labels = ['Real short-term interest rate', 'Real FX forward carry'] # series labels for legend box\n",
    "fg.fig.legend(handles=handles, labels=labels, loc='lower center', ncol=3)  # add legend to bottom of figure\n",
    "fg.fig.subplots_adjust(bottom=0.15) # lift bottom so it does not conflict with legend\n",
    "plt.show()"
   ]
  },
  {
   "cell_type": "markdown",
   "metadata": {
    "heading_collapsed": true
   },
   "source": [
    "## Bivariate relations"
   ]
  },
  {
   "cell_type": "markdown",
   "metadata": {
    "heading_collapsed": true,
    "hidden": true
   },
   "source": [
    "### Scatterplots"
   ]
  },
  {
   "cell_type": "code",
   "execution_count": null,
   "metadata": {
    "hidden": true
   },
   "outputs": [],
   "source": [
    "cids_sel = ['AUD', 'CAD', 'CHF', 'GBP', 'NZD', 'SEK']  # select cross sections\n",
    "xcats_sel = ['RIR_NSA', 'FXCRR_NSA']  # select categories\n",
    "filt1 = dfd['cid'].isin(cids_sel)  # filter for cross sections\n",
    "filt2 = dfd['xcat'].isin(xcats_sel)  #  filter for category\n",
    "filt3 = dfd['real_date'] >= pd.to_datetime('2000-01-01')  # filter for start date\n",
    "dfx = dfd[filt1 & filt2 & filt3]  # filter out relevant data frame\n",
    "dfax = dfx.groupby(['cid', 'xcat']).resample('A', on='real_date').mean()['value'].reset_index()  # annual averages\n",
    "dfaw = dfax.pivot(index=['cid', 'real_date'], columns='xcat', values='value').reset_index()  # pivot to wide dataframe\n",
    "\n",
    "colors='deep'  # choose color palette\n",
    "sns.set_theme(style='darkgrid', palette=colors, rc={'figure.figsize':(6, 4)})  #  choose appearance\n",
    "ax = sns.scatterplot(x=xcats_sel[0], y=xcats_sel[1], data=dfaw,  # column names used for scatter\n",
    "                     hue='cid', style='cid',  # distinguishes cids by color and marker\n",
    "                     s=100)  # controls size of dots\n",
    "\n",
    "plt.axhline(y=0, color='black', linestyle='--', lw=1)  # horizontal zero line\n",
    "plt.axvline(x=0, color='black', linestyle='--', lw=1)  # vertical zero line\n",
    "\n",
    "plt.title('Real interest rates and real FX forward carry (annual averages)', fontsize=13)  # set title\n",
    "plt.xlabel('Real interest rates, % ar', fontsize=11)  # set x-axis label\n",
    "plt.ylabel('Real forward carry, % ar', fontsize=11)  # set y-axis label\n",
    "plt.legend(bbox_to_anchor=(1.05, 1), loc=2, borderaxespad=0.)  # place legend outside box\n",
    "\n",
    "plt.show()"
   ]
  },
  {
   "cell_type": "markdown",
   "metadata": {
    "hidden": true
   },
   "source": [
    "If the scatter has many points the `alpha` argument allows visualizing density through color intensity."
   ]
  },
  {
   "cell_type": "code",
   "execution_count": null,
   "metadata": {
    "hidden": true
   },
   "outputs": [],
   "source": [
    "cids_sel = ['AUD', 'CAD', 'CHF', 'GBP', 'NZD', 'SEK']  # select cross sections\n",
    "xcats_sel = ['RIR_NSA', 'FXCRR_NSA']  # select categories\n",
    "filt1 = dfd['cid'].isin(cids_sel)  # filter for cross sections\n",
    "filt2 = dfd['xcat'].isin(xcats_sel)  #  filter for category\n",
    "filt3 = dfd['real_date'] >= pd.to_datetime('2000-01-01')  # filter for start date\n",
    "dfx = dfd[filt1 & filt2 & filt3]  # filter out relevant data frame\n",
    "dfw = dfx.pivot(index=['cid', 'real_date'], columns='xcat', values='value').reset_index()\n",
    "\n",
    "sns.set_theme(style='whitegrid', rc={'figure.figsize':(6, 4)})  #  choose appearance\n",
    "ax = sns.scatterplot(x=xcats_sel[0], y=xcats_sel[1], data=dfw, color='steelblue',\n",
    "                     marker='o', alpha=0.2, s=20)  # combination of marker style, alpha and size is important\n",
    "\n",
    "plt.axhline(y=0, color='red', linestyle='--', lw=1)  # horizontal zero line\n",
    "plt.axvline(x=0, color='red', linestyle='--', lw=1)  # vertical zero line\n",
    "\n",
    "plt.title('Real interest rates and real FX forward carry (annual averages)', fontsize=13)  # set title\n",
    "plt.xlabel('Real interest rates, % ar', fontsize=11)  # set x-axis label\n",
    "plt.ylabel('Real forward carry, % ar', fontsize=11)  # set y-axis label\n",
    "\n",
    "plt.show()"
   ]
  },
  {
   "cell_type": "markdown",
   "metadata": {
    "heading_collapsed": true,
    "hidden": true
   },
   "source": [
    "### Regression plots"
   ]
  },
  {
   "cell_type": "markdown",
   "metadata": {
    "hidden": true
   },
   "source": [
    "The `sns.regplot()` method can plot scatters and a fitted regression line at the sime time. Various regression estimators are available.\n",
    "\n",
    "The shaded bands around the regression line are confidence intervals that were created by bootstrapping. The option `robust = True` stipluates robust regression. This will de-weight outliers, but takes significantly more computation time. Using this option makes it advisable to reduce the bootstrap samples with `n_boot`."
   ]
  },
  {
   "cell_type": "code",
   "execution_count": null,
   "metadata": {
    "hidden": true
   },
   "outputs": [],
   "source": [
    "cids_sel = ['AUD', 'CAD', 'CHF', 'GBP', 'NZD', 'SEK']  # select cross sections\n",
    "xcats_sel = ['RIR_NSA', 'FXCRR_NSA']  # select categories\n",
    "filt1 = dfd['cid'].isin(cids_sel)  # filter for cross sections\n",
    "filt2 = dfd['xcat'].isin(xcats_sel)  #  filter for category\n",
    "filt3 = dfd['real_date'] >= pd.to_datetime('2000-01-01')  # filter for start date\n",
    "dfx = dfd[filt1 & filt2 & filt3]  # filter out relevant data frame\n",
    "dff = dfx.groupby(['cid', 'xcat']).resample('M', on='real_date').mean()['value'].reset_index()  # weekly averages\n",
    "dfw = dff.pivot(index=['cid', 'real_date'], columns='xcat', values='value').reset_index()  # pivot to wide dataframe\n",
    "\n",
    "sns.set_theme(style='whitegrid', rc={'figure.figsize':(6, 4)})  #  choose appearance\n",
    "sns.regplot(x=xcats_sel[0], y=xcats_sel[1], data=dfw, ci=98, order=1, \n",
    "            robust=False,  #  can use statsmodels' rboust regression method, but takes more time\n",
    "            scatter_kws={'s': 20, 'alpha': 0.3, 'color':'lightgray'},  # customize appearance of scatter\n",
    "            line_kws={'lw' : 2, 'linestyle': '-.', 'color': 'salmon'})  # customize appearance of line\n",
    "\n",
    "plt.axhline(y=0, color='black', linestyle='--', lw=1)  # horizontal zero line\n",
    "plt.axvline(x=0, color='black', linestyle='--', lw=1)  # vertical zero line\n",
    "\n",
    "plt.title('Real interest rates and real FX forward carry (monthly averages)', fontsize=13)  # set title\n",
    "plt.xlabel('Real interest rates, % ar', fontsize=11)  # set x-axis label\n",
    "plt.ylabel('Real forward carry, % ar', fontsize=11)  # set y-axis label\n",
    "\n",
    "plt.show()"
   ]
  },
  {
   "cell_type": "markdown",
   "metadata": {
    "hidden": true
   },
   "source": [
    "It is possible to visualize **polynomial regression** curves with the `order` argument."
   ]
  },
  {
   "cell_type": "code",
   "execution_count": null,
   "metadata": {
    "hidden": true
   },
   "outputs": [],
   "source": [
    "cids_sel = ['AUD', 'CAD', 'CHF', 'GBP', 'NZD', 'SEK']  # select cross sections\n",
    "xcats_sel = ['FXCRR_NSA', 'FXXR_NSA']  # select explanatory/dependent categories\n",
    "filt1 = dfd['cid'].isin(cids_sel)  # filter for cross sections\n",
    "filt2 = dfd['xcat'].isin(xcats_sel)  #  filter for category\n",
    "filt3 = dfd['real_date'] >= pd.to_datetime('2000-01-01')  # filter for start date\n",
    "dfx = dfd[filt1 & filt2 & filt3]  # filter out relevant data frame\n",
    "dff = dfx.groupby(['cid', 'xcat']).resample('Q', on='real_date').mean()['value'].reset_index()  # monthly averages\n",
    "filt4 = dff['xcat']==xcats_sel[0]  # filter for explanatory data in frequency-transformed dataframe\n",
    "dff.loc[filt4, 'value'] = dff[filt4].groupby(['cid', 'xcat'])['value'].shift(1)  # lag explanatory values by 1 time period\n",
    "dfw = dff.pivot(index=['cid', 'real_date'], columns='xcat', values='value').reset_index()  # pivot to wide dataframe\n",
    "\n",
    "sns.set_theme(style='darkgrid', rc={'figure.figsize':(6, 4)})  #  choose appearance\n",
    "sns.regplot(x=xcats_sel[0], y=xcats_sel[1], data=dfw, ci=95,  \n",
    "            order=2,  #  2nd-order polynomial fit\n",
    "            scatter_kws={'s': 20, 'alpha': 0.3, 'color':'goldenrod'},  # customize appearance of scatter\n",
    "            line_kws={'lw' : 1, 'linestyle': '-', 'color': 'tab:blue'})  # customize appearance of line\n",
    "\n",
    "plt.axhline(y=0, color='tab:blue', linestyle='--', lw=1)  # horizontal zero line\n",
    "plt.axvline(x=0, color='tab:blue', linestyle='--', lw=1)  # vertical zero line\n",
    "\n",
    "plt.title('FX forward carry and subsequent returns (quarterly averages)', fontsize=13)  # set title\n",
    "plt.xlabel('Real forward carry, % ar', fontsize=11)  # set x-axis label\n",
    "plt.ylabel('FX forward returns, % ar', fontsize=11)  # set y-axis label\n",
    "\n",
    "plt.show()"
   ]
  },
  {
   "cell_type": "markdown",
   "metadata": {
    "hidden": true
   },
   "source": [
    "Other options include `logistic` (for binary dependent) and `lowess` for locally weighted linear regression."
   ]
  },
  {
   "cell_type": "code",
   "execution_count": null,
   "metadata": {
    "hidden": true
   },
   "outputs": [],
   "source": [
    "cids_sel = ['AUD', 'CAD', 'CHF', 'GBP', 'NZD', 'SEK']  # select cross sections\n",
    "xcats_sel = ['RIR_NSA', 'FXCRR_NSA']  # select categories\n",
    "filt1 = dfd['cid'].isin(cids_sel)  # filter for cross sections\n",
    "filt2 = dfd['xcat'].isin(xcats_sel)  #  filter for category\n",
    "filt3 = dfd['real_date'] >= pd.to_datetime('2000-01-01')  # filter for start date\n",
    "dfx = dfd[filt1 & filt2 & filt3]  # filter out relevant data frame\n",
    "dff = dfx.groupby(['cid', 'xcat']).resample('M', on='real_date').mean()['value'].reset_index()  # weekly averages\n",
    "dfw = dff.pivot(index=['cid', 'real_date'], columns='xcat', values='value').reset_index()  # pivot to wide dataframe\n",
    "\n",
    "sns.set_theme(style='whitegrid', rc={'figure.figsize':(6, 4)})  #  choose appearance\n",
    "sns.regplot(x=xcats_sel[0], y=xcats_sel[1], data=dfw,  # pass the date\n",
    "            lowess=True,  #  uses statsmodels to estimate a nonparametric locally weighted linear regression\n",
    "            marker='d',  # choose diamon market\n",
    "            scatter_kws={'s': 50, 'alpha': 0.2, 'color':'gray'},  # customize appearance of scatter\n",
    "            line_kws={'lw' : 1.5, 'color': 'black'})  # customize appearance of line\n",
    "\n",
    "plt.axhline(y=0, color='red', linestyle='--', lw=1)  # horizontal zero line\n",
    "plt.axvline(x=0, color='red', linestyle='--', lw=1)  # vertical zero line\n",
    "\n",
    "plt.title('Real interest rates and real FX forward carry (monthly averages)', fontsize=13)  # set title\n",
    "plt.xlabel('Real interest rates, % ar', fontsize=11)  # set x-axis label\n",
    "plt.ylabel('Real forward carry, % ar', fontsize=11)  # set y-axis label\n",
    "\n",
    "plt.show()"
   ]
  },
  {
   "cell_type": "markdown",
   "metadata": {
    "heading_collapsed": true,
    "hidden": true
   },
   "source": [
    "### Jointplots"
   ]
  },
  {
   "cell_type": "markdown",
   "metadata": {
    "hidden": true
   },
   "source": [
    "The jointplot shows simulatenously the relation between two variables and their distributions. It consists of three separate plots: a relational plot and two histograms. Technically it is a facet grid. It is managed through the `sns.jointplot()` function.\n",
    "\n",
    "Importantly, one can choose from a range of relational plots through the `kind` argument."
   ]
  },
  {
   "cell_type": "code",
   "execution_count": null,
   "metadata": {
    "hidden": true
   },
   "outputs": [],
   "source": [
    "cids_sel = ['AUD', 'CAD', 'CHF', 'GBP', 'NZD', 'SEK']  # select cross sections\n",
    "xcats_sel = ['RIR_NSA', 'FXCRR_NSA']  # select categories\n",
    "filt1 = dfd['cid'].isin(cids_sel)  # filter for cross sections\n",
    "filt2 = dfd['xcat'].isin(xcats_sel)  #  filter for category\n",
    "filt3 = dfd['real_date'] >= pd.to_datetime('2000-01-01')  # filter for start date\n",
    "dfx = dfd[filt1 & filt2 & filt3]  # filter out relevant data frame\n",
    "dff = dfx.groupby(['cid', 'xcat']).resample('W', on='real_date').mean()['value'].reset_index()  # weekly averages\n",
    "dfw = dff.pivot(index=['cid', 'real_date'], columns='xcat', values='value').reset_index()  # pivot to wide dataframe\n",
    "\n",
    "sns.set_theme(style='white', rc={'figure.figsize':(6, 4)})  #  choose appearance\n",
    "fg = sns.jointplot(x=xcats_sel[0], y=xcats_sel[1], data=dfw, color='steelblue',\n",
    "                   kind='hex', alpha=0.5)  # display density in hexgons\n",
    "fg.fig.suptitle('Real interest rates and real FX forward carry (weekly averages)', y=1.02, fontsize=13)  # set grid title\n",
    "fg.set_axis_labels('Real interest rates, % ar', 'Real forward carry, % ar', fontsize=11)  # set x/y axis labels\n",
    "\n",
    "plt.show()"
   ]
  },
  {
   "cell_type": "markdown",
   "metadata": {
    "hidden": true
   },
   "source": [
    "A regression line can be added by applying the `plot_joint()` method to the joint plot factegrid."
   ]
  },
  {
   "cell_type": "code",
   "execution_count": null,
   "metadata": {
    "hidden": true
   },
   "outputs": [],
   "source": [
    "cids_sel = ['AUD', 'CAD', 'CHF', 'GBP', 'NZD', 'SEK']  # select cross sections\n",
    "xcats_sel = ['RIR_NSA', 'FXCRR_NSA']  # select categories\n",
    "filt1 = dfd['cid'].isin(cids_sel)  # filter for cross sections\n",
    "filt2 = dfd['xcat'].isin(xcats_sel)  #  filter for category\n",
    "filt3 = dfd['real_date'] >= pd.to_datetime('2000-01-01')  # filter for start date\n",
    "dfx = dfd[filt1 & filt2 & filt3]  # filter out relevant data frame\n",
    "dff = dfx.groupby(['cid', 'xcat']).resample('M', on='real_date').mean()['value'].reset_index()  # weekly averages\n",
    "dfw = dff.pivot(index=['cid', 'real_date'], columns='xcat', values='value').reset_index()  # pivot to wide dataframe\n",
    "\n",
    "sns.set_theme(style='whitegrid', rc={'figure.figsize':(6, 4)})  #  choose appearance\n",
    "fg = sns.jointplot(x=xcats_sel[0], y=xcats_sel[1], data=dfw, kind='hist',  #  choose 2-dimension histogram\n",
    "                   color='red')\n",
    "fg.plot_joint(sns.regplot, scatter=False, ci=False, color='black')  # one can overlay regression line\n",
    "fg.fig.suptitle('Real interest rates and real FX forward carry (monthly averages)', y=1.02, fontsize=13)  # set grid title\n",
    "fg.set_axis_labels('Real interest rates, % ar', 'Real forward carry, % ar', fontsize=11)  # set x/y axis labels\n",
    "\n",
    "plt.show()"
   ]
  },
  {
   "cell_type": "markdown",
   "metadata": {
    "hidden": true
   },
   "source": [
    "The kernel density estimator (`kind='kde'`) gives a very stylized visualization of the relations."
   ]
  },
  {
   "cell_type": "code",
   "execution_count": null,
   "metadata": {
    "hidden": true
   },
   "outputs": [],
   "source": [
    "cids_sel = ['AUD', 'CAD', 'CHF', 'GBP', 'NZD', 'SEK']  # select cross sections\n",
    "xcats_sel = ['RIR_NSA', 'FXCRR_NSA']  # select categories\n",
    "filt1 = dfd['cid'].isin(cids_sel)  # filter for cross sections\n",
    "filt2 = dfd['xcat'].isin(xcats_sel)  #  filter for category\n",
    "filt3 = dfd['real_date'] >= pd.to_datetime('2000-01-01')  # filter for start date\n",
    "dfx = dfd[filt1 & filt2 & filt3]  # filter out relevant data frame\n",
    "dff = dfx.groupby(['cid', 'xcat']).resample('M', on='real_date').mean()['value'].reset_index()  # weekly averages\n",
    "dfw = dff.pivot(index=['cid', 'real_date'], columns='xcat', values='value').reset_index()  # pivot to wide dataframe\n",
    "\n",
    "sns.set_theme(style='dark')  #  choose appearance\n",
    "fg = sns.jointplot(x=xcats_sel[0], y=xcats_sel[1], data=dfw, kind='kde', \n",
    "                   color='gray', height=6)  # color and size parameters\n",
    "fg.plot_joint(sns.regplot, scatter=False, ci=False, color='red')  # one can overlay regression line\n",
    "fg.fig.suptitle('Real interest rates and real FX forward carry (monthly averages)', y=1.02, fontsize=13)  # set grid title\n",
    "fg.set_axis_labels('Real interest rates, % ar', 'Real forward carry, % ar', fontsize=11)  # set x/y axis labels\n",
    "\n",
    "plt.show()"
   ]
  },
  {
   "cell_type": "markdown",
   "metadata": {
    "hidden": true
   },
   "source": [
    "Information of categorical variables can be integrated through the `hue` argument.\n",
    "\n",
    "Additional arguments can be passed to the central relational and marginal distribution plots through the `joint_kws` and `marginal_kw` keyword dictionaries respectively."
   ]
  },
  {
   "cell_type": "code",
   "execution_count": null,
   "metadata": {
    "hidden": true
   },
   "outputs": [],
   "source": [
    "cids_sel = ['AUD', 'CAD', 'CHF', 'GBP', 'NZD', 'SEK']  # select cross sections\n",
    "xcats_sel = ['RIR_NSA', 'FXCRR_NSA']  # select categories\n",
    "filt1 = dfd['cid'].isin(cids_sel)  # filter for cross sections\n",
    "filt2 = dfd['xcat'].isin(xcats_sel)  #  filter for category\n",
    "filt3 = dfd['real_date'] >= pd.to_datetime('2000-01-01')  # filter for start date\n",
    "dfx = dfd[filt1 & filt2 & filt3]  # filter out relevant data frame\n",
    "dff = dfx.groupby(['cid', 'xcat']).resample('M', on='real_date').mean()['value'].reset_index()  # weekly averages\n",
    "dfw = dff.pivot(index=['cid', 'real_date'], columns='xcat', values='value').reset_index()  # pivot to wide dataframe\n",
    "\n",
    "dfw['Period'] = 'before 2010'  # create custom categorical variable\n",
    "dfw.loc[dfw['real_date'].dt.year > 2010, 'Period'] = 'from 2010'\n",
    "\n",
    "colors='Set1'  # choose color palette\n",
    "sns.set_theme(style='dark')  #  choose appearance\n",
    "fg = sns.jointplot(x=xcats_sel[0], y=xcats_sel[1], data=dfw,  # pass appropriate data\n",
    "                   kind='scatter', palette=colors, height=6,  # parameters for appearance\n",
    "                   hue='Period',  # classes of pepriod category will be visualized by hue\n",
    "                   joint_kws={'marker':'+'},  # keyword dictionary specific to relational plot\n",
    "                   marginal_kws={'lw': 1})  # keyword dictionary specific to distribution plot\n",
    "fg.fig.suptitle('Real interest rates and real FX forward carry (monthly averages)', y=1.02, fontsize=13)  # set grid title\n",
    "fg.set_axis_labels('Real interest rates, % ar', 'Real forward carry, % ar', fontsize=11)  # set x/y axis labels\n",
    "\n",
    "plt.show()"
   ]
  },
  {
   "cell_type": "markdown",
   "metadata": {
    "heading_collapsed": true,
    "hidden": true
   },
   "source": [
    "### Pairplots"
   ]
  },
  {
   "cell_type": "markdown",
   "metadata": {
    "hidden": true
   },
   "source": [
    "The `sns.pairplot()` function manages the display of multiple joint distributions. For example, it can be applied to visualize the joint density of a category across pairs of countries. Specifically, the pairplot is  a joint visualization grid of univaraiate distributions on the diagonals and bivariate distributions on the off-diagonals. <u>It collects a lot of information in one place and is therefore an instance of comprehensive exploratory data analysis</u>. \n",
    "The `sns.pairplot()` output is a `PairGrid` instance, similar to a facet grid. rather than a single axes object.\n",
    "\n",
    "Many arguments of `sns.pairplot` apply either to all diagonals or all off-diagonals:\n",
    "* `kind` governs the type of off-diagonal relational plot to use. It must be one of `scatter`, `kde`, `hist`, or `reg`.\n",
    "* `plot_kws` takes a dictionary of further arguments that apply to the chosen off-diagonal (main) plots.\n",
    "* `diag_kind` governs the type of diagnonal plot to use and is usually `hist` or `kde`.\n",
    "* `diag_kws` takes a dictionary of arguments that apply to the chosen diagonal plots."
   ]
  },
  {
   "cell_type": "code",
   "execution_count": null,
   "metadata": {
    "hidden": true
   },
   "outputs": [],
   "source": [
    "cids_sel = ['EUR', 'GBP', 'SEK', 'CHF']  # select cross sections\n",
    "xcat_sel = 'RIR_NSA' # select categories\n",
    "filt1 = dfd['cid'].isin(cids_sel)  # filter for cross sections\n",
    "filt2 = dfd['xcat'] == xcat_sel  #  filter for category\n",
    "filt3 = dfd['real_date'] >= pd.to_datetime('2000-01-01')  # filter for start date\n",
    "dfx = dfd[filt1 & filt2 & filt3]  # filter out relevant data frame\n",
    "dff = dfx.groupby(['cid']).resample('M', on='real_date').mean()['value'].reset_index()  # monthly averages\n",
    "dfw = dff.pivot(index='real_date', columns='cid', values='value').reset_index()  # pivot to wide dataframe\n",
    "dfw = dfw[(dfw.T != 0).any()]  # drop all rows that are all zeroes\n",
    "\n",
    "color = 'teal'  # choose palette\n",
    "sns.set_theme(style='darkgrid')  #  choose appearance\n",
    "fg=sns.pairplot(data=dfw, vars=cids_sel, \n",
    "                height=2, aspect=1.2,  # height and aspect ratio of each facet in the plot\n",
    "                corner=True,  # removes redundant bivariate plots in symmetric matrix\n",
    "                kind='scatter',  # choose type of bivariate plot\n",
    "                plot_kws={'s':20, 'alpha':0.3, 'color':color},  # set parameters for off-diagonal plots\n",
    "                diag_kind='hist',  # choose type of univariate distribution plot\n",
    "                diag_kws={'bins':20, 'color':color})  # set parameters for off-diagonal plots)\n",
    "fg.fig.suptitle('Distributions of real interest rates in Europe (monthly averages)', y=1.02, fontsize=14)  # set grid title\n",
    "\n",
    "plt.show()"
   ]
  },
  {
   "cell_type": "markdown",
   "metadata": {
    "hidden": true
   },
   "source": [
    "In order to apply the `sns.pairplot()` function to cross sections one had to pivot the selected dataframe with cross sections ('cid') as basis for new columns. In order to apply the `sns.pairplot()` function to categories one simply needs to pivot the selected dataframe with cross sections ('xcat') as basis for new columns."
   ]
  },
  {
   "cell_type": "code",
   "execution_count": null,
   "metadata": {
    "hidden": true
   },
   "outputs": [],
   "source": [
    "cids_sel = ['AUD', 'CAD', 'CHF', 'GBP', 'JPY', 'NOK', 'NZD', 'SEK']  # select cross sections\n",
    "xcats_sel = ['FXXR_NSA', 'RIR_NSA', 'FXCRR_NSA', 'IP_SA_P6M6ML6AR'] # select categories\n",
    "filt1 = dfd['cid'].isin(cids_sel)  # filter for cross sections\n",
    "filt2 = dfd['xcat'].isin(xcats_sel)  #  filter for category\n",
    "filt3 = dfd['real_date'] >= pd.to_datetime('2000-01-01')  # filter for start date\n",
    "dfx = dfd[filt1 & filt2 & filt3]  # filter out relevant data frame\n",
    "dff = dfx.groupby(['cid', 'xcat']).resample('A', on='real_date').mean()['value'].reset_index()  # annual averages\n",
    "dfw = dff.pivot(index=['cid', 'real_date'], columns='xcat', values='value').reset_index()  # pivot to wide dataframe\n",
    "\n",
    "color = 'gray'  # choose palette\n",
    "sns.set_theme(style='whitegrid', palette=colors)  #  choose appearance\n",
    "fg=sns.pairplot(data=dfw, vars=xcats_sel, \n",
    "                height=2, aspect=1.2,  # height and aspect ratio of each facet in the plot\n",
    "                corner=True,  # removes redundant bivariate plots in symmetric matrix\n",
    "                plot_kws={'color': color, 'bins':15},  # set parameters for off-diagonal plots\n",
    "                kind='hist',  # choose type of bivariate plot\n",
    "                diag_kind='kde',  # choose type of univariate distribution plot\n",
    "                diag_kws={'color':color})  # set parameters for off-diagonal plots)\n",
    "fg.fig.suptitle('Individual and pairwise distribution of FX-related indicators (annual)', \n",
    "                y=1.02, fontsize=14)  # set grid title\n",
    "plt.show()"
   ]
  },
  {
   "cell_type": "markdown",
   "metadata": {
    "hidden": true
   },
   "source": [
    "Adding even more information, the pairplot can show distributions and relations for separate values of a categorical variable, using the `hue` argument and a related `palette` choice."
   ]
  },
  {
   "cell_type": "code",
   "execution_count": null,
   "metadata": {
    "hidden": true
   },
   "outputs": [],
   "source": [
    "cids_sel = ['AUD', 'CAD', 'MXN', 'ZAR', 'CHF']  # select cross sections\n",
    "xcat_sel = 'FXXR_NSA' # select categories\n",
    "filt1 = dfd['cid'].isin(cids_sel)  # filter for cross sections\n",
    "filt2 = dfd['xcat'] == xcat_sel  #  filter for category\n",
    "filt3 = dfd['real_date'] >= pd.to_datetime('2000-01-01')  # filter for start date\n",
    "dfx = dfd[filt1 & filt2 & filt3]  # filter out relevant data frame\n",
    "dff = dfx.groupby(['cid']).resample('M', on='real_date').sum()['value'].reset_index()  # monthly sums\n",
    "dfw = dff.pivot(index='real_date', columns='cid', values='value').reset_index()  # pivot to wide dataframe\n",
    "\n",
    "dfw['Period'] = 'before 2010'  # create custom categorical variable\n",
    "dfw.loc[dfw['real_date'].dt.year > 2010, 'Period'] = 'from 2010'\n",
    "\n",
    "colors = 'hls'  # choose palette\n",
    "sns.set_theme(style='whitegrid')  #  choose appearance\n",
    "fg=sns.pairplot(data=dfw, vars=cids_sel, palette=colors, hue='Period',  #  apply classification variable to hue\n",
    "                height=2, aspect=1,  # height and aspect ratio of each facet in the plot\n",
    "                corner=True,  # removes redundant bivariate plots in symmetric matrix\n",
    "                kind='reg',  # choose type of bivariate plot\n",
    "                plot_kws={'ci': False, 'scatter_kws':{'s': 20, 'alpha': 0.5}},  # set parameters for off-diagonal plots\n",
    "                diag_kind='hist',  # choose type of univariate distribution plot\n",
    "                diag_kws={'bins':20})  # set parameters for off-diagonal plots)\n",
    "fg.fig.suptitle('Relations and distributions of monthly FX returns', fontsize=14)  # set grid title\n",
    "\n",
    "plt.show()"
   ]
  },
  {
   "cell_type": "markdown",
   "metadata": {
    "heading_collapsed": true
   },
   "source": [
    "## Color maps"
   ]
  },
  {
   "cell_type": "markdown",
   "metadata": {
    "heading_collapsed": true,
    "hidden": true
   },
   "source": [
    "### Heatmaps"
   ]
  },
  {
   "cell_type": "markdown",
   "metadata": {
    "hidden": true
   },
   "source": [
    "Heatmaps visualize tabular data by mapping numeric values to colors. They are managed by the `sns.heatmap` function. Thisis a particularly powerful method for condensing a lot of information into a single visualization."
   ]
  },
  {
   "cell_type": "code",
   "execution_count": null,
   "metadata": {
    "hidden": true
   },
   "outputs": [],
   "source": [
    "cids_sel = ['AUD', 'BRL', 'COP', 'CLP', 'HUF', 'MXN', 'PLN', 'TRY', 'ZAR', 'INR', 'MYR', 'PHP']  # select cross sections\n",
    "xcat_sel = 'FXXR_NSA' # select categories\n",
    "filt1 = dfd['cid'].isin(cids_sel)  # filter for cross sections\n",
    "filt2 = dfd['xcat'] == xcat_sel  #  filter for category\n",
    "filt3 = dfd['real_date'] >= pd.to_datetime('2000-01-01')  # filter for start date\n",
    "dfx = dfd[filt1 & filt2 & filt3]  # filter out relevant data frame\n",
    "dfx['year'] = dfx['real_date'].dt.year  #  # add year category to frame\n",
    "dfw = dfx.groupby(['cid', 'year']).sum().reset_index().pivot(index='year', columns='cid', values='value')\n",
    "dfh = dfw.T  # transpose to appropriate format for heatmap function\n",
    "\n",
    "colors = 'vlag_r' # choose appropriate diverging color palette\n",
    "fg, ax = plt.subplots(figsize=(18, 8))  # prepare axis and grid\n",
    "ax = sns.heatmap(dfh, cmap=colors, center=0,  # requires diverging color palette with white zero\n",
    "                 square=True,  # perfect squares\n",
    "                 annot=True, fmt='.1f', annot_kws={'fontsize':11},  # format annotation numbers inside color boxes\n",
    "                 linewidth=1)  # set width of lines between color boxes\n",
    "\n",
    "plt.title('Annual FX forward returns in EM: A 20-year history', fontsize=16, y=1.05)  # set heatmap title\n",
    "plt.xlabel('')  # control x-axis label\n",
    "plt.ylabel('')  # control x-axis label\n",
    "plt.yticks(rotation=0)  # set direction of y-axis marks\n",
    "plt.show()"
   ]
  },
  {
   "cell_type": "markdown",
   "metadata": {
    "heading_collapsed": true,
    "hidden": true
   },
   "source": [
    "### Clustermaps"
   ]
  },
  {
   "cell_type": "markdown",
   "metadata": {
    "hidden": true
   },
   "source": [
    "The clustermap suports heatmap visualization of matrices with additional hierarchical clustering information.\n",
    "\n",
    "The clustering lines are called **dendrograms** and display the statistical similarity of columns and rows. Similarity here is the inverse of multi-dimensional distance. The default is Euclidean or spatial distance. The dendrogram is created based on hierarchical agglomorative clustering, i.e. sequential clustering of the nearest points in multi-dimensional space. Note that the `sns.clustermap` method returns a `Clustermap` object."
   ]
  },
  {
   "cell_type": "code",
   "execution_count": null,
   "metadata": {
    "hidden": true
   },
   "outputs": [],
   "source": [
    "cids_sel = ['EUR', 'USD', 'GBP', 'CHF', 'JPY', 'SEK', 'CAD',  'ZAR', 'INR', 'MYR']  # select cross sections\n",
    "xcat_sel = 'EQXR_NSA' # select categories\n",
    "filt1 = dfd['cid'].isin(cids_sel)  # filter for cross sections\n",
    "filt2 = dfd['xcat'] == xcat_sel  #  filter for category\n",
    "filt3 = dfd['real_date'] >= pd.to_datetime('2005-01-01')  # filter for start date\n",
    "dfx = dfd[filt1 & filt2 & filt3]  # filter out relevant data frame\n",
    "dfx['year'] = dfx['real_date'].dt.year  #  # add year category to frame\n",
    "dfw = dfx.groupby(['cid', 'year']).sum().reset_index().pivot(index='year', columns='cid', values='value')  # annual means\n",
    "dfh = dfw.dropna().T  # transpose to appropriate format for heatmap function\n",
    "\n",
    "colors = 'vlag_r' # choose appropriate diverging color palette\n",
    "fg = sns.clustermap(dfh, cmap=colors, center=0,  # requires diverging color palette with white zero\n",
    "                    figsize=(12, 7),  # set appropriate size\n",
    "                    annot=True, fmt='.1f', annot_kws={'fontsize':11},  # format annotation numbers inside color boxes\n",
    "                    linewidth=1)  # set width of lines between color boxes\n",
    "\n",
    "fg.fig.suptitle('Similarities of countries and trading years, based on equity returns', y=1.02)  # setting title\n",
    "fg.ax_heatmap.set_xlabel('')  # special way of controlling x-axis label\n",
    "fg.ax_heatmap.set_ylabel('')  # special way of controlling y-axis label \n",
    "plt.show()"
   ]
  }
 ],
 "metadata": {
  "celltoolbar": "Tags",
  "hide_input": false,
  "kernelspec": {
   "display_name": "Python 3",
   "language": "python",
   "name": "python3"
  },
  "language_info": {
   "codemirror_mode": {
    "name": "ipython",
    "version": 3
   },
   "file_extension": ".py",
   "mimetype": "text/x-python",
   "name": "python",
   "nbconvert_exporter": "python",
   "pygments_lexer": "ipython3",
   "version": "3.8.8"
  }
 },
 "nbformat": 4,
 "nbformat_minor": 4
}
