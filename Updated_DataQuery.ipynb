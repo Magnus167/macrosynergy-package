{
 "cells": [
  {
   "cell_type": "code",
   "execution_count": 1,
   "id": "7d8f7465",
   "metadata": {},
   "outputs": [
    {
     "name": "stdout",
     "output_type": "stream",
     "text": [
      "Current working directory: C:\\Users\\Ralph\\OneDrive\\Documents\\Technology\\notebooks\\applications\n"
     ]
    }
   ],
   "source": [
    "import yaml\n",
    "import numpy as np\n",
    "import pandas as pd\n",
    "from timeit import default_timer as timer\n",
    "from datetime import timedelta, date\n",
    "\n",
    "from macrosynergy.management.dq import DataQueryInterface\n",
    "\n",
    "import os\n",
    "print(f\"Current working directory: {os.getcwd()}\")\n",
    "path_to_config = '..//data//'"
   ]
  },
  {
   "cell_type": "code",
   "execution_count": 2,
   "id": "7ccd52f1",
   "metadata": {},
   "outputs": [],
   "source": [
    "cids_dmca = ['AUD', 'CAD', 'CHF', 'EUR', 'GBP', 'JPY', 'NOK', 'NZD', 'SEK', 'USD']  # DM currency areas\n",
    "cids_dmec = ['DEM', 'ESP', 'FRF', 'ITL', 'NLG']  # DM euro area countries\n",
    "cids_latm = ['ARS', 'BRL', 'COP', 'CLP', 'MXN', 'PEN']  # Latam countries\n",
    "cids_emea = ['HUF', 'ILS', 'PLN', 'RON', 'RUB', 'TRY', 'ZAR']  # EMEA countries\n",
    "cids_emas = ['CNY', 'HKD', 'IDR', 'INR', 'KRW', 'MYR', 'PHP', 'SGD', 'THB', 'TWD']  # EM Asia countries\n",
    "cids_dm = cids_dmca + cids_dmec\n",
    "cids_em = cids_latm + cids_emea + cids_emas\n",
    "cids = sorted(cids_dm + cids_em)\n",
    "\n",
    "cids_eufx = ['CHF', 'HUF', 'NOK', 'PLN', 'RON', 'SEK']  # EUR benchmark\n",
    "cids_g2fx = ['GBP', 'RUB', 'TRY']  # dual benchmark\n",
    "cids_usfx = ['AUD', 'BRL', 'CAD', 'CLP', 'CNY', 'COP', 'EUR', 'IDR', 'ILS', 'INR', 'JPY', 'KRW', 'MYR',\n",
    "             'MXN', 'NZD', 'PEN', 'PHP', 'SGD', 'THB', 'TWD', 'ZAR']  # USD benchmark\n",
    "cids_fx = cids_usfx + cids_eufx + cids_g2fx"
   ]
  },
  {
   "cell_type": "code",
   "execution_count": 3,
   "id": "ef05af53",
   "metadata": {},
   "outputs": [],
   "source": [
    "def dq_tickers(tickers, metric='value', start_date = '2000-01-01', path = '..//data//'):\n",
    "    \n",
    "    \"\"\"\n",
    "    Returns standardized dataframe of specified base tickers and metric\n",
    "    \n",
    "    \n",
    "    :param <str> tickers: JPMaQS ticker of form <cid>_<xcat>.\n",
    "    :param <str> metrics: must choose one or more from 'value', 'eop_lag', 'mop_lag', or 'grade'. Default is ['value'].\n",
    "    :param <str> start_date: first date in ISO 8601 string format. \n",
    "    :param <str> path: relative path from notebook to credential files.\n",
    "    \n",
    "    :return <pd.Dataframe> standardized dataframe with columns 'cid', 'xcats', 'real_date' and chosen metrics.\n",
    "    \"\"\"\n",
    "\n",
    "\n",
    "    unique_tix = list(set(tickers))\n",
    "    unique_tix.sort()\n",
    "    dq_tix = [\"DB(JPMAQS,\" + tick + f\",{metric})\" for tick in unique_tix]\n",
    "    \n",
    "    with open(f\"{path}config.yml\", 'r') as f:\n",
    "        cf = yaml.load(f, Loader=yaml.FullLoader)\n",
    "\n",
    "    with DataQueryInterface(\n",
    "                username=cf[\"dq\"][\"username\"],\n",
    "                password=cf[\"dq\"][\"password\"],\n",
    "                crt=f\"{path}api_macrosynergy_com.crt\",\n",
    "                key=f\"{path}api_macrosynergy_com.key\") as dq:\n",
    "        \n",
    "        print(\"Connected: \", dq.check_connection())\n",
    "        df = dq.get_ts_expression(expression=dq_tix, original_metrics=metric, start_date=start_date)\n",
    "        \n",
    "        if isinstance(df, pd.DataFrame):\n",
    "            df = df.sort_values(['cid', 'xcat', 'real_date']).reset_index(drop=True)\n",
    "\n",
    "    return df"
   ]
  },
  {
   "cell_type": "code",
   "execution_count": 4,
   "id": "3b28d695",
   "metadata": {},
   "outputs": [],
   "source": [
    "def dq_download(tickers=None, xcats=None, cids=None, metrics=['value'], start_date = '2000-01-01', path = '..//data//'):\n",
    "    \n",
    "    \"\"\"\n",
    "    Returns standardized dataframe of specified base tickers and metrics\n",
    "        \n",
    "    :param <List[str]> tickers: JPMaQS ticker of form <cid>_<xcat>. Can be combined with selection of categories.\n",
    "    :param <List[str]> xcats: JPMaQS category codes. Downloaded for all standard cross sections identifiers available \n",
    "    (if cids are not specified) or those selected (if cids are specified).\n",
    "    Standard cross sections here include major developed and emerging currency markets. See JPMaQS documentation.\n",
    "    :param <List[str]> cids: JPMaQS cross-section identifiers, typically based  on currency code. See JPMaQS documentation.\n",
    "    :param <str> metrics: must choose one or more from 'value', 'eop_lag', 'mop_lag', or 'grade'. Default is ['value'].\n",
    "    # Todo: allow multiple metrics to be downloaded\n",
    "    :param <str> start_date: first date in ISO 8601 string format. \n",
    "    :param <str> path: relative path from notebook to credential files.\n",
    "    \n",
    "    :return <pd.Dataframe> standardized dataframe with columns 'cid', 'xcats', 'real_date' and chosen metrics.\n",
    "    \"\"\"\n",
    "    \n",
    "    # A. Collect all standard cross sections.\n",
    "    \n",
    "    if (cids is None) & (xcats is not None):\n",
    "    \n",
    "        cids_dmca = ['AUD', 'CAD', 'CHF', 'EUR', 'GBP', 'JPY', 'NOK', 'NZD', 'SEK', 'USD']  # DM currency areas\n",
    "        cids_dmec = ['DEM', 'ESP', 'FRF', 'ITL', 'NLG']  # DM euro area countries\n",
    "        cids_latm = ['BRL', 'COP', 'CLP', 'MXN', 'PEN']  # Latam countries\n",
    "        cids_emea = ['HUF', 'ILS', 'PLN', 'RON', 'RUB', 'TRY', 'ZAR']  # EMEA countries\n",
    "        cids_emas = ['CNY', 'IDR', 'INR', 'KRW', 'MYR', 'PHP', 'SGD', 'THB', 'TWD']  # EM Asia countries\n",
    "        cids_dm = cids_dmca + cids_dmec\n",
    "        cids_em = cids_latm + cids_emea + cids_emas\n",
    "        cids = sorted(cids_dm + cids_em)  # standard default\n",
    "        \n",
    "    \n",
    "    # B. Collect all tickers and metrics to be downloaded\n",
    "    \n",
    "    dl = {'tickers': tickers, 'xcats': xcats, 'cids': cids, 'metrics': metrics}\n",
    "    for key, value in dl.items():\n",
    "        if isinstance(value, str):\n",
    "            exec(f\"{key} = [{key}]\")  # make sure all choices are iterables\n",
    "        \n",
    "    if tickers is None:\n",
    "        tickers = []\n",
    "    \n",
    "    if xcats is not None:\n",
    "        add_tix = [cid + '_' + xcat for xcat in xcats for cid in cids]\n",
    "        tickers = tickers + add_tix\n",
    "    \n",
    "    df = pd.DataFrame(columns = ['cid', 'xcat', 'real_date', 'value'])\n",
    "    for metric in metrics:\n",
    "        df_add = dq_tickers(tickers, metric=metric, start_date = start_date, path = path)\n",
    "        df.append(df_add)\n",
    "        \n",
    "    return df"
   ]
  },
  {
   "cell_type": "code",
   "execution_count": 5,
   "id": "54c62a17",
   "metadata": {},
   "outputs": [
    {
     "name": "stdout",
     "output_type": "stream",
     "text": [
      "Connected:  True\n"
     ]
    },
    {
     "name": "stderr",
     "output_type": "stream",
     "text": [
      "IOPub data rate exceeded.\n",
      "The notebook server will temporarily stop sending output\n",
      "to the client in order to avoid crashing it.\n",
      "To change this limit, set the config variable\n",
      "`--NotebookApp.iopub_data_rate_limit`.\n",
      "\n",
      "Current values:\n",
      "NotebookApp.iopub_data_rate_limit=1000000.0 (bytes/sec)\n",
      "NotebookApp.rate_limit_window=3.0 (secs)\n",
      "\n"
     ]
    },
    {
     "name": "stdout",
     "output_type": "stream",
     "text": [
      "exc_type: <class 'TypeError'>\n",
      "exc_value: can only concatenate list (not \"str\") to list\n",
      "exc_traceback: <traceback object at 0x00000255C2FA0440>\n"
     ]
    },
    {
     "ename": "TypeError",
     "evalue": "can only concatenate list (not \"str\") to list",
     "output_type": "error",
     "traceback": [
      "\u001b[1;31m---------------------------------------------------------------------------\u001b[0m",
      "\u001b[1;31mTypeError\u001b[0m                                 Traceback (most recent call last)",
      "\u001b[1;32m<ipython-input-5-e2472c67e8e0>\u001b[0m in \u001b[0;36m<module>\u001b[1;34m\u001b[0m\n\u001b[0;32m      3\u001b[0m \u001b[1;33m\u001b[0m\u001b[0m\n\u001b[0;32m      4\u001b[0m \u001b[0mstart\u001b[0m \u001b[1;33m=\u001b[0m \u001b[0mtimer\u001b[0m\u001b[1;33m(\u001b[0m\u001b[1;33m)\u001b[0m\u001b[1;33m\u001b[0m\u001b[1;33m\u001b[0m\u001b[0m\n\u001b[1;32m----> 5\u001b[1;33m \u001b[0mdf\u001b[0m \u001b[1;33m=\u001b[0m \u001b[0mdq_download\u001b[0m\u001b[1;33m(\u001b[0m\u001b[0mtickers\u001b[0m\u001b[1;33m=\u001b[0m\u001b[0mtix\u001b[0m\u001b[1;33m,\u001b[0m \u001b[0mmetrics\u001b[0m\u001b[1;33m=\u001b[0m\u001b[1;33m[\u001b[0m\u001b[1;34m'value'\u001b[0m\u001b[1;33m]\u001b[0m\u001b[1;33m,\u001b[0m \u001b[0mxcats\u001b[0m \u001b[1;33m=\u001b[0m \u001b[1;34m'DU05YXR_NSA'\u001b[0m\u001b[1;33m,\u001b[0m \u001b[0mstart_date\u001b[0m\u001b[1;33m=\u001b[0m\u001b[1;34m'2000-01-01'\u001b[0m\u001b[1;33m)\u001b[0m  \u001b[1;31m# import via API\u001b[0m\u001b[1;33m\u001b[0m\u001b[1;33m\u001b[0m\u001b[0m\n\u001b[0m\u001b[0;32m      6\u001b[0m \u001b[0mend\u001b[0m \u001b[1;33m=\u001b[0m \u001b[0mtimer\u001b[0m\u001b[1;33m(\u001b[0m\u001b[1;33m)\u001b[0m\u001b[1;33m\u001b[0m\u001b[1;33m\u001b[0m\u001b[0m\n\u001b[0;32m      7\u001b[0m \u001b[1;33m\u001b[0m\u001b[0m\n",
      "\u001b[1;32m<ipython-input-4-90f384c95492>\u001b[0m in \u001b[0;36mdq_download\u001b[1;34m(tickers, xcats, cids, metrics, start_date, path)\u001b[0m\n\u001b[0;32m     47\u001b[0m     \u001b[0mdf\u001b[0m \u001b[1;33m=\u001b[0m \u001b[0mpd\u001b[0m\u001b[1;33m.\u001b[0m\u001b[0mDataFrame\u001b[0m\u001b[1;33m(\u001b[0m\u001b[0mcolumns\u001b[0m \u001b[1;33m=\u001b[0m \u001b[1;33m[\u001b[0m\u001b[1;34m'cid'\u001b[0m\u001b[1;33m,\u001b[0m \u001b[1;34m'xcat'\u001b[0m\u001b[1;33m,\u001b[0m \u001b[1;34m'real_date'\u001b[0m\u001b[1;33m,\u001b[0m \u001b[1;34m'value'\u001b[0m\u001b[1;33m]\u001b[0m\u001b[1;33m)\u001b[0m\u001b[1;33m\u001b[0m\u001b[1;33m\u001b[0m\u001b[0m\n\u001b[0;32m     48\u001b[0m     \u001b[1;32mfor\u001b[0m \u001b[0mmetric\u001b[0m \u001b[1;32min\u001b[0m \u001b[0mmetrics\u001b[0m\u001b[1;33m:\u001b[0m\u001b[1;33m\u001b[0m\u001b[1;33m\u001b[0m\u001b[0m\n\u001b[1;32m---> 49\u001b[1;33m         \u001b[0mdf_add\u001b[0m \u001b[1;33m=\u001b[0m \u001b[0mdq_tickers\u001b[0m\u001b[1;33m(\u001b[0m\u001b[0mtickers\u001b[0m\u001b[1;33m,\u001b[0m \u001b[0mmetric\u001b[0m\u001b[1;33m=\u001b[0m\u001b[0mmetric\u001b[0m\u001b[1;33m,\u001b[0m \u001b[0mstart_date\u001b[0m \u001b[1;33m=\u001b[0m \u001b[0mstart_date\u001b[0m\u001b[1;33m,\u001b[0m \u001b[0mpath\u001b[0m \u001b[1;33m=\u001b[0m \u001b[0mpath\u001b[0m\u001b[1;33m)\u001b[0m\u001b[1;33m\u001b[0m\u001b[1;33m\u001b[0m\u001b[0m\n\u001b[0m\u001b[0;32m     50\u001b[0m         \u001b[0mdf\u001b[0m\u001b[1;33m.\u001b[0m\u001b[0mappend\u001b[0m\u001b[1;33m(\u001b[0m\u001b[0mdf_add\u001b[0m\u001b[1;33m)\u001b[0m\u001b[1;33m\u001b[0m\u001b[1;33m\u001b[0m\u001b[0m\n\u001b[0;32m     51\u001b[0m \u001b[1;33m\u001b[0m\u001b[0m\n",
      "\u001b[1;32m<ipython-input-3-d72e5bc5f3e5>\u001b[0m in \u001b[0;36mdq_tickers\u001b[1;34m(tickers, metric, start_date, path)\u001b[0m\n\u001b[0;32m     28\u001b[0m \u001b[1;33m\u001b[0m\u001b[0m\n\u001b[0;32m     29\u001b[0m         \u001b[0mprint\u001b[0m\u001b[1;33m(\u001b[0m\u001b[1;34m\"Connected: \"\u001b[0m\u001b[1;33m,\u001b[0m \u001b[0mdq\u001b[0m\u001b[1;33m.\u001b[0m\u001b[0mcheck_connection\u001b[0m\u001b[1;33m(\u001b[0m\u001b[1;33m)\u001b[0m\u001b[1;33m)\u001b[0m\u001b[1;33m\u001b[0m\u001b[1;33m\u001b[0m\u001b[0m\n\u001b[1;32m---> 30\u001b[1;33m         \u001b[0mdf\u001b[0m \u001b[1;33m=\u001b[0m \u001b[0mdq\u001b[0m\u001b[1;33m.\u001b[0m\u001b[0mget_ts_expression\u001b[0m\u001b[1;33m(\u001b[0m\u001b[0mexpression\u001b[0m\u001b[1;33m=\u001b[0m\u001b[0mdq_tix\u001b[0m\u001b[1;33m,\u001b[0m \u001b[0moriginal_metrics\u001b[0m\u001b[1;33m=\u001b[0m\u001b[0mmetric\u001b[0m\u001b[1;33m,\u001b[0m \u001b[0mstart_date\u001b[0m\u001b[1;33m=\u001b[0m\u001b[0mstart_date\u001b[0m\u001b[1;33m)\u001b[0m\u001b[1;33m\u001b[0m\u001b[1;33m\u001b[0m\u001b[0m\n\u001b[0m\u001b[0;32m     31\u001b[0m \u001b[1;33m\u001b[0m\u001b[0m\n\u001b[0;32m     32\u001b[0m         \u001b[1;32mif\u001b[0m \u001b[0misinstance\u001b[0m\u001b[1;33m(\u001b[0m\u001b[0mdf\u001b[0m\u001b[1;33m,\u001b[0m \u001b[0mpd\u001b[0m\u001b[1;33m.\u001b[0m\u001b[0mDataFrame\u001b[0m\u001b[1;33m)\u001b[0m\u001b[1;33m:\u001b[0m\u001b[1;33m\u001b[0m\u001b[1;33m\u001b[0m\u001b[0m\n",
      "\u001b[1;32mC:\\ProgramData\\Anaconda3\\lib\\site-packages\\macrosynergy\\management\\dq.py\u001b[0m in \u001b[0;36mget_ts_expression\u001b[1;34m(self, expression, original_metrics, **kwargs)\u001b[0m\n\u001b[0;32m    550\u001b[0m         \u001b[0mno_metrics\u001b[0m \u001b[1;33m=\u001b[0m \u001b[0mlen\u001b[0m\u001b[1;33m(\u001b[0m\u001b[0mset\u001b[0m\u001b[1;33m(\u001b[0m\u001b[1;33m[\u001b[0m\u001b[0mtick\u001b[0m\u001b[1;33m.\u001b[0m\u001b[0msplit\u001b[0m\u001b[1;33m(\u001b[0m\u001b[1;34m','\u001b[0m\u001b[1;33m)\u001b[0m\u001b[1;33m[\u001b[0m\u001b[1;33m-\u001b[0m\u001b[1;36m1\u001b[0m\u001b[1;33m]\u001b[0m\u001b[1;33m[\u001b[0m\u001b[1;33m:\u001b[0m\u001b[1;33m-\u001b[0m\u001b[1;36m1\u001b[0m\u001b[1;33m]\u001b[0m \u001b[1;32mfor\u001b[0m \u001b[0mtick\u001b[0m \u001b[1;32min\u001b[0m \u001b[0mexpression\u001b[0m\u001b[1;33m]\u001b[0m\u001b[1;33m)\u001b[0m\u001b[1;33m)\u001b[0m\u001b[1;33m\u001b[0m\u001b[1;33m\u001b[0m\u001b[0m\n\u001b[0;32m    551\u001b[0m \u001b[1;33m\u001b[0m\u001b[0m\n\u001b[1;32m--> 552\u001b[1;33m         \u001b[0mresults_dict\u001b[0m \u001b[1;33m=\u001b[0m \u001b[0mself\u001b[0m\u001b[1;33m.\u001b[0m\u001b[0misolate_timeseries\u001b[0m\u001b[1;33m(\u001b[0m\u001b[0mresults\u001b[0m\u001b[1;33m,\u001b[0m \u001b[0moriginal_metrics\u001b[0m\u001b[1;33m)\u001b[0m\u001b[1;33m\u001b[0m\u001b[1;33m\u001b[0m\u001b[0m\n\u001b[0m\u001b[0;32m    553\u001b[0m         \u001b[0mresults_dict\u001b[0m \u001b[1;33m=\u001b[0m \u001b[0mself\u001b[0m\u001b[1;33m.\u001b[0m\u001b[0mvalid_ticker\u001b[0m\u001b[1;33m(\u001b[0m\u001b[0mresults_dict\u001b[0m\u001b[1;33m)\u001b[0m\u001b[1;33m\u001b[0m\u001b[1;33m\u001b[0m\u001b[0m\n\u001b[0;32m    554\u001b[0m \u001b[1;33m\u001b[0m\u001b[0m\n",
      "\u001b[1;32mC:\\ProgramData\\Anaconda3\\lib\\site-packages\\macrosynergy\\management\\dq.py\u001b[0m in \u001b[0;36misolate_timeseries\u001b[1;34m(list_, metrics)\u001b[0m\n\u001b[0;32m    600\u001b[0m         \u001b[0mno_rows\u001b[0m \u001b[1;33m=\u001b[0m \u001b[0mts_arr\u001b[0m\u001b[1;33m[\u001b[0m\u001b[1;33m:\u001b[0m\u001b[1;33m,\u001b[0m \u001b[1;36m1\u001b[0m\u001b[1;33m]\u001b[0m\u001b[1;33m.\u001b[0m\u001b[0msize\u001b[0m\u001b[1;33m\u001b[0m\u001b[1;33m\u001b[0m\u001b[0m\n\u001b[0;32m    601\u001b[0m         \u001b[0mmodified_dict\u001b[0m \u001b[1;33m=\u001b[0m \u001b[1;33m{\u001b[0m\u001b[1;33m}\u001b[0m\u001b[1;33m\u001b[0m\u001b[1;33m\u001b[0m\u001b[0m\n\u001b[1;32m--> 602\u001b[1;33m         \u001b[0md_frame_order\u001b[0m \u001b[1;33m=\u001b[0m \u001b[1;33m[\u001b[0m\u001b[1;34m'real_date'\u001b[0m\u001b[1;33m]\u001b[0m \u001b[1;33m+\u001b[0m \u001b[0mmetrics\u001b[0m\u001b[1;33m\u001b[0m\u001b[1;33m\u001b[0m\u001b[0m\n\u001b[0m\u001b[0;32m    603\u001b[0m \u001b[1;33m\u001b[0m\u001b[0m\n\u001b[0;32m    604\u001b[0m         \u001b[1;32mfor\u001b[0m \u001b[0mk\u001b[0m\u001b[1;33m,\u001b[0m \u001b[0mv\u001b[0m \u001b[1;32min\u001b[0m \u001b[0moutput_dict\u001b[0m\u001b[1;33m.\u001b[0m\u001b[0mitems\u001b[0m\u001b[1;33m(\u001b[0m\u001b[1;33m)\u001b[0m\u001b[1;33m:\u001b[0m\u001b[1;33m\u001b[0m\u001b[1;33m\u001b[0m\u001b[0m\n",
      "\u001b[1;31mTypeError\u001b[0m: can only concatenate list (not \"str\") to list"
     ]
    }
   ],
   "source": [
    "cats = ['CPIXFE_SJA_P6M6ML6AR'] \n",
    "tix = [cid + '_' + cat for cid in cids for cat in cats]\n",
    "\n",
    "start = timer()\n",
    "df = dq_download(tickers=tix, metrics=['value'], xcats = 'DU05YXR_NSA', start_date='2000-01-01')  # import via API\n",
    "end = timer()\n",
    "\n",
    "print(\"Download time from DQ: \"+str(timedelta(seconds=end - start)))\n",
    "print(\"Last updated:\", date.today())"
   ]
  },
  {
   "cell_type": "code",
   "execution_count": 6,
   "id": "e10c0521",
   "metadata": {},
   "outputs": [
    {
     "ename": "NameError",
     "evalue": "name 'df' is not defined",
     "output_type": "error",
     "traceback": [
      "\u001b[1;31m---------------------------------------------------------------------------\u001b[0m",
      "\u001b[1;31mNameError\u001b[0m                                 Traceback (most recent call last)",
      "\u001b[1;32m<ipython-input-6-00cf07b74dcd>\u001b[0m in \u001b[0;36m<module>\u001b[1;34m\u001b[0m\n\u001b[1;32m----> 1\u001b[1;33m \u001b[0mdf\u001b[0m\u001b[1;33m\u001b[0m\u001b[1;33m\u001b[0m\u001b[0m\n\u001b[0m",
      "\u001b[1;31mNameError\u001b[0m: name 'df' is not defined"
     ]
    }
   ],
   "source": [
    "df"
   ]
  },
  {
   "cell_type": "code",
   "execution_count": 13,
   "id": "cf00f2f3",
   "metadata": {},
   "outputs": [
    {
     "name": "stdout",
     "output_type": "stream",
     "text": [
      "(56980, 4)\n",
      "   cid                       xcat  real_date     value\n",
      "0  AUD  INTRGDP_NSA_P1M1ML12_3MMA 2000-01-03  4.221025\n",
      "1  AUD  INTRGDP_NSA_P1M1ML12_3MMA 2000-01-04  4.221025\n",
      "2  AUD  INTRGDP_NSA_P1M1ML12_3MMA 2000-01-05  4.221025\n",
      "3  AUD  INTRGDP_NSA_P1M1ML12_3MMA 2000-01-06  4.221025\n",
      "4  AUD  INTRGDP_NSA_P1M1ML12_3MMA 2000-01-07  4.221025\n",
      "['AUD' 'CAD' 'CHF' 'EUR' 'GBP' 'JPY' 'NOK' 'NZD' 'SEK' 'USD']\n",
      "['INTRGDP_NSA_P1M1ML12_3MMA']\n"
     ]
    }
   ],
   "source": [
    "print(df.shape)\n",
    "print(df.head())\n",
    "print(df['cid'].unique())\n",
    "print(df['xcat'].unique())"
   ]
  }
 ],
 "metadata": {
  "kernelspec": {
   "display_name": "Python 3",
   "language": "python",
   "name": "python3"
  },
  "language_info": {
   "codemirror_mode": {
    "name": "ipython",
    "version": 3
   },
   "file_extension": ".py",
   "mimetype": "text/x-python",
   "name": "python",
   "nbconvert_exporter": "python",
   "pygments_lexer": "ipython3",
   "version": "3.8.8"
  },
  "varInspector": {
   "cols": {
    "lenName": 16,
    "lenType": 16,
    "lenVar": 40
   },
   "kernels_config": {
    "python": {
     "delete_cmd_postfix": "",
     "delete_cmd_prefix": "del ",
     "library": "var_list.py",
     "varRefreshCmd": "print(var_dic_list())"
    },
    "r": {
     "delete_cmd_postfix": ") ",
     "delete_cmd_prefix": "rm(",
     "library": "var_list.r",
     "varRefreshCmd": "cat(var_dic_list()) "
    }
   },
   "types_to_exclude": [
    "module",
    "function",
    "builtin_function_or_method",
    "instance",
    "_Feature"
   ],
   "window_display": false
  }
 },
 "nbformat": 4,
 "nbformat_minor": 5
}
