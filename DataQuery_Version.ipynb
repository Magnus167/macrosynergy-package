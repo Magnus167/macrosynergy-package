{
 "cells": [
  {
   "cell_type": "code",
   "execution_count": 1,
   "id": "b93eb2e6",
   "metadata": {},
   "outputs": [],
   "source": [
    "import yaml\n",
    "from macrosynergy.management.dq import DataQueryInterface"
   ]
  },
  {
   "cell_type": "code",
   "execution_count": 2,
   "id": "0d2a258e",
   "metadata": {},
   "outputs": [],
   "source": [
    "def dq_output(tickers=None, xcats=None, cids=None, metrics=['value'],\n",
    "              start_date='2000-01-01'):\n",
    "\n",
    "    with open(\"config.yml\", 'r') as f:\n",
    "        cf = yaml.load(f, Loader=yaml.FullLoader)\n",
    "\n",
    "    dq = DataQueryInterface(username=cf[\"dq\"][\"username\"], password=cf[\"dq\"][\"password\"],\n",
    "                            crt=\"api_macrosynergy_com.crt\",\n",
    "                            key=\"api_macrosynergy_com.key\")\n",
    "\n",
    "    df_ts = dq.download(tickers=tickers, xcats=xcats, cids=cids, metrics=metrics,\n",
    "                        start_date=start_date)\n",
    "\n",
    "    return df_ts"
   ]
  },
  {
   "cell_type": "code",
   "execution_count": 3,
   "id": "913a8e75",
   "metadata": {},
   "outputs": [
    {
     "name": "stdout",
     "output_type": "stream",
     "text": [
      "The ticker, DB(JPMAQS,ESP_CPIXFE_SJA_P6M6ML6AR, does not exist in the Database.\n",
      "The ticker, DB(JPMAQS,FRF_CPIXFE_SJA_P6M6ML6AR, does not exist in the Database.\n",
      "The ticker, DB(JPMAQS,ITL_CPIXFE_SJA_P6M6ML6AR, does not exist in the Database.\n",
      "The ticker, DB(JPMAQS,CLP_CPIXFE_SJA_P6M6ML6AR, does not exist in the Database.\n",
      "The ticker, DB(JPMAQS,DEM_CPIXFE_SJA_P6M6ML6AR, does not exist in the Database.\n",
      "The ticker, DB(JPMAQS,NLG_CPIXFE_SJA_P6M6ML6AR, does not exist in the Database.\n",
      "     cid                  xcat  real_date     value  eop_lag  mop_lag  grading\n",
      "0    AUD  CPIXFE_SJA_P6M6ML6AR 2021-11-01  1.820391      124      306      1.0\n",
      "1    AUD  CPIXFE_SJA_P6M6ML6AR 2021-11-02  1.820391      125      307      1.0\n",
      "2    AUD  CPIXFE_SJA_P6M6ML6AR 2021-11-03  1.820391      126      308      1.0\n",
      "3    AUD  CPIXFE_SJA_P6M6ML6AR 2021-11-04  1.820391      127      309      1.0\n",
      "4    AUD  CPIXFE_SJA_P6M6ML6AR 2021-11-05  1.820391      128      310      1.0\n",
      "..   ...                   ...        ...       ...      ...      ...      ...\n",
      "325  ZAR  CPIXFE_SJA_P6M6ML6AR 2021-11-09  2.973670       40      222      1.0\n",
      "326  ZAR  CPIXFE_SJA_P6M6ML6AR 2021-11-10  2.973670       41      223      1.0\n",
      "327  ZAR  CPIXFE_SJA_P6M6ML6AR 2021-11-11  2.973670       42      224      1.0\n",
      "328  ZAR  CPIXFE_SJA_P6M6ML6AR 2021-11-12  2.973670       43      225      1.0\n",
      "329  ZAR  CPIXFE_SJA_P6M6ML6AR 2021-11-15  2.973670       46      228      1.0\n",
      "\n",
      "[330 rows x 7 columns]\n"
     ]
    }
   ],
   "source": [
    "metrics = ['value', 'eop_lag', 'mop_lag', 'grading']\n",
    "xcat = 'CPIXFE_SJA_P6M6ML6AR'\n",
    "\n",
    "df = dq_output(xcats=xcat, metrics=metrics, start_date=\"2021-11-01\")\n",
    "print(df)"
   ]
  }
 ],
 "metadata": {
  "kernelspec": {
   "display_name": "Python 3",
   "language": "python",
   "name": "python3"
  },
  "language_info": {
   "codemirror_mode": {
    "name": "ipython",
    "version": 3
   },
   "file_extension": ".py",
   "mimetype": "text/x-python",
   "name": "python",
   "nbconvert_exporter": "python",
   "pygments_lexer": "ipython3",
   "version": "3.8.8"
  }
 },
 "nbformat": 4,
 "nbformat_minor": 5
}
