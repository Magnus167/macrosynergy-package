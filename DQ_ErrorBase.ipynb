{
 "cells": [
  {
   "cell_type": "code",
   "execution_count": 1,
   "id": "9d6dca3f",
   "metadata": {},
   "outputs": [
    {
     "name": "stdout",
     "output_type": "stream",
     "text": [
      "Current working directory: /Users/kurransteeds/repos/macrosynergy\n"
     ]
    }
   ],
   "source": [
    "import yaml\n",
    "import numpy as np\n",
    "import pandas as pd\n",
    "from timeit import default_timer as timer\n",
    "from datetime import timedelta, date\n",
    "\n",
    "from macrosynergy.management.dq import DataQueryInterface\n",
    "\n",
    "import os\n",
    "print(f\"Current working directory: {os.getcwd()}\")\n",
    "path_to_config = '..//data//'"
   ]
  },
  {
   "cell_type": "code",
   "execution_count": 2,
   "id": "5c468b6e",
   "metadata": {},
   "outputs": [],
   "source": [
    "cids_dmca = ['AUD', 'CAD', 'CHF', 'EUR', 'GBP', 'JPY', 'NOK', 'NZD', 'SEK', 'USD']  # DM currency areas\n",
    "cids_dmec = ['DEM', 'ESP', 'FRF', 'ITL', 'NLG']  # DM euro area countries\n",
    "cids_latm = ['ARS', 'BRL', 'COP', 'CLP', 'MXN', 'PEN']  # Latam countries\n",
    "cids_emea = ['HUF', 'ILS', 'PLN', 'RON', 'RUB', 'TRY', 'ZAR']  # EMEA countries\n",
    "cids_emas = ['CNY', 'HKD', 'IDR', 'INR', 'KRW', 'MYR', 'PHP', 'SGD', 'THB', 'TWD']  # EM Asia countries\n",
    "cids_dm = cids_dmca + cids_dmec\n",
    "cids_em = cids_latm + cids_emea + cids_emas\n",
    "cids = sorted(cids_dm + cids_em)\n",
    "\n",
    "cids_eufx = ['CHF', 'HUF', 'NOK', 'PLN', 'RON', 'SEK']  # EUR benchmark\n",
    "cids_g2fx = ['GBP', 'RUB', 'TRY']  # dual benchmark\n",
    "cids_usfx = ['AUD', 'BRL', 'CAD', 'CLP', 'CNY', 'COP', 'EUR', 'IDR', 'ILS', 'INR', 'JPY', 'KRW', 'MYR',\n",
    "             'MXN', 'NZD', 'PEN', 'PHP', 'SGD', 'THB', 'TWD', 'ZAR']  # USD benchmark\n",
    "cids_fx = cids_usfx + cids_eufx + cids_g2fx"
   ]
  },
  {
   "cell_type": "code",
   "execution_count": 3,
   "id": "4e47bd31",
   "metadata": {},
   "outputs": [],
   "source": [
    "def dq_tickers(tickers, metrics=['value'], start_date = '2000-01-01'):\n",
    "    \n",
    "    \"\"\"\n",
    "    Returns standardized dataframe of specified base tickers and metric\n",
    "    \n",
    "    \n",
    "    :param <List[str]> tickers: JPMaQS ticker of form <cid>_<xcat>.\n",
    "    :param <List[str]> metrics: must choose one or more from 'value', 'eop_lag', 'mop_lag', or 'grade'. Default is ['value'].\n",
    "    :param <str> start_date: first date in ISO 8601 string format. \n",
    "    :param <str> path: relative path from notebook to credential files.\n",
    "    \n",
    "    :return <pd.Dataframe> standardized dataframe with columns 'cid', 'xcats', 'real_date' and chosen metrics.\n",
    "    \"\"\"\n",
    "    \n",
    "    with open(f\"config.yml\", 'r') as f:\n",
    "        cf = yaml.load(f, Loader=yaml.FullLoader)\n",
    "\n",
    "    with DataQueryInterface(\n",
    "                username=cf[\"dq\"][\"username\"],\n",
    "                password=cf[\"dq\"][\"password\"],\n",
    "                crt=f\"api_macrosynergy_com.crt\",\n",
    "                key=f\"api_macrosynergy_com.key\") as dq:\n",
    "        \n",
    "        df = dq.get_ts_expression(expression=tickers, original_metrics=metrics, start_date=start_date, bool_=False)\n",
    "        \n",
    "        if isinstance(df, pd.DataFrame):\n",
    "            df = df.sort_values(['cid', 'xcat', 'real_date']).reset_index(drop=True)\n",
    "\n",
    "    return df"
   ]
  },
  {
   "cell_type": "code",
   "execution_count": 4,
   "id": "a8235566",
   "metadata": {},
   "outputs": [],
   "source": [
    "def dq_download(tickers=None, xcats=None, cids=None, metrics=['value'], start_date = '2000-01-01', path = '..//data//'):\n",
    "    \n",
    "    \"\"\"\n",
    "    Returns standardized dataframe of specified base tickers and metrics\n",
    "        \n",
    "    :param <List[str]> tickers: JPMaQS ticker of form <cid>_<xcat>. Can be combined with selection of categories.\n",
    "    :param <List[str]> xcats: JPMaQS category codes. Downloaded for all standard cross sections identifiers available \n",
    "    (if cids are not specified) or those selected (if cids are specified).\n",
    "    Standard cross sections here include major developed and emerging currency markets. See JPMaQS documentation.\n",
    "    :param <List[str]> cids: JPMaQS cross-section identifiers, typically based  on currency code. See JPMaQS documentation.\n",
    "    :param <str> metrics: must choose one or more from 'value', 'eop_lag', 'mop_lag', or 'grade'. Default is ['value'].\n",
    "    # Todo: allow multiple metrics to be downloaded\n",
    "    :param <str> start_date: first date in ISO 8601 string format. \n",
    "    :param <str> path: relative path from notebook to credential files.\n",
    "    \n",
    "    :return <pd.Dataframe> standardized dataframe with columns 'cid', 'xcats', 'real_date' and chosen metrics.\n",
    "    \"\"\"\n",
    "    \n",
    "    # A. Collect all standard cross sections.\n",
    "    \n",
    "    if (cids is None) & (xcats is not None):\n",
    "    \n",
    "        cids_dmca = ['AUD', 'CAD', 'CHF', 'EUR', 'GBP', 'JPY', 'NOK', 'NZD', 'SEK', 'USD']  # DM currency areas\n",
    "        cids_dmec = ['DEM', 'ESP', 'FRF', 'ITL', 'NLG']  # DM euro area countries\n",
    "        cids_latm = ['BRL', 'COP', 'CLP', 'MXN', 'PEN']  # Latam countries\n",
    "        cids_emea = ['HUF', 'ILS', 'PLN', 'RON', 'RUB', 'TRY', 'ZAR']  # EMEA countries\n",
    "        cids_emas = ['CNY', 'IDR', 'INR', 'KRW', 'MYR', 'PHP', 'SGD', 'THB', 'TWD']  # EM Asia countries\n",
    "        cids_dm = cids_dmca + cids_dmec\n",
    "        cids_em = cids_latm + cids_emea + cids_emas\n",
    "        cids = sorted(cids_dm + cids_em)  # standard default\n",
    "        \n",
    "    \n",
    "    # B. Collect all tickers and metrics to be downloaded\n",
    "    \n",
    "    if isinstance(tickers, str):\n",
    "        tickers = [tickers]\n",
    "    if isinstance(xcats, str):\n",
    "        xcats = [xcats]\n",
    "    if isinstance(cids, str):\n",
    "        cids = [cids]\n",
    "    if isinstance(metrics, str):\n",
    "        metrics = [metrics]\n",
    "     \n",
    "    if tickers is None:\n",
    "        tickers = []\n",
    "    \n",
    "    print(f\"xcats: {xcats}\")\n",
    "    if xcats is not None:\n",
    "        add_tix = [cid + '_' + xcat for xcat in xcats for cid in cids]\n",
    "        tickers = tickers + add_tix\n",
    "    \n",
    "    df = dq_tickers(tickers, metrics=metrics, start_date = start_date)\n",
    "        \n",
    "    return df"
   ]
  },
  {
   "cell_type": "code",
   "execution_count": 5,
   "id": "bda8fd35",
   "metadata": {},
   "outputs": [
    {
     "name": "stdout",
     "output_type": "stream",
     "text": [
      "xcats: None\n",
      "The ticker, DB(JPMAQS,ARS_CPIXFE_SJA_P6M6ML6AR, does not exist in the Database.\n",
      "The ticker, DB(JPMAQS,ITL_CPIXFE_SJA_P6M6ML6AR, does not exist in the Database.\n",
      "The ticker, DB(JPMAQS,DEM_CPIXFE_SJA_P6M6ML6AR, does not exist in the Database.\n",
      "The ticker, DB(JPMAQS,ESP_CPIXFE_SJA_P6M6ML6AR, does not exist in the Database.\n",
      "The ticker, DB(JPMAQS,NLG_CPIXFE_SJA_P6M6ML6AR, does not exist in the Database.\n",
      "The ticker, DB(JPMAQS,CLP_CPIXFE_SJA_P6M6ML6AR, does not exist in the Database.\n",
      "The ticker, DB(JPMAQS,HKD_CPIXFE_SJA_P6M6ML6AR, does not exist in the Database.\n",
      "The ticker, DB(JPMAQS,FRF_CPIXFE_SJA_P6M6ML6AR, does not exist in the Database.\n",
      "     cid                  xcat  real_date     value\n",
      "0    AUD  CPIXFE_SJA_P6M6ML6AR 2021-11-01  1.820391\n",
      "1    AUD  CPIXFE_SJA_P6M6ML6AR 2021-11-02  1.820391\n",
      "2    AUD  CPIXFE_SJA_P6M6ML6AR 2021-11-03  1.820391\n",
      "3    AUD  CPIXFE_SJA_P6M6ML6AR 2021-11-04  1.820391\n",
      "4    AUD  CPIXFE_SJA_P6M6ML6AR 2021-11-05  1.820391\n",
      "..   ...                   ...        ...       ...\n",
      "325  ZAR  CPIXFE_SJA_P6M6ML6AR 2021-11-09  2.973670\n",
      "326  ZAR  CPIXFE_SJA_P6M6ML6AR 2021-11-10  2.973670\n",
      "327  ZAR  CPIXFE_SJA_P6M6ML6AR 2021-11-11  2.973670\n",
      "328  ZAR  CPIXFE_SJA_P6M6ML6AR 2021-11-12  2.973670\n",
      "329  ZAR  CPIXFE_SJA_P6M6ML6AR 2021-11-15  2.973670\n",
      "\n",
      "[330 rows x 4 columns]\n",
      "Download time from DQ: 0:00:15.005163\n",
      "Last updated: 2021-11-16\n"
     ]
    }
   ],
   "source": [
    "tix = [cid + '_CPIXFE_SJA_P6M6ML6AR' for cid in cids]\n",
    "\n",
    "start = timer()\n",
    "df = dq_download(tickers=tix, metrics=['value'], xcats = None, start_date='2021-11-01')  # import via API\n",
    "end = timer()\n",
    "print(df)\n",
    "\n",
    "print(\"Download time from DQ: \"+ str(timedelta(seconds=end - start)))\n",
    "print(\"Last updated:\", date.today())"
   ]
  },
  {
   "cell_type": "code",
   "execution_count": 6,
   "id": "01132da2",
   "metadata": {},
   "outputs": [
    {
     "name": "stdout",
     "output_type": "stream",
     "text": [
      "(330, 4)\n",
      "   cid                  xcat  real_date     value\n",
      "0  AUD  CPIXFE_SJA_P6M6ML6AR 2021-11-01  1.820391\n",
      "1  AUD  CPIXFE_SJA_P6M6ML6AR 2021-11-02  1.820391\n",
      "2  AUD  CPIXFE_SJA_P6M6ML6AR 2021-11-03  1.820391\n",
      "3  AUD  CPIXFE_SJA_P6M6ML6AR 2021-11-04  1.820391\n",
      "4  AUD  CPIXFE_SJA_P6M6ML6AR 2021-11-05  1.820391\n",
      "['AUD' 'BRL' 'CAD' 'CHF' 'CNY' 'COP' 'EUR' 'GBP' 'HUF' 'IDR' 'ILS' 'INR'\n",
      " 'JPY' 'KRW' 'MXN' 'MYR' 'NOK' 'NZD' 'PEN' 'PHP' 'PLN' 'RON' 'RUB' 'SEK'\n",
      " 'SGD' 'THB' 'TRY' 'TWD' 'USD' 'ZAR']\n",
      "['CPIXFE_SJA_P6M6ML6AR']\n"
     ]
    }
   ],
   "source": [
    "print(df.shape)\n",
    "print(df.head())\n",
    "print(df['cid'].unique())\n",
    "print(df['xcat'].unique())"
   ]
  }
 ],
 "metadata": {
  "kernelspec": {
   "display_name": "Python 3",
   "language": "python",
   "name": "python3"
  },
  "language_info": {
   "codemirror_mode": {
    "name": "ipython",
    "version": 3
   },
   "file_extension": ".py",
   "mimetype": "text/x-python",
   "name": "python",
   "nbconvert_exporter": "python",
   "pygments_lexer": "ipython3",
   "version": "3.8.8"
  },
  "varInspector": {
   "cols": {
    "lenName": 16,
    "lenType": 16,
    "lenVar": 40
   },
   "kernels_config": {
    "python": {
     "delete_cmd_postfix": "",
     "delete_cmd_prefix": "del ",
     "library": "var_list.py",
     "varRefreshCmd": "print(var_dic_list())"
    },
    "r": {
     "delete_cmd_postfix": ") ",
     "delete_cmd_prefix": "rm(",
     "library": "var_list.r",
     "varRefreshCmd": "cat(var_dic_list()) "
    }
   },
   "types_to_exclude": [
    "module",
    "function",
    "builtin_function_or_method",
    "instance",
    "_Feature"
   ],
   "window_display": false
  }
 },
 "nbformat": 4,
 "nbformat_minor": 5
}
