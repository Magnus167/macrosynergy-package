{
 "cells": [
  {
   "cell_type": "markdown",
   "metadata": {},
   "source": [
    "## Get the data"
   ]
  },
  {
   "cell_type": "code",
   "execution_count": 1,
   "metadata": {},
   "outputs": [],
   "source": [
    "import pandas as pd\n",
    "import numpy as np\n",
    "import matplotlib.pyplot as plt\n",
    "import seaborn as sns"
   ]
  },
  {
   "cell_type": "code",
   "execution_count": 27,
   "metadata": {},
   "outputs": [],
   "source": [
    "from sklearn import datasets\n",
    "boston_X, boston_y = datasets.load_boston(return_X_y=True)\n",
    "\n",
    "from sklearn.model_selection import train_test_split\n",
    "from sklearn.metrics import mean_squared_error\n",
    "from sklearn.model_selection import cross_val_score"
   ]
  },
  {
   "cell_type": "markdown",
   "metadata": {
    "heading_collapsed": true
   },
   "source": [
    "## Simple OLS"
   ]
  },
  {
   "cell_type": "code",
   "execution_count": 16,
   "metadata": {
    "hidden": true
   },
   "outputs": [],
   "source": [
    "from sklearn.linear_model import LinearRegression"
   ]
  },
  {
   "cell_type": "code",
   "execution_count": 22,
   "metadata": {
    "hidden": true
   },
   "outputs": [
    {
     "name": "stdout",
     "output_type": "stream",
     "text": [
      "R2  :  0.71\n",
      "RMSE:  5.25\n"
     ]
    }
   ],
   "source": [
    "X_train, X_test, y_train, y_test = train_test_split(boston_X, boston_y, test_size=0.3, random_state=21)\n",
    "\n",
    "reg = LinearRegression()  # instantiate regression\n",
    "reg.fit(X_train, y_train)  # train regression\n",
    "\n",
    "r2 = reg.score(X_test, y_test)  # get R2 without need to .predict()\n",
    "\n",
    "y_pred = reg.predict(X_test)  # predicted dependents for test sample\n",
    "rmse = mean_squared_error(y_pred, y_test, squared=False)  # RMSE for test sample\n",
    "\n",
    "print(f\"R2  : {r2: 0.2f}\\nRMSE: {rmse: 0.2f}\")"
   ]
  },
  {
   "cell_type": "markdown",
   "metadata": {},
   "source": [
    "## Regularized regressions"
   ]
  },
  {
   "cell_type": "markdown",
   "metadata": {},
   "source": [
    "Regularization penalizes large coefficients in regression to combat overfitting."
   ]
  },
  {
   "cell_type": "markdown",
   "metadata": {},
   "source": [
    "### Ridge regression"
   ]
  },
  {
   "cell_type": "markdown",
   "metadata": {},
   "source": [
    "Ridge regression operates like OLS but, beyond minimizing squared errors, also <u>penalizes squared regression coefficients</u> (**L2 regularization**). This optimization reduces the magnitude of coefficients rather than the number of coefficients.\n",
    "\n",
    "The penalization weight is the key hyperparameter. The parameter manages the trade-off between overfitting (no penalty) and underfitting (high penalty). It is often set to optimize the prediction performance of a training set. This is called hyperparameter tuning.\n",
    "\n",
    "In the instantiation of the ridge object **alpha** is the quadratic coefficient size penalty, while **normalize** puts all variables on the same scale "
   ]
  },
  {
   "cell_type": "code",
   "execution_count": 23,
   "metadata": {},
   "outputs": [],
   "source": [
    "from sklearn.linear_model import Ridge"
   ]
  },
  {
   "cell_type": "code",
   "execution_count": 25,
   "metadata": {},
   "outputs": [
    {
     "name": "stdout",
     "output_type": "stream",
     "text": [
      "R2  :  0.69\n",
      "RMSE:  5.44\n"
     ]
    }
   ],
   "source": [
    "X_train, X_test, y_train, y_test = train_test_split(boston_X, boston_y, test_size = 0.3, random_state=21)\n",
    "\n",
    "ridge = Ridge(alpha=0.2, normalize=True)  # instantiate regression of Ridge class\n",
    "ridge.fit(X_train, y_train)\n",
    "\n",
    "r2 = ridge.score(X_test, y_test)  # get R2 without need to .predict()\n",
    "\n",
    "y_pred = ridge.predict(X_test)\n",
    "rmse = mean_squared_error(y_pred, y_test, squared=False)  # RMSE for test sample\n",
    "\n",
    "print(f\"R2  : {r2: 0.2f}\\nRMSE: {rmse: 0.2f}\")"
   ]
  },
  {
   "cell_type": "markdown",
   "metadata": {},
   "source": [
    "### Lasso"
   ]
  },
  {
   "cell_type": "markdown",
   "metadata": {},
   "source": [
    "Losso regression penalizes absolute regression coefficients (**L1 regularization**). This serves to select features because - unlike Ridge regression - it shrinks coefficients linearly and sets many coefficients to zero."
   ]
  },
  {
   "cell_type": "code",
   "execution_count": 44,
   "metadata": {},
   "outputs": [],
   "source": [
    "from sklearn.linear_model import Lasso"
   ]
  },
  {
   "cell_type": "code",
   "execution_count": null,
   "metadata": {},
   "outputs": [],
   "source": [
    "X_train, X_test, y_train, y_test = train_test_split(boston_X, boston_y, test_size = 0.3, random_state=21)\n",
    "\n",
    "lasso = Lasso(alpha=0.1, normalize=True)\n",
    "lasso.fit(X_train, y_train)\n",
    "lasso_pred = lasso.predict(X_test)\n",
    "lasso.score(X_test, y_test)"
   ]
  }
 ],
 "metadata": {
  "kernelspec": {
   "display_name": "Python 3",
   "language": "python",
   "name": "python3"
  },
  "language_info": {
   "codemirror_mode": {
    "name": "ipython",
    "version": 3
   },
   "file_extension": ".py",
   "mimetype": "text/x-python",
   "name": "python",
   "nbconvert_exporter": "python",
   "pygments_lexer": "ipython3",
   "version": "3.8.3"
  }
 },
 "nbformat": 4,
 "nbformat_minor": 4
}
