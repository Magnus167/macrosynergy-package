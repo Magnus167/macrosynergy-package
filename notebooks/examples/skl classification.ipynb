{
 "cells": [
  {
   "cell_type": "markdown",
   "metadata": {},
   "source": [
    "## Get the data"
   ]
  },
  {
   "cell_type": "code",
   "execution_count": 1,
   "metadata": {},
   "outputs": [],
   "source": [
    "import pandas as pd\n",
    "import numpy as np\n",
    "import matplotlib.pyplot as plt\n",
    "import seaborn as sns\n",
    "\n",
    "from sklearn import datasets"
   ]
  },
  {
   "cell_type": "markdown",
   "metadata": {},
   "source": [
    "## Nearest neighbors"
   ]
  },
  {
   "cell_type": "markdown",
   "metadata": {},
   "source": [
    "### K-nearest neighbors classifier"
   ]
  },
  {
   "cell_type": "markdown",
   "metadata": {},
   "source": [
    "The principle behind nearest neighbor methods is to find a predefined number of training samples closest in distance to the new point, and predict the label of the new point from these. This is the simplest possible classifier.\n",
    "\n",
    "Put simply the KNN classifier takes the k closest neighbours of an unlabelled datapoint, measures closeness according to all relevant dimensions and classifies unlabelled data point by majority vote. Thereby the classifier creates a set of **'decision boundaries'**.\n",
    "\n",
    "The number k determines how many samples are considered relevant neighbors. A <u>low k is selective and fits the labels close to the training data</u>. This implies a complex model that is prone to **overfitting**. A high k is inclusive. It implies a smooth decision boundary and a simpler model, but - if taken too far - runs the risk of ignoring training data patterns, i.e **underfitting**."
   ]
  },
  {
   "cell_type": "markdown",
   "metadata": {},
   "source": [
    "## Evaluation based on confusion matrix"
   ]
  },
  {
   "cell_type": "code",
   "execution_count": 6,
   "metadata": {},
   "outputs": [],
   "source": [
    "iris = datasets.load_iris()\n",
    "iris_X, iris_y = datasets.load_iris(return_X_y=True) \n",
    "iris_y = iris_y == 2  # convert to binary\n",
    "\n",
    "from sklearn import model_selection as skmos\n",
    "X_train, X_test, y_train, y_test = skmos.train_test_split(iris_X, iris_y, test_size=0.3, random_state=21, stratify=iris_y)\n",
    "\n",
    "from sklearn.neighbors import KNeighborsClassifier\n",
    "knn = KNeighborsClassifier(n_neighbors=5)  # instantiate estimator\n",
    "knn.fit(X_train, y_train)  # fit the estimator\n",
    "y_pred = knn.predict(X_test)  # predict test targets"
   ]
  },
  {
   "cell_type": "markdown",
   "metadata": {},
   "source": [
    "A confusion matrix, which informs on the accuracy of classification, can be produced through the appropriate method or be directly plotted."
   ]
  },
  {
   "cell_type": "code",
   "execution_count": 7,
   "metadata": {},
   "outputs": [
    {
     "name": "stdout",
     "output_type": "stream",
     "text": [
      "[[0.64444444 0.02222222]\n",
      " [0.         0.33333333]]\n"
     ]
    },
    {
     "data": {
      "text/plain": [
       "<sklearn.metrics._plot.confusion_matrix.ConfusionMatrixDisplay at 0x2456ac5aaf0>"
      ]
     },
     "execution_count": 7,
     "metadata": {},
     "output_type": "execute_result"
    },
    {
     "data": {
      "image/png": "[encoded data removed]",
      "text/plain": [
       "<Figure size 432x288 with 2 Axes>"
      ]
     },
     "metadata": {
      "needs_background": "light"
     },
     "output_type": "display_data"
    }
   ],
   "source": [
    "from sklearn import metrics\n",
    "cfm = metrics.confusion_matrix(y_test, y_pred, normalize='all')  # simple normalized confusion matrix\n",
    "print(cfm)\n",
    "metrics.plot_confusion_matrix(knn, X_test, y_test, normalize='all')  # confusion matrix applied directly to model"
   ]
  },
  {
   "cell_type": "markdown",
   "metadata": {},
   "source": [
    "Scikit-learn offers various evaluation metrics for classifiers,\n",
    "\n",
    "**Accuracy classification score**: The accuracy_score function computes the accuracy, either the fraction (default) or the count (normalize=False) of correct predictions.\n",
    "\n",
    "**Balanced accuracy score**:\n",
    "Balanced accuracy is the average of *sensitivity* (true positive rate or recall) and *specificity* (true negative rate). Sensitivity answers the question: 'How many of the positive cases did I detect?' Specificity answers that same question but for the negative cases. In contrast to standard accuracy, balanced accuracy attempts to account for the imbalance in classes.\n",
    "\n",
    "**Precision/recall metrics**:\n",
    "<u>Precision is the ratio of true positives to the sum of true and false positives</u>. As a success metric it penalizes particularly a 'tight net' for capturing the positives. By contrast, <u>recall is the ratio of true positives to the sum of true positives and false negatives</u>. The recall metric penalizes particularly a 'wide net' for capturing positives. There is evidently a trade-off between precision and recall. The greater the emphasis on avoiding false positives, the greater the emphasis on precision. The more one focuses on avoiding missing out on positive, the greater the emphasis on recall.\n",
    "In a classifier the trade-off is often managed through the threshold level that divides the classification. Typically, <u>a low threshold gives low precision but high recall</u>. A high threshold gives high precision but low recall.\n",
    "The **Receiver Operating Characteristic (ROC) curve** shows how the recall versus precision relationship changes as we vary the threshold for identifying a positive in our model.\n",
    "* For a good blend of precision and recall we can combine the two metrics to an the **F1 score**. The F1 score is the <u>harmonic mean of precision and recall values</u>, taking both metrics into account. It is precision times recall divided by the average of precision and recall. The harmonic mean punishes extreme values. SKL offers various F1 scores for binary, averaged, and multilabel samples.\n",
    "* The **average precision score** summarizes a precision-recall curve as the <u>weighted mean of precisions achieved at each threshold</u>, with the increase in recall from the previous threshold used as the weight. This only works with a binary class."
   ]
  },
  {
   "cell_type": "code",
   "execution_count": 4,
   "metadata": {},
   "outputs": [
    {
     "name": "stdout",
     "output_type": "stream",
     "text": [
      "Accuracy: 0.9777777777777777\n",
      "Balanced accuracy: 0.9777777777777779\n",
      "Weighted F1 score: 0.9777530589543938\n",
      "Average precision: 0.9375\n"
     ]
    }
   ],
   "source": [
    "acz = metrics.accuracy_score(y_test, y_pred)\n",
    "baz = metrics.balanced_accuracy_score(y_test, y_pred)\n",
    "wf1 = metrics.f1_score(y_test, y_pred, average='weighted')\n",
    "apr = metrics.average_precision_score(y_test>1, y_pred>1)\n",
    "print(f'Accuracy: {acz}\\nBalanced accuracy: {baz}\\nWeighted F1 score: {wf1}\\nAverage precision: {apr}')"
   ]
  },
  {
   "cell_type": "code",
   "execution_count": 8,
   "metadata": {},
   "outputs": [
    {
     "name": "stdout",
     "output_type": "stream",
     "text": [
      "              precision    recall  f1-score   support\n",
      "\n",
      "       False       1.00      0.97      0.98        30\n",
      "        True       0.94      1.00      0.97        15\n",
      "\n",
      "    accuracy                           0.98        45\n",
      "   macro avg       0.97      0.98      0.98        45\n",
      "weighted avg       0.98      0.98      0.98        45\n",
      "\n"
     ]
    }
   ],
   "source": [
    "print(metrics.classification_report(y_test, y_pred))"
   ]
  },
  {
   "cell_type": "markdown",
   "metadata": {},
   "source": [
    "## Tryouts"
   ]
  }
 ],
 "metadata": {
  "kernelspec": {
   "display_name": "Python 3",
   "language": "python",
   "name": "python3"
  },
  "language_info": {
   "codemirror_mode": {
    "name": "ipython",
    "version": 3
   },
   "file_extension": ".py",
   "mimetype": "text/x-python",
   "name": "python",
   "nbconvert_exporter": "python",
   "pygments_lexer": "ipython3",
   "version": "3.8.3"
  }
 },
 "nbformat": 4,
 "nbformat_minor": 4
}
