{
 "cells": [
  {
   "cell_type": "markdown",
   "metadata": {},
   "source": [
    "# Get it all"
   ]
  },
  {
   "cell_type": "code",
   "execution_count": 3,
   "metadata": {},
   "outputs": [],
   "source": [
    "import sqlalchemy\n",
    "import numpy as np\n",
    "import pandas as pd\n",
    "import matplotlib.pyplot as plt\n",
    "import seaborn as sns\n",
    "import math\n",
    "\n",
    "import macrosynergy as ms\n",
    "import qstools.indicators as qsi\n",
    "\n",
    "import warnings\n",
    "warnings.simplefilter('ignore')"
   ]
  },
  {
   "cell_type": "code",
   "execution_count": 2,
   "metadata": {},
   "outputs": [],
   "source": [
    "cids_dmca = ['AUD', 'CAD', 'CHF', 'EUR', 'GBP', 'JPY', 'NOK', 'NZD', 'SEK', 'USD']  # DM currency areas\n",
    "cids_dmec = ['DEM', 'ESP', 'FRF', 'ITL', 'NLG']  # DM euro area countries\n",
    "cids_latm = ['ARS', 'BRL', 'COP', 'CLP', 'MXN', 'PEN']  # Latam countries\n",
    "cids_emea = ['HUF', 'ILS', 'PLN', 'RON', 'RUB', 'TRY', 'ZAR']  # EMEA countries\n",
    "cids_emas = ['CNY', 'HKD', 'IDR', 'INR', 'KRW', 'MYR', 'PHP', 'SGD', 'THB', 'TWD']  # EM Asia countries\n",
    "cids_dm = cids_dmca + cids_dmec\n",
    "cids_em = cids_latm + cids_emea + cids_emas\n",
    "cids = sorted(cids_dm + cids_em)"
   ]
  },
  {
   "cell_type": "code",
   "execution_count": 4,
   "metadata": {},
   "outputs": [],
   "source": [
    "from_DB = True\n",
    "path_to_feather = \"..//..//data//feathers//\"\n",
    "\n",
    "xcats = ['BXBGDPRATIO_NSA_12MMA', 'BXBGDPRATIO_NSA_12MMA_D1M1ML3',\n",
    "         'CABGDPRATIO_NSA_12MMA', 'MTBGDPRATIO_NSA_12MMA',\n",
    "         'MTBGDPRATIO_NSA_12MMA_D1M1ML3', 'NFDIGDPRATIO_NSA_12MMA']\n",
    "\n",
    "if from_DB:\n",
    "    dbi = qsi.DownloadQuantamentalIndicators(username=\"rsueppel\",\n",
    "                                             host=\"qs-db.cpdsgdta9z0z.eu-west-2.rds.amazonaws.com\",\n",
    "                                             password=\"l3oT7^WerjY#O!9EGqvL\",\n",
    "                                             database=\"qs_jpm_point_time\")\n",
    "    dfd = dbi.get_xcat(cross_section = cids, xcat = xcats).reset_index(drop=True)\n",
    "    dfd.to_feather(f'{path_to_feather}dfd_xbr_qmtl.ftr')   \n",
    "else:\n",
    "    dfd = pd.read_feather(f'{path_to_feather}dfd_xbr_qmtl.ftr')"
   ]
  },
  {
   "cell_type": "code",
   "execution_count": 5,
   "metadata": {},
   "outputs": [],
   "source": [
    "dfd[['cross_section', 'xcat']] = dfd['ticker'].str.split('_', 1, expand=True)\n",
    "dfd['real_date'] = pd.to_datetime(dfd['real_date'])"
   ]
  },
  {
   "cell_type": "code",
   "execution_count": 6,
   "metadata": {},
   "outputs": [
    {
     "name": "stdout",
     "output_type": "stream",
     "text": [
      "<class 'pandas.core.frame.DataFrame'>\n",
      "RangeIndex: 1023249 entries, 0 to 1023248\n",
      "Data columns (total 8 columns):\n",
      " #   Column         Non-Null Count    Dtype         \n",
      "---  ------         --------------    -----         \n",
      " 0   ticker         1023249 non-null  object        \n",
      " 1   real_date      1023249 non-null  datetime64[ns]\n",
      " 2   value          1023249 non-null  float64       \n",
      " 3   grading        1023249 non-null  object        \n",
      " 4   eop_lag        1023249 non-null  int64         \n",
      " 5   mop_lag        1023249 non-null  int64         \n",
      " 6   cross_section  1023249 non-null  object        \n",
      " 7   xcat           1023249 non-null  object        \n",
      "dtypes: datetime64[ns](1), float64(1), int64(2), object(4)\n",
      "memory usage: 62.5+ MB\n"
     ]
    }
   ],
   "source": [
    "dfd.info()"
   ]
  }
 ],
 "metadata": {
  "kernelspec": {
   "display_name": "Python 3",
   "language": "python",
   "name": "python3"
  },
  "language_info": {
   "codemirror_mode": {
    "name": "ipython",
    "version": 3
   },
   "file_extension": ".py",
   "mimetype": "text/x-python",
   "name": "python",
   "nbconvert_exporter": "python",
   "pygments_lexer": "ipython3",
   "version": "3.8.3"
  }
 },
 "nbformat": 4,
 "nbformat_minor": 4
}
