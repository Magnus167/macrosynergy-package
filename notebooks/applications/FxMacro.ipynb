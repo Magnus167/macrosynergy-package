{
 "cells": [
  {
   "cell_type": "markdown",
   "metadata": {},
   "source": [
    "## Get the data"
   ]
  },
  {
   "cell_type": "code",
   "execution_count": 1,
   "metadata": {},
   "outputs": [],
   "source": [
    "import sqlalchemy\n",
    "import numpy as np\n",
    "import pandas as pd\n",
    "import matplotlib.pyplot as plt\n",
    "import seaborn as sns\n",
    "import qstools as qs\n",
    "import qstools.indicators as qsi\n",
    "import math\n",
    "\n",
    "import warnings\n",
    "warnings.simplefilter('ignore')"
   ]
  },
  {
   "cell_type": "code",
   "execution_count": 2,
   "metadata": {},
   "outputs": [],
   "source": [
    "cids_dmca = ['AUD', 'CAD', 'CHF', 'EUR', 'GBP', 'JPY', 'NOK', 'NZD', 'SEK', 'USD']  # DM currency areas\n",
    "cids_dmec = ['DEM', 'ESP', 'FRF', 'ITL', 'NLG']  # DM euro area countries\n",
    "cids_latm = ['ARS', 'BRL', 'COP', 'CLP', 'MXN', 'PEN']  # Latam countries\n",
    "cids_emea = ['HUF', 'ILS', 'PLN', 'RON', 'RUB', 'TRY', 'ZAR']  # EMEA countries\n",
    "cids_emas = ['CNY', 'HKD', 'IDR', 'INR', 'KRW', 'MYR', 'PHP', 'SGD', 'THB', 'TWD']  # EM Asia countries\n",
    "cids_dm = cids_dmca + cids_dmec\n",
    "cids_em = cids_latm + cids_emea + cids_emas\n",
    "cids = sorted(cids_dm + cids_em)\n",
    "\n",
    "cids_eufx = ['CHF', 'HUF', 'NOK', 'PLN', 'RON', 'SEK']  # EUR benchmark\n",
    "cids_g2fx = ['GBP', 'RUB', 'TRY']  # dual benchmark\n",
    "cids_usfx = ['AUD', 'BRL', 'CAD', 'CLP', 'CNY', 'COP', 'EUR', 'IDR', 'ILS', 'INR', 'JPY', 'KRW', 'MYR',\n",
    "             'MXN', 'NZD', 'PEN', 'PHP', 'SGD', 'THB', 'TWD', 'ZAR']  # USD benchmark\n",
    "cids_fx = cids_usfx + cids_eufx + cids_g2fx "
   ]
  },
  {
   "cell_type": "code",
   "execution_count": 3,
   "metadata": {},
   "outputs": [],
   "source": [
    "from_DB = True\n",
    "path_to_feather = \"..//data//feathers//\"  # \n",
    "xcats = ['INTRGDP_NSA_P1M1ML12_3MMA',  # GROWTH_DIFF\n",
    "         'BXBGDPRATIO_NSA_12MMA', 'MTBGDPRATIO_NSA_12MMA_D1M1ML3',  # XBAL_STRENGTH\n",
    "         'INFTEFF_NSA', 'CPIC_SJA_P6M6ML6AR',  'CPIH_SJA_P6M6ML6AR', # INF_PRESSURE\n",
    "         'PCREDITGDP_SJA_D1M1ML12', 'PCREDITBN_SJA_P1M1ML12',  # CREDIT_DIFF\n",
    "         'RIRvBM_NSA', 'FXCRR_NSA',  # REALRATE_DIFF\n",
    "         'NEER_NSA_P1M1ML12', 'REER_NSA_P1M60ML1',  # FXWEAK\n",
    "         'FXXRBETAvGDRB_NSA']  # RISK_BETA_NEG\n",
    "\n",
    "# Add REER\n",
    "\n",
    "if from_DB:\n",
    "    \n",
    "    dbi = qsi.DownloadQuantamentalIndicators(username=\"rsueppel\",\n",
    "                                             host=\"qs-db.cpdsgdta9z0z.eu-west-2.rds.amazonaws.com\",\n",
    "                                             password=\"l3oT7^WerjY#O!9EGqvL\",\n",
    "                                             database=\"qs_jpm_point_time\")\n",
    "    dfd_imp = dbi.get_xcat(cross_section = cids, xcat = xcats).reset_index(drop=True)    \n",
    "    dfd_imp.to_feather(f'{path_to_feather}dfd_fxmacro.ftr')\n",
    "        \n",
    "else:\n",
    "        \n",
    "    dfd_imp = pd.read_feather(f'{path_to_feather}dfd_fxmacro.ftr')"
   ]
  },
  {
   "cell_type": "code",
   "execution_count": 4,
   "metadata": {},
   "outputs": [],
   "source": [
    "dfd_imp[['cid', 'cat']] = dfd_imp['ticker'].str.split('_', 1, expand=True)  # split string column\n",
    "dfd_imp['real_date'] = pd.to_datetime(dfd_imp['real_date'])\n",
    "dfd_imp.sort_values(['ticker', 'real_date'], inplace=True)"
   ]
  },
  {
   "cell_type": "code",
   "execution_count": 5,
   "metadata": {},
   "outputs": [
    {
     "name": "stdout",
     "output_type": "stream",
     "text": [
      "<class 'pandas.core.frame.DataFrame'>\n",
      "Int64Index: 2314245 entries, 1668769 to 1513123\n",
      "Data columns (total 8 columns):\n",
      " #   Column     Dtype         \n",
      "---  ------     -----         \n",
      " 0   ticker     object        \n",
      " 1   real_date  datetime64[ns]\n",
      " 2   value      float64       \n",
      " 3   grading    object        \n",
      " 4   eop_lag    int64         \n",
      " 5   mop_lag    int64         \n",
      " 6   cid        object        \n",
      " 7   cat        object        \n",
      "dtypes: datetime64[ns](1), float64(1), int64(2), object(4)\n",
      "memory usage: 158.9+ MB\n"
     ]
    }
   ],
   "source": [
    "dfd_imp.info()"
   ]
  },
  {
   "cell_type": "code",
   "execution_count": 6,
   "metadata": {},
   "outputs": [],
   "source": [
    "dfd = dfd_imp[['cid', 'cat', 'real_date', 'value']]"
   ]
  },
  {
   "cell_type": "code",
   "execution_count": 7,
   "metadata": {},
   "outputs": [
    {
     "name": "stdout",
     "output_type": "stream",
     "text": [
      "Missing xcats across df:  set()\n",
      "Missing cids for BXBGDPRATIO_NSA_12MMA:  set()\n",
      "Missing cids for CPIC_SJA_P6M6ML6AR:  set()\n",
      "Missing cids for CPIH_SJA_P6M6ML6AR:  set()\n",
      "Missing cids for FXCRR_NSA:  {'USD'}\n",
      "Missing cids for FXXRBETAvGDRB_NSA:  {'USD'}\n",
      "Missing cids for INFTEFF_NSA:  set()\n",
      "Missing cids for INTRGDP_NSA_P1M1ML12_3MMA:  set()\n",
      "Missing cids for MTBGDPRATIO_NSA_12MMA_D1M1ML3:  set()\n",
      "Missing cids for NEER_NSA_P1M1ML12:  set()\n",
      "Missing cids for PCREDITBN_SJA_P1M1ML12:  set()\n",
      "Missing cids for PCREDITGDP_SJA_D1M1ML12:  set()\n",
      "Missing cids for REER_NSA_P1M60ML1:  set()\n",
      "Missing cids for RIRvBM_NSA:  {'USD'}\n"
     ]
    }
   ],
   "source": [
    "cids_exp = cids_fx + ['USD']  # expected cids\n",
    "xcats_exp = xcats  # expected xcats, in most cases equal to xcats\n",
    "\n",
    "print('Missing xcats across df: ', set(xcats_exp) - set(dfd['cat'].unique()))  # any xcats missing\n",
    "xcats_used = sorted(list(set(xcats_exp).intersection(set(dfd['cat'].unique()))))\n",
    "for xcat in xcats_used:\n",
    "    cids_xcat = dfd.loc[dfd['cat']==xcat, 'cid'].unique()\n",
    "    print(f'Missing cids for {xcat}: ', set(cids_exp) - set(cids_xcat))  # any cross section missing?"
   ]
  },
  {
   "cell_type": "markdown",
   "metadata": {},
   "source": [
    "## Functions"
   ]
  },
  {
   "cell_type": "code",
   "execution_count": 8,
   "metadata": {},
   "outputs": [],
   "source": [
    "def znscore(df, xcats, cids = None, start = '2000-01-01', pw=0, signs=None):\n",
    "    dfx = df.loc[(df['real_date'] >= pd.to_datetime(start)), ]\n",
    "    \n",
    "    if signs is None:\n",
    "        signs = [1] * len(xcats)\n",
    "    \n",
    "    cids_in_df = dfx['cid'].unique()\n",
    "    if cids is None:\n",
    "        cids = sorted(cids_in_df)\n",
    "    else:\n",
    "        print(f'Missing cross sections: ', set(cids) - set(cids_in_df))\n",
    "        cids = sorted(list(set(cids).intersection(set(cids_in_df))))\n",
    "        dfx = dfx[dfx['cid'].isin(cids)]\n",
    "\n",
    "    dfzn = pd.DataFrame(columns = df.columns)\n",
    "    for xcat, sign in zip(xcats, signs):\n",
    "        dfxx = dfx[(dfx['cat'] == xcat)].pivot(index='real_date', columns='cid', values='value')\n",
    "        pan_mabs = dfxx.abs().mean()  # panel mean absolute value\n",
    "        cid_mabs = dfxx.apply(lambda x: np.mean(abs(x)), axis=0)  # cross-sectional mean absolute values\n",
    "        dfxa = sign * dfxx / (pw * pan_mabs + (1-pw) * cid_mabs)  # weighted average of panel and cs means\n",
    "        dfxa = dfxa.unstack().reset_index().rename({0 : 'value'}, axis=1)\n",
    "        dfxa['cat'] = xcat + 'ZN' if sign == 1 else xcat + 'ZNN'\n",
    "        dfzn = dfzn.append(dfxa[df.columns])\n",
    "    return dfzn.reset_index(drop=True)"
   ]
  },
  {
   "cell_type": "code",
   "execution_count": 9,
   "metadata": {},
   "outputs": [],
   "source": [
    "def group_zn(df, xcats, cids=None, gname='GROUP_ZN', re_zn = True):\n",
    "    \n",
    "    dfx = df[df['cat'].isin(xcats)]\n",
    "    cids_in_df = dfx['cid'].unique()\n",
    "    if cids is None:\n",
    "        cids = sorted(cids_in_df)\n",
    "    else:\n",
    "        print(f'Missing cross sections: ', set(cids) - set(cids_in_df))\n",
    "        cids = sorted(list(set(cids).intersection(set(cids_in_df))))\n",
    "        dfx = dfx[dfx['cid'].isin(cids)]\n",
    "\n",
    "    dfx_piv = dfx.pivot(index=['cid', 'real_date'], columns='cat', values='value')\n",
    "\n",
    "    dfxx = dfx_piv.mean(axis=1).reset_index().rename({0 : 'value'}, axis=1)\n",
    "    if re_zn:\n",
    "        dfxx['value'] = dfxx['value'] / dfxx['value'].abs().mean()\n",
    "    dfxx['cat'] = gname\n",
    "    return dfxx[df.columns]"
   ]
  },
  {
   "cell_type": "code",
   "execution_count": 10,
   "metadata": {},
   "outputs": [],
   "source": [
    "def global_score(df, xcats, cids=None, score_date=None, rank=True, header='Feature space', thresh=4):\n",
    "    \n",
    "    dfx = df[df['cat'].isin(xcats)]\n",
    "    cids_in_df = dfx['cid'].unique()\n",
    "    if cids is None:\n",
    "        cids = sorted(cids_in_df)\n",
    "    else:\n",
    "        print(f'Missing cross sections: ', set(cids) - set(cids_in_df))\n",
    "        cids = sorted(list(set(cids).intersection(set(cids_in_df))))\n",
    "        dfx = dfx[dfx['cid'].isin(cids)]\n",
    "\n",
    "    xdates = dfx['real_date'].unique()\n",
    "    if score_date is None:\n",
    "        sdate = max(xdates)\n",
    "    else:\n",
    "        sdate = max(xdates[xdates <= pd.to_datetime(score_date)])  # actual score date considering weekends\n",
    "\n",
    "    dfxx = dfx[dfx['real_date'] == sdate]\n",
    "\n",
    "    df_tab = dfxx.pivot(index='cid', columns='cat', values='value').clip(upper = thresh, lower = -thresh)\n",
    "    df_tab = df_tab[xcats]\n",
    "\n",
    "    if rank:\n",
    "        df_tab = df_tab.loc[df_tab.mean(axis=1).reset_index().sort_values(0, ascending=False)['cid'], :]\n",
    "\n",
    "    fig, ax = plt.subplots(figsize=(len(xcats) * 3, len(cids)/1.5))\n",
    "    ax = sns.heatmap(df_tab, cmap=\"vlag_r\", center=0)\n",
    "    ax.set(xlabel='', ylabel = '')\n",
    "    plt.yticks(rotation=0)\n",
    "    ax.set_title(f'{header} {score_date}', {'fontsize': 16})\n",
    "    plt.show()"
   ]
  },
  {
   "cell_type": "code",
   "execution_count": 11,
   "metadata": {},
   "outputs": [],
   "source": [
    "def historic_score(df, xcats, cid, score_date, start_date='2000-01-01', freq='Y', agg = 'avg', \n",
    "                   header='Feature space', thresh=4):\n",
    "    \n",
    "    filt1 = df['cat'].isin(xcats)\n",
    "    filt2 = df['cid'] == cid\n",
    "    filt3 = df['real_date'] <= pd.to_datetime(score_date)\n",
    "    filt4 = df['real_date'] >= pd.to_datetime(start_date)\n",
    "    dfx = df[filt1 & filt2 & filt3 & filt4][['cat', 'real_date', 'value']]\n",
    "\n",
    "    if agg == 'eop':\n",
    "        dfxa = dfx.groupby('cat').resample(freq, on='real_date').last()['value'].reset_index()\n",
    "        dfxa = dfxa[dfxa['real_date'] < pd.to_datetime(score_date)]\n",
    "    elif agg == 'avg':\n",
    "        dfxa = dfx.groupby('cat').resample(freq, on='real_date').mean().reset_index()\n",
    "        dfxa = dfxa[dfxa['real_date'] < pd.to_datetime(score_date)]\n",
    "    dfxl = dfx[dfx['real_date'] == pd.to_datetime(score_date)]\n",
    "    dfxx = pd.concat([dfxa, dfxl]).sort_values(['cat', 'real_date', 'value']).reset_index(drop=True)\n",
    "\n",
    "    df_tab = dfxx.pivot(index='real_date', columns='cat', values='value').clip(upper = thresh, lower = -thresh)\n",
    "    df_tab = df_tab[xcats]\n",
    "    df_tab.index = df_tab.index.strftime('%Y-%m-%d')\n",
    "\n",
    "    dic_freq = {'M':'monthly', 'Q': 'quarterly', 'Y': 'annual'}\n",
    "    dic_agg = {'avg':'averages', 'eop': 'period ends'}\n",
    "\n",
    "    fig, ax = plt.subplots(figsize=(len(xcats) * 3, len(df_tab)/2.5))\n",
    "    ax = sns.heatmap(df_tab, cmap=\"vlag_r\", center=0)\n",
    "    ax.set(xlabel='', ylabel = '')\n",
    "    ax.set_title(f'{header} for {cid}: {score_date} and previous {dic_freq[freq]} {dic_agg[agg]}', {'fontsize': 12})\n",
    "    plt.show()"
   ]
  },
  {
   "cell_type": "code",
   "execution_count": 12,
   "metadata": {},
   "outputs": [],
   "source": [
    "def timeline_grid(df, xcats, start_year=2000, cids=None, val='value', ncol=3, same_y=False):\n",
    "    \"\"\"Plot grid of timelines of one or more extended categories across sections\"\"\"\n",
    "    \n",
    "    filt1 = df['real_date'].dt.year >= start_year\n",
    "    filt2 = df['cat'].isin(xcats)\n",
    "    \n",
    "    dfx = df[filt1 & filt2]\n",
    "    \n",
    "    cids_in_df = dfx['cid'].unique()\n",
    "    if cids is None:\n",
    "        cids = sorted(cids_in_df)\n",
    "    else:\n",
    "        print(f'Missing cross sections: ', set(cids) - set(cids_in_df))\n",
    "        cids = sorted(list(set(cids).intersection(set(cids_in_df))))\n",
    "        dfx = dfx[dfx['cid'].isin(cids)]    \n",
    "\n",
    "    sns.set(rc={'figure.figsize':(12, 7)}, style = 'whitegrid')\n",
    "    fg = sns.FacetGrid(dfx, col='cid', col_wrap = ncol, sharey=same_y, aspect = 1.7, col_order = cids)\n",
    "    fg.map_dataframe(sns.lineplot, x='real_date', y=val, hue='cat', ci=None)\n",
    "    fg.map(plt.axhline, y=0, c=\".5\")\n",
    "    fg.set_titles(col_template='{col_name}')\n",
    "    fg.add_legend()\n",
    "    plt.show()"
   ]
  },
  {
   "cell_type": "markdown",
   "metadata": {},
   "source": [
    "## Transformations"
   ]
  },
  {
   "cell_type": "markdown",
   "metadata": {},
   "source": [
    "### Panel arithmetics and zn-scoring"
   ]
  },
  {
   "cell_type": "code",
   "execution_count": 13,
   "metadata": {},
   "outputs": [],
   "source": [
    "ndqa = qsi.NDQA(cids)\n",
    "ndqa.into_nd(dfd)"
   ]
  },
  {
   "cell_type": "code",
   "execution_count": 14,
   "metadata": {},
   "outputs": [],
   "source": [
    "%%capture\n",
    "difs = ['XCPIH_SJA_P6M6ML6AR = CPIH_SJA_P6M6ML6AR - INFTEFF_NSA',\n",
    "        'XCPIC_SJA_P6M6ML6AR = CPIC_SJA_P6M6ML6AR - INFTEFF_NSA',\n",
    "        'RPCREDITBN_SJA_P1M1ML12 = PCREDITBN_SJA_P1M1ML12 - INFTEFF_NSA']\n",
    "\n",
    "dfd_difs = ndqa.calc_out(difs, cross_section=cids_exp)"
   ]
  },
  {
   "cell_type": "code",
   "execution_count": 15,
   "metadata": {},
   "outputs": [],
   "source": [
    "%%capture\n",
    "vusd = ['GROWTH_vBM = INTRGDP_NSA_P1M1ML12_3MMA - :USD_INTRGDP_NSA_P1M1ML12_3MMA',\n",
    "        'CREDITGROWTH_vBM = RPCREDITBN_SJA_P1M1ML12 - :USD_RPCREDITBN_SJA_P1M1ML12',\n",
    "        'CREDITXP_vBM = PCREDITGDP_SJA_D1M1ML12 - :USD_PCREDITGDP_SJA_D1M1ML12']\n",
    "dfd_vusd = ndqa.calc_out(vusd, cross_section=cids_usfx)\n",
    "\n",
    "veur = ['GROWTH_vBM = INTRGDP_NSA_P1M1ML12_3MMA - :EUR_INTRGDP_NSA_P1M1ML12_3MMA',\n",
    "        'CREDITGROWTH_vBM = RPCREDITBN_SJA_P1M1ML12 - :EUR_RPCREDITBN_SJA_P1M1ML12',\n",
    "        'CREDITXP_vBM = PCREDITGDP_SJA_D1M1ML12 - :EUR_PCREDITGDP_SJA_D1M1ML12']\n",
    "dfd_veur = ndqa.calc_out(veur, cross_section=cids_eufx)\n",
    "vg2 = ['GROWTH_vBM = INTRGDP_NSA_P1M1ML12_3MMA - 0.5 * (:EUR_INTRGDP_NSA_P1M1ML12_3MMA + :USD_INTRGDP_NSA_P1M1ML12_3MMA)',\n",
    "       'CREDITGROWTH_vBM = RPCREDITBN_SJA_P1M1ML12 - 0.5 * (:EUR_RPCREDITBN_SJA_P1M1ML12 + :USD_RPCREDITBN_SJA_P1M1ML12)',\n",
    "       'CREDITXP_vBM = PCREDITGDP_SJA_D1M1ML12 - 0.5 * (:EUR_PCREDITGDP_SJA_D1M1ML12 + :USD_PCREDITGDP_SJA_D1M1ML12)']\n",
    "dfd_vg2 = ndqa.calc_out(vg2, cross_section=cids_g2fx)\n",
    "\n",
    "dfd_rbm = pd.concat([dfd_vusd, dfd_veur, dfd_vg2])"
   ]
  },
  {
   "cell_type": "code",
   "execution_count": 16,
   "metadata": {},
   "outputs": [],
   "source": [
    "beta_mean = dfd.loc[dfd['cat']=='FXXRBETAvGDRB_NSA', 'value'].mean()\n",
    "dfd.loc[dfd['cat']=='FXXRBETAvGDRB_NSA', 'value'] = dfd.loc[dfd['cat']=='FXXRBETAvGDRB_NSA', 'value'] - beta_mean\n",
    "dfd.loc[dfd['cat']=='FXXRBETAvGDRB_NSA', 'cat'] = 'XBETA'"
   ]
  },
  {
   "cell_type": "code",
   "execution_count": 17,
   "metadata": {},
   "outputs": [],
   "source": [
    "dfd_add = pd.concat([dfd_difs, dfd_rbm]).drop_duplicates(keep='last').reset_index(drop=True)\n",
    "dfd = dfd.append(dfd_add).drop_duplicates(keep='last').reset_index(drop=True)"
   ]
  },
  {
   "cell_type": "code",
   "execution_count": 18,
   "metadata": {},
   "outputs": [],
   "source": [
    "xcats_cid = ['XCPIH_SJA_P6M6ML6AR', 'XCPIC_SJA_P6M6ML6AR']  # xcats normalized by cross-section mean absolute value\n",
    "dfd_znc = znscore(dfd, xcats=xcats_cid, start='2002-01-01', pw=0)\n",
    "\n",
    "xcats_pan = ['BXBGDPRATIO_NSA_12MMA', 'MTBGDPRATIO_NSA_12MMA_D1M1ML3', \n",
    "             'GROWTH_vBM', 'CREDITGROWTH_vBM', 'CREDITXP_vBM ',\n",
    "             'RIRvBM_NSA', 'FXCRR_NSA', \n",
    "             'NEER_NSA_P1M1ML12', 'REER_NSA_P1M60ML1', 'XBETA']  # xcats normalized by cs mean absolute value\n",
    "dfd_znp = znscore(dfd, xcats=xcats_pan, start='2002-01-01', pw=1, signs = [1]*7+[-1]*3)\n",
    "dfd_zn = pd.concat([dfd_znc, dfd_znp]).reset_index(drop=True)"
   ]
  },
  {
   "cell_type": "markdown",
   "metadata": {},
   "source": [
    "### Grouping and repeat z-scoring"
   ]
  },
  {
   "cell_type": "code",
   "execution_count": 19,
   "metadata": {},
   "outputs": [
    {
     "name": "stdout",
     "output_type": "stream",
     "text": [
      "Missing cross sections:  set()\n",
      "Missing cross sections:  set()\n",
      "Missing cross sections:  {'USD'}\n",
      "Missing cross sections:  {'USD'}\n",
      "Missing cross sections:  set()\n"
     ]
    }
   ],
   "source": [
    "xcats_inpr = ['XCPIH_SJA_P6M6ML6ARZN', 'XCPIC_SJA_P6M6ML6ARZN']\n",
    "dfd_inpr = group_zn(dfd_zn, xcats = xcats_inpr, cids = cids_exp, gname = 'INF_PRESSURE_ZN', re_zn = True)\n",
    "xcats_xbal = ['BXBGDPRATIO_NSA_12MMAZN', 'MTBGDPRATIO_NSA_12MMA_D1M1ML3ZN']\n",
    "dfd_xbal = group_zn(dfd_zn, xcats = xcats_xbal, cids = cids_exp, gname = 'XBAL_STRENGTH_ZN', re_zn = True)\n",
    "xcats_xpcr = ['CREDITGROWTH_vBMZN', 'CREDITXP_vBMZN']\n",
    "dfd_xpcr = group_zn(dfd_zn, xcats = xcats_xpcr, cids = cids_exp, gname = 'PCREDIT_vBM_ZN', re_zn = True)\n",
    "xcats_rird = ['RIRvBM_NSAZN', 'FXCRR_NSAZN']\n",
    "dfd_rird = group_zn(dfd_zn, xcats = xcats_rird, cids = cids_exp, gname = 'RIR_vBM_ZN', re_zn = True)\n",
    "xcats_fxwk = ['NEER_NSA_P1M1ML12ZNN', 'REER_NSA_P1M60ML1ZNN']\n",
    "dfd_fxwk = group_zn(dfd_zn, xcats = xcats_fxwk, cids = cids_exp, gname = 'FXWEAK_ZN', re_zn = True)\n",
    "\n",
    "df_list = [dfd_inpr, dfd_xbal, dfd_xpcr, dfd_rird, dfd_fxwk]\n",
    "dfd_zn = dfd_zn.append(pd.concat(df_list)).drop_duplicates(keep='last').reset_index(drop=True)"
   ]
  },
  {
   "cell_type": "code",
   "execution_count": 20,
   "metadata": {},
   "outputs": [
    {
     "data": {
      "text/plain": [
       "array(['XCPIH_SJA_P6M6ML6ARZN', 'XCPIC_SJA_P6M6ML6ARZN',\n",
       "       'BXBGDPRATIO_NSA_12MMAZN', 'MTBGDPRATIO_NSA_12MMA_D1M1ML3ZN',\n",
       "       'GROWTH_vBMZN', 'CREDITGROWTH_vBMZN', 'RIRvBM_NSAZN',\n",
       "       'FXCRR_NSAZN', 'NEER_NSA_P1M1ML12ZNN', 'REER_NSA_P1M60ML1ZNN',\n",
       "       'XBETAZNN', 'INF_PRESSURE_ZN', 'XBAL_STRENGTH_ZN',\n",
       "       'PCREDIT_vBM_ZN', 'RIR_vBM_ZN', 'FXWEAK_ZN'], dtype=object)"
      ]
     },
     "execution_count": 20,
     "metadata": {},
     "output_type": "execute_result"
    }
   ],
   "source": [
    "dfd_zn['cat'].unique()"
   ]
  },
  {
   "cell_type": "markdown",
   "metadata": {},
   "source": [
    "### Visual checks of scores"
   ]
  },
  {
   "cell_type": "code",
   "execution_count": 21,
   "metadata": {},
   "outputs": [
    {
     "ename": "TypeError",
     "evalue": "timeline_grid() got an unexpected keyword argument 'hue'",
     "output_type": "error",
     "traceback": [
      "\u001b[1;31m---------------------------------------------------------------------------\u001b[0m",
      "\u001b[1;31mTypeError\u001b[0m                                 Traceback (most recent call last)",
      "\u001b[1;32m<ipython-input-21-fb291f40f320>\u001b[0m in \u001b[0;36m<module>\u001b[1;34m\u001b[0m\n\u001b[1;32m----> 1\u001b[1;33m timeline_grid(dfd_zn, xcats=['XBETAZNN','RIR_vBM_ZN'], start_year=2002, cids=cids_fx, \n\u001b[0m\u001b[0;32m      2\u001b[0m               hue='cat', same_y=False)\n",
      "\u001b[1;31mTypeError\u001b[0m: timeline_grid() got an unexpected keyword argument 'hue'"
     ]
    }
   ],
   "source": [
    "timeline_grid(dfd_zn, xcats=['XBETAZNN','RIR_vBM_ZN'], start_year=2002, cids=cids_fx, \n",
    "              hue='cat', same_y=False)"
   ]
  },
  {
   "cell_type": "markdown",
   "metadata": {},
   "source": [
    "## Scores"
   ]
  },
  {
   "cell_type": "markdown",
   "metadata": {},
   "source": [
    "### Global feature scores"
   ]
  },
  {
   "cell_type": "code",
   "execution_count": 22,
   "metadata": {},
   "outputs": [],
   "source": [
    "fx_macro=['GROWTH_vBMZN', 'INF_PRESSURE_ZN', 'XBAL_STRENGTH_ZN', 'PCREDIT_vBM_ZN']\n",
    "fx_value=['FXWEAK_ZN', 'RIR_vBM_ZN', 'XBETAZNN']\n",
    "fx_space = fx_macro + fx_value"
   ]
  },
  {
   "cell_type": "code",
   "execution_count": 27,
   "metadata": {},
   "outputs": [
    {
     "name": "stdout",
     "output_type": "stream",
     "text": [
      "Missing cross sections:  set()\n"
     ]
    },
    {
     "data": {
      "image/png": "[encoded data removed]",
      "text/plain": [
       "<Figure size 1512x1440 with 2 Axes>"
      ]
     },
     "metadata": {
      "needs_background": "light"
     },
     "output_type": "display_data"
    }
   ],
   "source": [
    "global_score(dfd_zn, xcats=fx_space, cids=cids_fx, score_date='2021-04-01', rank=True, \n",
    "             header='FX macro feature space', thresh = 3)"
   ]
  },
  {
   "cell_type": "markdown",
   "metadata": {
    "heading_collapsed": true
   },
   "source": [
    "### Historic feature scores "
   ]
  },
  {
   "cell_type": "code",
   "execution_count": null,
   "metadata": {
    "hidden": true
   },
   "outputs": [],
   "source": [
    "historic_score(dfd_zn, xcats=fx_space, cid='CHF', score_date='2021-03-15', start_date='2006-01-01', \n",
    "               freq='Q', agg = 'avg', \n",
    "               header='FX feature space', thresh=3)"
   ]
  },
  {
   "cell_type": "markdown",
   "metadata": {},
   "source": [
    "## Export"
   ]
  },
  {
   "cell_type": "code",
   "execution_count": null,
   "metadata": {},
   "outputs": [],
   "source": [
    "dfd_zn.to_feather(f'{path_to_feather}dfd_fxmacro_zn.ftr')"
   ]
  }
 ],
 "metadata": {
  "kernelspec": {
   "display_name": "Python 3",
   "language": "python",
   "name": "python3"
  },
  "language_info": {
   "codemirror_mode": {
    "name": "ipython",
    "version": 3
   },
   "file_extension": ".py",
   "mimetype": "text/x-python",
   "name": "python",
   "nbconvert_exporter": "python",
   "pygments_lexer": "ipython3",
   "version": "3.8.3"
  }
 },
 "nbformat": 4,
 "nbformat_minor": 4
}
