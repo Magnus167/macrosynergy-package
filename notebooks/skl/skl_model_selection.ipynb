{
 "cells": [
  {
   "cell_type": "markdown",
   "metadata": {},
   "source": [
    "## Get the data"
   ]
  },
  {
   "cell_type": "code",
   "execution_count": 1,
   "metadata": {},
   "outputs": [],
   "source": [
    "import pandas as pd\n",
    "import numpy as np\n",
    "import matplotlib.pyplot as plt\n",
    "import seaborn as sns\n",
    "\n",
    "from sklearn import datasets\n",
    "from sklearn.model_selection import train_test_split\n",
    "from sklearn.linear_model import LinearRegression\n",
    "from sklearn.linear_model import LogisticRegression\n",
    "from sklearn.neighbors import KNeighborsClassifier\n",
    "from sklearn.tree import DecisionTreeClassifier\n",
    "\n",
    "import warnings\n",
    "warnings.simplefilter('ignore')"
   ]
  },
  {
   "cell_type": "markdown",
   "metadata": {},
   "source": [
    "## Cross validation: k-fold CV"
   ]
  },
  {
   "cell_type": "markdown",
   "metadata": {},
   "source": [
    "The purpose of testing is to estimate a models quality of predicting data out of sample. A single train-test split of the data bears the risk of not being representative for a model's ability to generalize. Hence, where possible, multiple splits are preferred. An unordered dataset is typically split into folds. <u>Out of k folds each one is used as test set in turn</u>. There are as many train-test splits and scores as there are folds.\n",
    "\n",
    "This maximizes the amount of data that is used to train the model, as during the course of training, the model is not only trained, but also tested on all of the available data. However, <u>the number of folds also determines the computational cost</u>."
   ]
  },
  {
   "cell_type": "code",
   "execution_count": 2,
   "metadata": {},
   "outputs": [
    {
     "name": "stdout",
     "output_type": "stream",
     "text": [
      "[ 0.63919994  0.71386698  0.58702344  0.07923081 -0.25294154]\n"
     ]
    }
   ],
   "source": [
    "from sklearn.model_selection import cross_val_score\n",
    "\n",
    "boston_X, boston_y = datasets.load_boston(return_X_y=True)\n",
    "\n",
    "reg = LinearRegression()\n",
    "cv_results = cross_val_score(reg, boston_X, boston_y, cv=5)  # gives array of R2s\n",
    "print(cv_results)"
   ]
  },
  {
   "cell_type": "markdown",
   "metadata": {},
   "source": [
    "## Hyperparameter tuning"
   ]
  },
  {
   "cell_type": "markdown",
   "metadata": {
    "heading_collapsed": true
   },
   "source": [
    "### Basics"
   ]
  },
  {
   "cell_type": "markdown",
   "metadata": {
    "hidden": true
   },
   "source": [
    "Hyperparameters are parameters that cannot be directley learned by fitting a model. Hyperparameter tuning chooses these parameters based on the success of the related model.\n",
    "\n",
    "In scikit-learn hyperparameters are passed as arguments to the constructor of the estimator class. Examples include `C`, `kernel` and `gamma` for Support Vector Classifier and `alpha` (coefficient penalty) for Lasso.\n",
    "\n",
    "One can search the hyper-parameter space for the best cross validation score. Any parameter provided when constructing an estimator may be optimized in this manner. To find names and values of all parameters for a given estimator one can use `estimator.get_params()`."
   ]
  },
  {
   "cell_type": "code",
   "execution_count": 3,
   "metadata": {
    "hidden": true
   },
   "outputs": [
    {
     "data": {
      "text/plain": [
       "{'algorithm': 'auto',\n",
       " 'leaf_size': 30,\n",
       " 'metric': 'minkowski',\n",
       " 'metric_params': None,\n",
       " 'n_jobs': None,\n",
       " 'n_neighbors': 5,\n",
       " 'p': 2,\n",
       " 'weights': 'uniform'}"
      ]
     },
     "execution_count": 3,
     "metadata": {},
     "output_type": "execute_result"
    }
   ],
   "source": [
    "knn = KNeighborsClassifier()\n",
    "knn.get_params()"
   ]
  },
  {
   "cell_type": "markdown",
   "metadata": {},
   "source": [
    "### Grid search"
   ]
  },
  {
   "cell_type": "markdown",
   "metadata": {},
   "source": [
    "A basic method for hyperparameter optimization is grid search. A <u>grid refers to combinations of plausible hyperparameter values</u>. The combination is then determined through a 'grid search'. The `sklearn` documentation shows the names of each model's hyperparameters."
   ]
  },
  {
   "cell_type": "markdown",
   "metadata": {},
   "source": [
    "**Example 1**: Find in-sample optimal number of neighbors for knn classifier with `GridSearchCV`."
   ]
  },
  {
   "cell_type": "code",
   "execution_count": 4,
   "metadata": {},
   "outputs": [
    {
     "name": "stdout",
     "output_type": "stream",
     "text": [
      "{'n_neighbors': 3}\n",
      "0.9714285714285715\n"
     ]
    }
   ],
   "source": [
    "X, y = datasets.load_iris(return_X_y=True) \n",
    "X_train, X_test, y_train, y_test = train_test_split(X, y, test_size=0.3, random_state=21, stratify=y)\n",
    "\n",
    "from sklearn.model_selection import GridSearchCV\n",
    "\n",
    "param_grid = {'n_neighbors': np.arange(1, 50)}  # grid is specified as dictionary of key-range pairs\n",
    "knn = KNeighborsClassifier()  # initiate estimator\n",
    "\n",
    "knn_cv = GridSearchCV(knn, param_grid, cv=5)  # initiate grid search object\n",
    "knn_cv.fit(X_train, y_train)  # fit performs the actual grid search in place\n",
    "print(knn_cv.best_params_)  # return the most successful hyperparameters\n",
    "print(knn_cv.best_score_)  # return the score (here accuracy) of the most successful hyperparameters"
   ]
  },
  {
   "cell_type": "markdown",
   "metadata": {},
   "source": [
    "**Example 2**: Find historically optimal regularization parameter for logistic regression"
   ]
  },
  {
   "cell_type": "code",
   "execution_count": 5,
   "metadata": {},
   "outputs": [
    {
     "name": "stdout",
     "output_type": "stream",
     "text": [
      "Tuned Logistic Regression Parameters: {'C': 31.622776601683793}\n",
      "Best score is 0.9800000000000001\n"
     ]
    }
   ],
   "source": [
    "X, y = datasets.load_iris(return_X_y=True) \n",
    "X_train, X_test, y_train, y_test = train_test_split(X, y, test_size=0.3, random_state=21, stratify=y)\n",
    "\n",
    "from sklearn.model_selection import GridSearchCV\n",
    "\n",
    "param_grid = {'C': np.logspace(-5, 8, 15)}  # Setup the hyperparameter grid\n",
    "logreg = LogisticRegression()  # instantiate logistic regression classifier\n",
    "\n",
    "logreg_cv = GridSearchCV(logreg, param_grid, cv=5)  # instantiate the GridSearchCV object\n",
    "logreg_cv.fit(X, y)  # fit it to the data\n",
    "print(\"Tuned Logistic Regression Parameters: {}\".format(logreg_cv.best_params_)) \n",
    "print(\"Best score is {}\".format(logreg_cv.best_score_))"
   ]
  },
  {
   "cell_type": "markdown",
   "metadata": {},
   "source": [
    "Hyperparameter tuning should split out a test or **hold-out set** before the tuning. The hold-out set serves as basis for testing the predictive quality of the overall method we used, i.e. hypterparameter tuning and estimation."
   ]
  },
  {
   "cell_type": "code",
   "execution_count": 6,
   "metadata": {},
   "outputs": [
    {
     "name": "stdout",
     "output_type": "stream",
     "text": [
      "Tuned Logistic Regression Parameter: {'C': 3.727593720314938, 'penalty': 'l2'}\n",
      "Tuned Logistic Regression Accuracy: 0.97\n",
      "Test set accuracy: 0.97\n"
     ]
    }
   ],
   "source": [
    "X, y = datasets.load_iris(return_X_y=True) \n",
    "X_train, X_test, y_train, y_test = train_test_split(X, y, test_size=0.3, random_state=21, stratify=y)\n",
    "\n",
    "from sklearn.model_selection import GridSearchCV\n",
    "\n",
    "param_grid = {'C': np.logspace(-5, 8, 15), 'penalty': ['l1', 'l2']}  # Create the hyperparameter grid\n",
    "logreg = LogisticRegression()  # instantiate the logistic regression classifier\n",
    "\n",
    "logreg_cv = GridSearchCV(logreg, param_grid, cv=5)  # instantiate GridSearchCV object\n",
    "logreg_cv.fit(X_train, y_train)  # fit it to the training data to hyperparameter tuning\n",
    "\n",
    "print(\"Tuned Logistic Regression Parameter: {}\".format(logreg_cv.best_params_))\n",
    "print(\"Tuned Logistic Regression Accuracy: {:.2f}\".format(logreg_cv.best_score_))\n",
    "\n",
    "y_pred = logreg_cv.predict(X_test)  # predict for the holdout test set\n",
    "logreg_cv.score(X_test, y_test)  # checkout test accuracy\n",
    "print(\"Test set accuracy: {:.2f}\".format(logreg_cv.best_score_))"
   ]
  },
  {
   "cell_type": "markdown",
   "metadata": {},
   "source": [
    "### Randomized search"
   ]
  },
  {
   "cell_type": "markdown",
   "metadata": {},
   "source": [
    "GridSearchCV can be computationally too expensive when searching over a large multi-variate hyperparameter spaces. Randomized search with `RandomizedSearchCV` is a \"cheaper\" solution in which not all hyperparameter values are tried out. Instead, a fixed number of hyperparameter settings is sampled from specified probability distributions. \n",
    "\n",
    "For example, decision trees have many parameters that can be tuned, such as `max_features`, `max_depth`, and `min_samples_leaf`. This makes it an ideal use case for randomized search."
   ]
  },
  {
   "cell_type": "code",
   "execution_count": 7,
   "metadata": {},
   "outputs": [
    {
     "name": "stdout",
     "output_type": "stream",
     "text": [
      "Tuned Decision Tree Parameters: {'criterion': 'gini', 'max_depth': 3, 'max_features': 3, 'min_samples_leaf': 2}\n",
      "Best score is 0.96\n"
     ]
    }
   ],
   "source": [
    "from scipy.stats import randint\n",
    "from sklearn.model_selection import RandomizedSearchCV\n",
    "\n",
    "param_dist = {\"max_depth\": [3, None],  # set up the parameters and distributions to sample from\n",
    "              \"max_features\": randint(1, 9),\n",
    "              \"min_samples_leaf\": randint(1, 9),\n",
    "              \"criterion\": [\"gini\", \"entropy\"]}\n",
    "\n",
    "tree = DecisionTreeClassifier()  # instantiate a Decision Tree classifier\n",
    "tree_cv = RandomizedSearchCV(tree, param_dist, cv=5)  # instantiate the RandomizedSearchCV object\n",
    "tree_cv.fit(X, y)  # fit the RSCV object to the data\n",
    "\n",
    "print(\"Tuned Decision Tree Parameters: {}\".format(tree_cv.best_params_))\n",
    "print(\"Best score is {}\".format(tree_cv.best_score_))"
   ]
  },
  {
   "cell_type": "markdown",
   "metadata": {},
   "source": [
    "## Tryouts"
   ]
  },
  {
   "cell_type": "markdown",
   "metadata": {},
   "source": [
    "`GridSearch` typically uses full pipelines and grids of hyperparameters to perform cross validation. It is itself a model that can be fit that supports optimization of hyperparameters. "
   ]
  },
  {
   "cell_type": "code",
   "execution_count": 22,
   "metadata": {},
   "outputs": [
    {
     "name": "stdout",
     "output_type": "stream",
     "text": [
      "{'memory': None, 'steps': [('scale', StandardScaler()), ('model', KNeighborsRegressor())], 'verbose': False, 'scale': StandardScaler(), 'model': KNeighborsRegressor(), 'scale__copy': True, 'scale__with_mean': True, 'scale__with_std': True, 'model__algorithm': 'auto', 'model__leaf_size': 30, 'model__metric': 'minkowski', 'model__metric_params': None, 'model__n_jobs': None, 'model__n_neighbors': 5, 'model__p': 2, 'model__weights': 'uniform'}\n"
     ]
    }
   ],
   "source": [
    "from sklearn.neighbors import KNeighborsRegressor\n",
    "from sklearn.preprocessing import StandardScaler\n",
    "from sklearn.pipeline import Pipeline\n",
    "\n",
    "steps = [('scale', StandardScaler()), ('model', KNeighborsRegressor())]\n",
    "pipe = Pipeline(steps)\n",
    "print(pipe.get_params()) # view all settings of pipeline"
   ]
  },
  {
   "cell_type": "code",
   "execution_count": 23,
   "metadata": {},
   "outputs": [
    {
     "name": "stdout",
     "output_type": "stream",
     "text": [
      "<class 'pandas.core.frame.DataFrame'>\n",
      "RangeIndex: 10 entries, 0 to 9\n",
      "Data columns (total 12 columns):\n",
      " #   Column                    Non-Null Count  Dtype  \n",
      "---  ------                    --------------  -----  \n",
      " 0   mean_fit_time             10 non-null     float64\n",
      " 1   std_fit_time              10 non-null     float64\n",
      " 2   mean_score_time           10 non-null     float64\n",
      " 3   std_score_time            10 non-null     float64\n",
      " 4   param_model__n_neighbors  10 non-null     object \n",
      " 5   params                    10 non-null     object \n",
      " 6   split0_test_score         10 non-null     float64\n",
      " 7   split1_test_score         10 non-null     float64\n",
      " 8   split2_test_score         10 non-null     float64\n",
      " 9   mean_test_score           10 non-null     float64\n",
      " 10  std_test_score            10 non-null     float64\n",
      " 11  rank_test_score           10 non-null     int32  \n",
      "dtypes: float64(9), int32(1), object(2)\n",
      "memory usage: 1.0+ KB\n"
     ]
    }
   ],
   "source": [
    "param_grid = {'model__n_neighbors': [i for i in range(1, 11)]} \n",
    "mod = GridSearchCV(estimator = pipe,  # the etimator is the whole pipeline\n",
    "                  param_grid = param_grid,\n",
    "                  cv = 3)\n",
    "X, y = datasets.load_boston(return_X_y=True)\n",
    "mod.fit(X, y)\n",
    "df = pd.DataFrame(mod.cv_results_)  # pass output dictionary to pandas df\n",
    "df.info()"
   ]
  },
  {
   "cell_type": "code",
   "execution_count": 21,
   "metadata": {},
   "outputs": [
    {
     "data": {
      "text/html": [
       "<div>\n",
       "<style scoped>\n",
       "    .dataframe tbody tr th:only-of-type {\n",
       "        vertical-align: middle;\n",
       "    }\n",
       "\n",
       "    .dataframe tbody tr th {\n",
       "        vertical-align: top;\n",
       "    }\n",
       "\n",
       "    .dataframe thead th {\n",
       "        text-align: right;\n",
       "    }\n",
       "</style>\n",
       "<table border=\"1\" class=\"dataframe\">\n",
       "  <thead>\n",
       "    <tr style=\"text-align: right;\">\n",
       "      <th></th>\n",
       "      <th>param_model__n_neighbors</th>\n",
       "      <th>mean_test_score</th>\n",
       "      <th>std_test_score</th>\n",
       "    </tr>\n",
       "    <tr>\n",
       "      <th>rank_test_score</th>\n",
       "      <th></th>\n",
       "      <th></th>\n",
       "      <th></th>\n",
       "    </tr>\n",
       "  </thead>\n",
       "  <tbody>\n",
       "    <tr>\n",
       "      <th>1</th>\n",
       "      <td>3</td>\n",
       "      <td>0.402900</td>\n",
       "      <td>0.064986</td>\n",
       "    </tr>\n",
       "    <tr>\n",
       "      <th>2</th>\n",
       "      <td>8</td>\n",
       "      <td>0.398003</td>\n",
       "      <td>0.155124</td>\n",
       "    </tr>\n",
       "    <tr>\n",
       "      <th>3</th>\n",
       "      <td>9</td>\n",
       "      <td>0.394387</td>\n",
       "      <td>0.165643</td>\n",
       "    </tr>\n",
       "    <tr>\n",
       "      <th>4</th>\n",
       "      <td>10</td>\n",
       "      <td>0.391870</td>\n",
       "      <td>0.184741</td>\n",
       "    </tr>\n",
       "    <tr>\n",
       "      <th>5</th>\n",
       "      <td>7</td>\n",
       "      <td>0.391216</td>\n",
       "      <td>0.123003</td>\n",
       "    </tr>\n",
       "    <tr>\n",
       "      <th>6</th>\n",
       "      <td>6</td>\n",
       "      <td>0.390532</td>\n",
       "      <td>0.116406</td>\n",
       "    </tr>\n",
       "    <tr>\n",
       "      <th>7</th>\n",
       "      <td>4</td>\n",
       "      <td>0.383619</td>\n",
       "      <td>0.083675</td>\n",
       "    </tr>\n",
       "    <tr>\n",
       "      <th>8</th>\n",
       "      <td>5</td>\n",
       "      <td>0.374286</td>\n",
       "      <td>0.103638</td>\n",
       "    </tr>\n",
       "    <tr>\n",
       "      <th>9</th>\n",
       "      <td>2</td>\n",
       "      <td>0.313246</td>\n",
       "      <td>0.101821</td>\n",
       "    </tr>\n",
       "    <tr>\n",
       "      <th>10</th>\n",
       "      <td>1</td>\n",
       "      <td>0.262522</td>\n",
       "      <td>0.127179</td>\n",
       "    </tr>\n",
       "  </tbody>\n",
       "</table>\n",
       "</div>"
      ],
      "text/plain": [
       "                param_model__n_neighbors  mean_test_score  std_test_score\n",
       "rank_test_score                                                          \n",
       "1                                      3         0.402900        0.064986\n",
       "2                                      8         0.398003        0.155124\n",
       "3                                      9         0.394387        0.165643\n",
       "4                                     10         0.391870        0.184741\n",
       "5                                      7         0.391216        0.123003\n",
       "6                                      6         0.390532        0.116406\n",
       "7                                      4         0.383619        0.083675\n",
       "8                                      5         0.374286        0.103638\n",
       "9                                      2         0.313246        0.101821\n",
       "10                                     1         0.262522        0.127179"
      ]
     },
     "execution_count": 21,
     "metadata": {},
     "output_type": "execute_result"
    }
   ],
   "source": [
    "df.set_index('rank_test_score')[['param_model__n_neighbors', 'mean_test_score', 'std_test_score']].sort_index()"
   ]
  },
  {
   "cell_type": "code",
   "execution_count": 9,
   "metadata": {},
   "outputs": [
    {
     "data": {
      "text/plain": [
       "[1, 2, 3, 4, 5, 6, 7, 8, 9, 10]"
      ]
     },
     "execution_count": 9,
     "metadata": {},
     "output_type": "execute_result"
    }
   ],
   "source": [
    "[i for i in range(1, 11)]"
   ]
  },
  {
   "cell_type": "markdown",
   "metadata": {},
   "source": [
    "https://www.youtube.com/watch?v=0B5eIE_1vpU\n",
    "\n",
    "https://www.youtube.com/watch?v=4PXAztQtoTg\n",
    "\n",
    "https://scikit-learn.org/stable/tutorial/index.html#tutorial-menu\n",
    "\n",
    "now:\n",
    "https://scikit-learn.org/stable/tutorial/statistical_inference/supervised_learning.html"
   ]
  }
 ],
 "metadata": {
  "kernelspec": {
   "display_name": "Python 3",
   "language": "python",
   "name": "python3"
  },
  "language_info": {
   "codemirror_mode": {
    "name": "ipython",
    "version": 3
   },
   "file_extension": ".py",
   "mimetype": "text/x-python",
   "name": "python",
   "nbconvert_exporter": "python",
   "pygments_lexer": "ipython3",
   "version": "3.8.3"
  }
 },
 "nbformat": 4,
 "nbformat_minor": 4
}
