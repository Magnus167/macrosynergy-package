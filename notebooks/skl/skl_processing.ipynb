{
 "cells": [
  {
   "cell_type": "markdown",
   "metadata": {},
   "source": [
    "## Get the data"
   ]
  },
  {
   "cell_type": "code",
   "execution_count": 1,
   "metadata": {},
   "outputs": [],
   "source": [
    "import pandas as pd\n",
    "import numpy as np\n",
    "import matplotlib.pyplot as plt\n",
    "import seaborn as sns\n",
    "\n",
    "from sklearn.model_selection import train_test_split\n",
    "from sklearn.model_selection import cross_val_score\n",
    "from sklearn.model_selection import GridSearchCV\n",
    "\n",
    "from sklearn.metrics import mean_squared_error\n",
    "from sklearn.metrics import balanced_accuracy_score\n",
    "\n",
    "from sklearn.linear_model import LogisticRegression\n",
    "\n",
    "from sklearn.neighbors import KNeighborsClassifier\n",
    "\n",
    "from sklearn import datasets\n",
    "iris_X, iris_y = datasets.load_iris(return_X_y=True)  # features and labels for classification\n",
    "boston_X, boston_y = datasets.load_boston(return_X_y=True)  # features and labels for regression\n",
    "\n",
    "import warnings\n",
    "warnings.simplefilter('ignore')"
   ]
  },
  {
   "cell_type": "markdown",
   "metadata": {},
   "source": [
    "## Transformations"
   ]
  },
  {
   "cell_type": "markdown",
   "metadata": {},
   "source": [
    "### Imputing values"
   ]
  },
  {
   "cell_type": "markdown",
   "metadata": {},
   "source": [
    "#### Filling in missing values"
   ]
  },
  {
   "cell_type": "markdown",
   "metadata": {},
   "source": [
    "Scikit-learn's `SimpleImputer` is a transformer for completing missing values.\n",
    "One needs to set a placeholder for the missing values. The default is `np.nan`. All its occurrences of will be imputed. \n",
    "\n",
    "For this we can instantiate an imputer object, a type of transformer object, fit it to the data, and apply the transformation."
   ]
  },
  {
   "cell_type": "code",
   "execution_count": 2,
   "metadata": {},
   "outputs": [
    {
     "name": "stdout",
     "output_type": "stream",
     "text": [
      "[[ 6.  1.  2.]\n",
      " [ 3.  6.  5.]\n",
      " [ 6.  7.  6.]\n",
      " [ 9. 10. 11.]]\n"
     ]
    }
   ],
   "source": [
    "X = pd.DataFrame(np.arange(0, 12, 1).reshape(4, 3))\n",
    "X.loc[0, 0] = X.loc[1, 1] = X.loc[2, 2]  = np.nan\n",
    "\n",
    "\n",
    "from sklearn.impute import SimpleImputer\n",
    "imp = SimpleImputer(missing_values=np.nan, strategy='mean')  # instantiate imputer\n",
    "imp.fit(X)  # fit the imputer on X\n",
    "X = imp.transform(X)  # impute all missing values in X\n",
    "print(X)\n"
   ]
  },
  {
   "cell_type": "markdown",
   "metadata": {},
   "source": [
    "### Scaling values"
   ]
  },
  {
   "cell_type": "markdown",
   "metadata": {},
   "source": [
    "#### Standardization"
   ]
  },
  {
   "cell_type": "markdown",
   "metadata": {},
   "source": [
    "The `StandardScaler` utility class standardizes features by simply subtracting their mean and scaling to unit variance. Scaled data has zero mean and unit variance. However, this transformation ignores other aspects of the distribution."
   ]
  },
  {
   "cell_type": "code",
   "execution_count": 3,
   "metadata": {},
   "outputs": [
    {
     "data": {
      "image/png": "[encoded data removed]",
      "text/plain": [
       "<Figure size 432x288 with 1 Axes>"
      ]
     },
     "metadata": {
      "needs_background": "light"
     },
     "output_type": "display_data"
    },
    {
     "data": {
      "image/png": "[encoded data removed]",
      "text/plain": [
       "<Figure size 432x288 with 1 Axes>"
      ]
     },
     "metadata": {
      "needs_background": "light"
     },
     "output_type": "display_data"
    }
   ],
   "source": [
    "from sklearn.preprocessing import StandardScaler\n",
    "scaled_X = StandardScaler().fit_transform(iris_X)  # transformation method\n",
    "ax = plt.scatter(iris_X[:, 0], iris_X[:, 1])\n",
    "plt.show()\n",
    "plt.scatter(scaled_X[:, 0], scaled_X[:, 1])\n",
    "plt.show()"
   ]
  },
  {
   "cell_type": "markdown",
   "metadata": {},
   "source": [
    "The utility class `StandardScaler` implements the Transformer API to compute the mean and standard deviation on a training set so as to be <u>able to later re-apply the same transformation on the testing set</u>. This class is hence suitable for use in the early steps of a Pipeline."
   ]
  },
  {
   "cell_type": "code",
   "execution_count": 4,
   "metadata": {},
   "outputs": [
    {
     "data": {
      "text/plain": [
       "0.96"
      ]
     },
     "execution_count": 4,
     "metadata": {},
     "output_type": "execute_result"
    }
   ],
   "source": [
    "from sklearn.datasets import make_classification  # generates random n-class classification set\n",
    "from sklearn.pipeline import make_pipeline  # shorthand for Pipeline constructor that does not take names\n",
    "\n",
    "X, y = make_classification(random_state=42)\n",
    "X_train, X_test, y_train, y_test = train_test_split(X, y, random_state=42)\n",
    "pipe = make_pipeline(StandardScaler(), LogisticRegression())\n",
    "pipe.fit(X_train, y_train)  # apply scaling on training data\n",
    "pipe.score(X_test, y_test)  # apply scaling on testing data, without leaking training data."
   ]
  },
  {
   "cell_type": "markdown",
   "metadata": {},
   "source": [
    "#### Quantile normalization"
   ]
  },
  {
   "cell_type": "markdown",
   "metadata": {},
   "source": [
    "A quantile transformer modifies features based on quantile information. It is based on the diea of **quantile normalization**, a technique for making two distributions identical in statistical properties. \n",
    "\n",
    "Scikit-Learn's `QuantileTransformer` transforms the features to follow a uniform or a normal distribution. All values will be between 0 and 1 indicating the quantile positions. Also, the transformation tends to spread out the most frequent values. It also reduces the impact of (marginal) outliers. It is therefore a robust preprocessing scheme."
   ]
  },
  {
   "cell_type": "code",
   "execution_count": 5,
   "metadata": {},
   "outputs": [
    {
     "data": {
      "image/png": "[encoded data removed]",
      "text/plain": [
       "<Figure size 432x288 with 1 Axes>"
      ]
     },
     "metadata": {
      "needs_background": "light"
     },
     "output_type": "display_data"
    }
   ],
   "source": [
    "from sklearn.preprocessing import QuantileTransformer\n",
    "scaled_X = QuantileTransformer().fit_transform(iris_X)  # transformation method\n",
    "ax = plt.scatter(scaled_X[:, 0], scaled_X[:, 1])\n",
    "plt.show()"
   ]
  },
  {
   "cell_type": "markdown",
   "metadata": {},
   "source": [
    "## Pipelines"
   ]
  },
  {
   "cell_type": "markdown",
   "metadata": {},
   "source": [
    "The machine learning process can be organized in pipelines. A `pipeline` is an object that combines transformations and a final estimation. In a pipeline each step before the last must be a **transformer**. The last step must be an **estimator**. Both transformers and estimators can learn from the data. <u>The relevant model for machine learning is typically a whole pipeline, rather than a single estimator</u>.\n",
    "\n",
    "Scikit-learn provides a pipeline constructor to piece together these steps and simplify the workflow code."
   ]
  },
  {
   "cell_type": "code",
   "execution_count": 6,
   "metadata": {},
   "outputs": [
    {
     "data": {
      "text/plain": [
       "1.0"
      ]
     },
     "execution_count": 6,
     "metadata": {},
     "output_type": "execute_result"
    }
   ],
   "source": [
    "from sklearn.pipeline import Pipeline\n",
    "from sklearn.impute import SimpleImputer\n",
    "\n",
    "imp = SimpleImputer(missing_values=np.nan, strategy='mean')  # initiate imputer for step 1\n",
    "logreg = LogisticRegression()  # initiate logistic regression for step 2\n",
    "steps = [('imputation', imp), ('logistic_regression', logreg)]  # list of name/estimator two-tuples\n",
    "pipeline = Pipeline(steps)  # initiate pipeline\n",
    "\n",
    "X_train, X_test, y_train, y_test = train_test_split(iris_X, iris_y, test_size=0.3, random_state=42)\n",
    "pipeline.fit(X_train, y_train)  # fit pipeline, not estimator, to the training set\n",
    "y_pred = pipeline.predict(X_test)  # use pipeline, not estimator, for prediction\n",
    "\n",
    "balanced_accuracy_score(y_pred, y_test)"
   ]
  },
  {
   "cell_type": "markdown",
   "metadata": {},
   "source": [
    "## Tryouts"
   ]
  }
 ],
 "metadata": {
  "kernelspec": {
   "display_name": "Python 3",
   "language": "python",
   "name": "python3"
  },
  "language_info": {
   "codemirror_mode": {
    "name": "ipython",
    "version": 3
   },
   "file_extension": ".py",
   "mimetype": "text/x-python",
   "name": "python",
   "nbconvert_exporter": "python",
   "pygments_lexer": "ipython3",
   "version": "3.8.3"
  }
 },
 "nbformat": 4,
 "nbformat_minor": 4
}
